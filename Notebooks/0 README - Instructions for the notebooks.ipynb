{
 "cells": [
  {
   "cell_type": "markdown",
   "metadata": {},
   "source": [
    "# Hello!"
   ]
  },
  {
   "cell_type": "markdown",
   "metadata": {},
   "source": [
    "Hi! My name is Axel MARMORET, and you're probably here because you read the article \"Uncovering Audio Patterns in Music with Nonnegative Tucker Decomposition for Structural Segmentation\" we wrote with some of my colleagues.\n",
    "\n",
    "If not, I strongly encourage you to read it, as these notebooks are here to complete it, and don't reexplain the what, why and how of NTD for Music Segmentation."
   ]
  },
  {
   "cell_type": "markdown",
   "metadata": {},
   "source": [
    "More particularly, this folder contains notebooks destined to answer technical questions and/or explain choices about this technique."
   ]
  },
  {
   "cell_type": "markdown",
   "metadata": {},
   "source": [
    "Initially, these notebooks were destined to share the work done in the research team, and not publicly shared. In that sense, code wasn't designed to be clean but only to do a precise task, and the notebooks focus on its outputs and not in the code itself. Hence, code might seem, at least, \"blurry\", and some might say \"ugly\". It also explains why most code used in these notebooks belongs to the file \"hide_code.py\"."
   ]
  },
  {
   "cell_type": "markdown",
   "metadata": {},
   "source": [
    "These notebooks are presented in two formats:\n",
    " - HTML, if you only need to read them,\n",
    " - notebooks, if you want to reproduce the outputs.\n",
    "\n",
    "Be aware, if you're aiming at reproducing results, that notebooks weren't updated after computation, and some code in the first notebooks is already outdated at that time, so it might not work. If it's the case, please report me the problem at my mail adress: axel.marmoret_at_inria.fr.\n",
    "\n",
    "I will try to correct the problems in future versions.\n",
    "\n",
    "Another difficulty in reproductibility is that, due to heavy computational costs, NTD results and some deterministic tasks (for example, spectrogram computation) were persisted on my machine, so as to reuse the results and avoid recomputation. In that sense, \"Path not found\" errors could occur and, in that case too, feel free to advise me of them! Path are hard-coded in the file \"hide_code.py\"."
   ]
  },
  {
   "cell_type": "markdown",
   "metadata": {},
   "source": [
    "Apart from that, it should work, so feel free to play with them ! :)"
   ]
  },
  {
   "cell_type": "markdown",
   "metadata": {},
   "source": [
    "**Disclaimer: may contain traces of French.**"
   ]
  }
 ],
 "metadata": {
  "kernelspec": {
   "display_name": "Python 3",
   "language": "python",
   "name": "python3"
  },
  "language_info": {
   "codemirror_mode": {
    "name": "ipython",
    "version": 3
   },
   "file_extension": ".py",
   "mimetype": "text/x-python",
   "name": "python",
   "nbconvert_exporter": "python",
   "pygments_lexer": "ipython3",
   "version": "3.7.6"
  },
  "toc": {
   "base_numbering": 1,
   "nav_menu": {},
   "number_sections": true,
   "sideBar": true,
   "skip_h1_title": false,
   "title_cell": "Table of Contents",
   "title_sidebar": "Contents",
   "toc_cell": false,
   "toc_position": {},
   "toc_section_display": true,
   "toc_window_display": false
  },
  "varInspector": {
   "cols": {
    "lenName": 16,
    "lenType": 16,
    "lenVar": 40
   },
   "kernels_config": {
    "python": {
     "delete_cmd_postfix": "",
     "delete_cmd_prefix": "del ",
     "library": "var_list.py",
     "varRefreshCmd": "print(var_dic_list())"
    },
    "r": {
     "delete_cmd_postfix": ") ",
     "delete_cmd_prefix": "rm(",
     "library": "var_list.r",
     "varRefreshCmd": "cat(var_dic_list()) "
    }
   },
   "types_to_exclude": [
    "module",
    "function",
    "builtin_function_or_method",
    "instance",
    "_Feature"
   ],
   "window_display": false
  }
 },
 "nbformat": 4,
 "nbformat_minor": 4
}
