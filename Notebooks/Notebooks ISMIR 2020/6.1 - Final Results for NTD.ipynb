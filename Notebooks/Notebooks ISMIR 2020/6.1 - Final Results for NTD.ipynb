{
 "cells": [
  {
   "cell_type": "code",
   "execution_count": 1,
   "metadata": {
    "ExecuteTime": {
     "end_time": "2020-08-07T14:14:21.479969Z",
     "start_time": "2020-08-07T14:14:20.870869Z"
    }
   },
   "outputs": [
    {
     "name": "stderr",
     "output_type": "stream",
     "text": [
      "C:\\Users\\amarmore\\AppData\\Local\\Continuum\\anaconda3\\envs\\NTD_segmentation\\lib\\site-packages\\librosa\\util\\decorators.py:9: NumbaDeprecationWarning: \u001b[1mAn import was requested from a module that has moved location.\n",
      "Import requested from: 'numba.decorators', please update to use 'numba.core.decorators' or pin to Numba version 0.48.0. This alias will not be present in Numba version 0.50.0.\u001b[0m\n",
      "  from numba.decorators import jit as optional_jit\n",
      "C:\\Users\\amarmore\\AppData\\Local\\Continuum\\anaconda3\\envs\\NTD_segmentation\\lib\\site-packages\\librosa\\util\\decorators.py:9: NumbaDeprecationWarning: \u001b[1mAn import was requested from a module that has moved location.\n",
      "Import of 'jit' requested from: 'numba.decorators', please update to use 'numba.core.decorators' or pin to Numba version 0.48.0. This alias will not be present in Numba version 0.50.0.\u001b[0m\n",
      "  from numba.decorators import jit as optional_jit\n"
     ]
    }
   ],
   "source": [
    "from musicntd.model.current_plot import *\n",
    "import musicntd.scripts.final_tests as test\n",
    "import musicntd.autosimilarity_segmentation as as_seg\n",
    "import musicntd.scripts.hide_code\n",
    "import pandas as pd"
   ]
  },
  {
   "cell_type": "markdown",
   "metadata": {},
   "source": [
    "# Final results"
   ]
  },
  {
   "cell_type": "markdown",
   "metadata": {},
   "source": [
    "In this notebook are presented our final segmentation results for this version of the code. These are the results presented in the paper."
   ]
  },
  {
   "cell_type": "markdown",
   "metadata": {},
   "source": [
    "## Parameters"
   ]
  },
  {
   "cell_type": "code",
   "execution_count": 2,
   "metadata": {
    "ExecuteTime": {
     "end_time": "2020-08-07T14:14:23.513887Z",
     "start_time": "2020-08-07T14:14:23.510895Z"
    }
   },
   "outputs": [],
   "source": [
    "# Fixed hyperparams\n",
    "subdivision = 96\n",
    "annotations_type = \"MIREX10\"\n",
    "penalty_func = \"modulo8\" # \"Favouring 8, then modulo 4\""
   ]
  },
  {
   "cell_type": "code",
   "execution_count": 3,
   "metadata": {
    "ExecuteTime": {
     "end_time": "2020-08-07T14:14:24.563598Z",
     "start_time": "2020-08-07T14:14:24.559622Z"
    }
   },
   "outputs": [],
   "source": [
    "# Paths\n",
    "entire_rwc = \"C:\\\\Users\\\\amarmore\\\\Desktop\\\\Audio samples\\\\RWC Pop\\\\Entire RWC\"\n",
    "even_songs = \"C:\\\\Users\\\\amarmore\\\\Desktop\\\\Audio samples\\\\RWC Pop\\\\Even songs\"\n",
    "odd_songs = \"C:\\\\Users\\\\amarmore\\\\Desktop\\\\Audio samples\\\\RWC Pop\\\\Odd songs\""
   ]
  },
  {
   "cell_type": "markdown",
   "metadata": {},
   "source": [
    "For these final tests, we will try ranks for $H$ and $Q$ in the range [12,16,20,24,28,32,36,40,44,48], and a range for the parameter $\\lambda$ of $[0,2[$ with a step of $0.1$."
   ]
  },
  {
   "cell_type": "code",
   "execution_count": 4,
   "metadata": {
    "ExecuteTime": {
     "end_time": "2020-08-07T14:14:25.764289Z",
     "start_time": "2020-08-07T14:14:25.761266Z"
    }
   },
   "outputs": [],
   "source": [
    "ranks_rhythm = [12,16,20,24,28,32,36,40,44,48]\n",
    "ranks_pattern = [12,16,20,24,28,32,36,40,44,48]\n",
    "penalty_range = [i/10 for i in range(0,20)]"
   ]
  },
  {
   "cell_type": "markdown",
   "metadata": {},
   "source": [
    "Below is the convolution kernel we will use."
   ]
  },
  {
   "cell_type": "code",
   "execution_count": 5,
   "metadata": {
    "ExecuteTime": {
     "end_time": "2020-08-07T14:14:27.200768Z",
     "start_time": "2020-08-07T14:14:27.078057Z"
    }
   },
   "outputs": [
    {
     "data": {
      "image/png": "[encoded data removed]",
      "text/plain": [
       "<Figure size 504x504 with 1 Axes>"
      ]
     },
     "metadata": {},
     "output_type": "display_data"
    }
   ],
   "source": [
    "convolution_type = \"eight_bands\"\n",
    "plot_me_this_spectrogram(as_seg.compute_all_kernels(10, convolution_type = convolution_type)[-1], title=\"Kernel\", x_axis = None, y_axis = None)"
   ]
  },
  {
   "cell_type": "markdown",
   "metadata": {},
   "source": [
    "#  Unincluded: Fixed parameters"
   ]
  },
  {
   "cell_type": "markdown",
   "metadata": {},
   "source": [
    "We begin by a condition (not included in the paper) where we fix all parameters. In that sense, it's a totally blind method. Parameters though, are fixed empirically.\n",
    "\n",
    "Parameter $\\lambda$ was fixed to 1 as it was the best parameter in the experimental notebook for the method \"Favouring 8, then modulo 4\".\n",
    "\n",
    "Ranks were set to 32 for both $H$ and $Q$, as it is generally a good compromise."
   ]
  },
  {
   "cell_type": "code",
   "execution_count": 6,
   "metadata": {
    "ExecuteTime": {
     "end_time": "2020-08-07T08:31:18.132858Z",
     "start_time": "2020-08-07T08:31:05.316478Z"
    }
   },
   "outputs": [
    {
     "name": "stderr",
     "output_type": "stream",
     "text": [
      "c:\\users\\amarmore\\desktop\\projects\\phd main projects\\on git\\code\\tensor factorization\\musicntd\\autosimilarity_segmentation.py:43: RuntimeWarning: invalid value encountered in true_divide\n",
      "  this_array = np.array([list(i/np.linalg.norm(i)) for i in this_array.T]).T\n"
     ]
    },
    {
     "data": {
      "text/html": [
       "<div>\n",
       "<style scoped>\n",
       "    .dataframe tbody tr th:only-of-type {\n",
       "        vertical-align: middle;\n",
       "    }\n",
       "\n",
       "    .dataframe tbody tr th {\n",
       "        vertical-align: top;\n",
       "    }\n",
       "\n",
       "    .dataframe thead th {\n",
       "        text-align: right;\n",
       "    }\n",
       "</style>\n",
       "<table border=\"1\" class=\"dataframe\">\n",
       "  <thead>\n",
       "    <tr style=\"text-align: right;\">\n",
       "      <th></th>\n",
       "      <th>True Positives</th>\n",
       "      <th>False Positives</th>\n",
       "      <th>False Negatives</th>\n",
       "      <th>Precision</th>\n",
       "      <th>Recall</th>\n",
       "      <th>F measure</th>\n",
       "    </tr>\n",
       "  </thead>\n",
       "  <tbody>\n",
       "    <tr>\n",
       "      <th>Results with 0.5 seconds tolerance windowwith fixed conditions</th>\n",
       "      <td>12.06</td>\n",
       "      <td>11.05</td>\n",
       "      <td>6.75</td>\n",
       "      <td>0.5401</td>\n",
       "      <td>0.6471</td>\n",
       "      <td>0.5822</td>\n",
       "    </tr>\n",
       "  </tbody>\n",
       "</table>\n",
       "</div>"
      ],
      "text/plain": [
       "                                                    True Positives  \\\n",
       "Results with 0.5 seconds tolerance windowwith f...           12.06   \n",
       "\n",
       "                                                    False Positives  \\\n",
       "Results with 0.5 seconds tolerance windowwith f...            11.05   \n",
       "\n",
       "                                                    False Negatives  \\\n",
       "Results with 0.5 seconds tolerance windowwith f...             6.75   \n",
       "\n",
       "                                                    Precision  Recall  \\\n",
       "Results with 0.5 seconds tolerance windowwith f...     0.5401  0.6471   \n",
       "\n",
       "                                                    F measure  \n",
       "Results with 0.5 seconds tolerance windowwith f...     0.5822  "
      ]
     },
     "metadata": {},
     "output_type": "display_data"
    },
    {
     "data": {
      "text/html": [
       "<div>\n",
       "<style scoped>\n",
       "    .dataframe tbody tr th:only-of-type {\n",
       "        vertical-align: middle;\n",
       "    }\n",
       "\n",
       "    .dataframe tbody tr th {\n",
       "        vertical-align: top;\n",
       "    }\n",
       "\n",
       "    .dataframe thead th {\n",
       "        text-align: right;\n",
       "    }\n",
       "</style>\n",
       "<table border=\"1\" class=\"dataframe\">\n",
       "  <thead>\n",
       "    <tr style=\"text-align: right;\">\n",
       "      <th></th>\n",
       "      <th>True Positives</th>\n",
       "      <th>False Positives</th>\n",
       "      <th>False Negatives</th>\n",
       "      <th>Precision</th>\n",
       "      <th>Recall</th>\n",
       "      <th>F measure</th>\n",
       "    </tr>\n",
       "  </thead>\n",
       "  <tbody>\n",
       "    <tr>\n",
       "      <th>Results with 3 seconds tolerance windowwith fixed conditions</th>\n",
       "      <td>15.11</td>\n",
       "      <td>8.0</td>\n",
       "      <td>3.7</td>\n",
       "      <td>0.6713</td>\n",
       "      <td>0.8063</td>\n",
       "      <td>0.7249</td>\n",
       "    </tr>\n",
       "  </tbody>\n",
       "</table>\n",
       "</div>"
      ],
      "text/plain": [
       "                                                    True Positives  \\\n",
       "Results with 3 seconds tolerance windowwith fix...           15.11   \n",
       "\n",
       "                                                    False Positives  \\\n",
       "Results with 3 seconds tolerance windowwith fix...              8.0   \n",
       "\n",
       "                                                    False Negatives  \\\n",
       "Results with 3 seconds tolerance windowwith fix...              3.7   \n",
       "\n",
       "                                                    Precision  Recall  \\\n",
       "Results with 3 seconds tolerance windowwith fix...     0.6713  0.8063   \n",
       "\n",
       "                                                    F measure  \n",
       "Results with 3 seconds tolerance windowwith fix...     0.7249  "
      ]
     },
     "metadata": {},
     "output_type": "display_data"
    }
   ],
   "source": [
    "_ = test.final_results_fixed_conditions(entire_rwc, [12,32,32], penalty_weight = 1, annotations_type = annotations_type, subdivision = subdivision, penalty_func = penalty_func, legend = \"with fixed conditions\", convolution_type = convolution_type)"
   ]
  },
  {
   "cell_type": "markdown",
   "metadata": {},
   "source": [
    "# Cross validation on parameters\n",
    "\n",
    "In order to find accurate parameters, we decided to proceed by 2-fold cross-validation.\n",
    "\n",
    "Here, ranks for $H$ and $Q$ and $\\lambda$ are learned on even songs and then tested on odd songs, and vice-versa.\n",
    "\n",
    "Final results, in the paper, are means of results on both tests subsets."
   ]
  },
  {
   "cell_type": "markdown",
   "metadata": {},
   "source": [
    "Firstly:\n",
    " - learning on even songs\n",
    " - testing on odd songs"
   ]
  },
  {
   "cell_type": "code",
   "execution_count": 7,
   "metadata": {
    "ExecuteTime": {
     "end_time": "2020-08-07T11:26:04.567112Z",
     "start_time": "2020-08-07T08:31:18.132858Z"
    }
   },
   "outputs": [
    {
     "name": "stderr",
     "output_type": "stream",
     "text": [
      "c:\\users\\amarmore\\desktop\\projects\\phd main projects\\on git\\code\\tensor factorization\\musicntd\\autosimilarity_segmentation.py:43: RuntimeWarning: invalid value encountered in true_divide\n",
      "  this_array = np.array([list(i/np.linalg.norm(i)) for i in this_array.T]).T\n"
     ]
    },
    {
     "data": {
      "text/html": [
       "<div>\n",
       "<style scoped>\n",
       "    .dataframe tbody tr th:only-of-type {\n",
       "        vertical-align: middle;\n",
       "    }\n",
       "\n",
       "    .dataframe tbody tr th {\n",
       "        vertical-align: top;\n",
       "    }\n",
       "\n",
       "    .dataframe thead th {\n",
       "        text-align: right;\n",
       "    }\n",
       "</style>\n",
       "<table border=\"1\" class=\"dataframe\">\n",
       "  <thead>\n",
       "    <tr style=\"text-align: right;\">\n",
       "      <th></th>\n",
       "      <th>Best rank for $H$</th>\n",
       "      <th>Best rank for $Q$</th>\n",
       "      <th>Best lambda: ponderation parameter.</th>\n",
       "    </tr>\n",
       "  </thead>\n",
       "  <tbody>\n",
       "    <tr>\n",
       "      <th>Learned parameters</th>\n",
       "      <td>40.0</td>\n",
       "      <td>28.0</td>\n",
       "      <td>0.8</td>\n",
       "    </tr>\n",
       "  </tbody>\n",
       "</table>\n",
       "</div>"
      ],
      "text/plain": [
       "                    Best rank for $H$  Best rank for $Q$  \\\n",
       "Learned parameters               40.0               28.0   \n",
       "\n",
       "                    Best lambda: ponderation parameter.  \n",
       "Learned parameters                                  0.8  "
      ]
     },
     "metadata": {},
     "output_type": "display_data"
    },
    {
     "name": "stderr",
     "output_type": "stream",
     "text": [
      "c:\\users\\amarmore\\desktop\\projects\\phd main projects\\on git\\code\\tensor factorization\\musicntd\\autosimilarity_segmentation.py:43: RuntimeWarning: invalid value encountered in true_divide\n",
      "  this_array = np.array([list(i/np.linalg.norm(i)) for i in this_array.T]).T\n"
     ]
    },
    {
     "data": {
      "text/html": [
       "<div>\n",
       "<style scoped>\n",
       "    .dataframe tbody tr th:only-of-type {\n",
       "        vertical-align: middle;\n",
       "    }\n",
       "\n",
       "    .dataframe tbody tr th {\n",
       "        vertical-align: top;\n",
       "    }\n",
       "\n",
       "    .dataframe thead th {\n",
       "        text-align: right;\n",
       "    }\n",
       "</style>\n",
       "<table border=\"1\" class=\"dataframe\">\n",
       "  <thead>\n",
       "    <tr style=\"text-align: right;\">\n",
       "      <th></th>\n",
       "      <th>True Positives</th>\n",
       "      <th>False Positives</th>\n",
       "      <th>False Negatives</th>\n",
       "      <th>Precision</th>\n",
       "      <th>Recall</th>\n",
       "      <th>F measure</th>\n",
       "    </tr>\n",
       "  </thead>\n",
       "  <tbody>\n",
       "    <tr>\n",
       "      <th>Results with 0.5 seconds tolerance window, on test dataset.</th>\n",
       "      <td>12.54</td>\n",
       "      <td>12.36</td>\n",
       "      <td>6.64</td>\n",
       "      <td>0.5285</td>\n",
       "      <td>0.663</td>\n",
       "      <td>0.5777</td>\n",
       "    </tr>\n",
       "  </tbody>\n",
       "</table>\n",
       "</div>"
      ],
      "text/plain": [
       "                                                    True Positives  \\\n",
       "Results with 0.5 seconds tolerance window, on t...           12.54   \n",
       "\n",
       "                                                    False Positives  \\\n",
       "Results with 0.5 seconds tolerance window, on t...            12.36   \n",
       "\n",
       "                                                    False Negatives  \\\n",
       "Results with 0.5 seconds tolerance window, on t...             6.64   \n",
       "\n",
       "                                                    Precision  Recall  \\\n",
       "Results with 0.5 seconds tolerance window, on t...     0.5285   0.663   \n",
       "\n",
       "                                                    F measure  \n",
       "Results with 0.5 seconds tolerance window, on t...     0.5777  "
      ]
     },
     "metadata": {},
     "output_type": "display_data"
    },
    {
     "data": {
      "text/html": [
       "<div>\n",
       "<style scoped>\n",
       "    .dataframe tbody tr th:only-of-type {\n",
       "        vertical-align: middle;\n",
       "    }\n",
       "\n",
       "    .dataframe tbody tr th {\n",
       "        vertical-align: top;\n",
       "    }\n",
       "\n",
       "    .dataframe thead th {\n",
       "        text-align: right;\n",
       "    }\n",
       "</style>\n",
       "<table border=\"1\" class=\"dataframe\">\n",
       "  <thead>\n",
       "    <tr style=\"text-align: right;\">\n",
       "      <th></th>\n",
       "      <th>True Positives</th>\n",
       "      <th>False Positives</th>\n",
       "      <th>False Negatives</th>\n",
       "      <th>Precision</th>\n",
       "      <th>Recall</th>\n",
       "      <th>F measure</th>\n",
       "    </tr>\n",
       "  </thead>\n",
       "  <tbody>\n",
       "    <tr>\n",
       "      <th>Results with 3 seconds tolerance window, on test dataset.</th>\n",
       "      <td>15.16</td>\n",
       "      <td>9.74</td>\n",
       "      <td>4.02</td>\n",
       "      <td>0.6378</td>\n",
       "      <td>0.8033</td>\n",
       "      <td>0.6989</td>\n",
       "    </tr>\n",
       "  </tbody>\n",
       "</table>\n",
       "</div>"
      ],
      "text/plain": [
       "                                                    True Positives  \\\n",
       "Results with 3 seconds tolerance window, on tes...           15.16   \n",
       "\n",
       "                                                    False Positives  \\\n",
       "Results with 3 seconds tolerance window, on tes...             9.74   \n",
       "\n",
       "                                                    False Negatives  \\\n",
       "Results with 3 seconds tolerance window, on tes...             4.02   \n",
       "\n",
       "                                                    Precision  Recall  \\\n",
       "Results with 3 seconds tolerance window, on tes...     0.6378  0.8033   \n",
       "\n",
       "                                                    F measure  \n",
       "Results with 3 seconds tolerance window, on tes...     0.6989  "
      ]
     },
     "metadata": {},
     "output_type": "display_data"
    }
   ],
   "source": [
    "best_param_even, results_at_zero_five_even, results_at_three_even = test.several_ranks_with_cross_validation_of_param_RWC(learning_dataset = even_songs, testing_dataset = odd_songs,\n",
    "                                                      ranks_rhythm = ranks_rhythm, ranks_pattern = ranks_pattern, penalty_range = penalty_range, annotations_type = annotations_type, subdivision = subdivision, penalty_func = penalty_func, convolution_type = convolution_type)"
   ]
  },
  {
   "cell_type": "markdown",
   "metadata": {},
   "source": [
    "Secondly:\n",
    " - learning on odd songs\n",
    " - testing on even songs"
   ]
  },
  {
   "cell_type": "code",
   "execution_count": 8,
   "metadata": {
    "ExecuteTime": {
     "end_time": "2020-08-07T13:38:56.153733Z",
     "start_time": "2020-08-07T11:26:04.578083Z"
    }
   },
   "outputs": [
    {
     "name": "stderr",
     "output_type": "stream",
     "text": [
      "c:\\users\\amarmore\\desktop\\projects\\phd main projects\\on git\\code\\tensor factorization\\musicntd\\autosimilarity_segmentation.py:43: RuntimeWarning: invalid value encountered in true_divide\n",
      "  this_array = np.array([list(i/np.linalg.norm(i)) for i in this_array.T]).T\n"
     ]
    },
    {
     "data": {
      "text/html": [
       "<div>\n",
       "<style scoped>\n",
       "    .dataframe tbody tr th:only-of-type {\n",
       "        vertical-align: middle;\n",
       "    }\n",
       "\n",
       "    .dataframe tbody tr th {\n",
       "        vertical-align: top;\n",
       "    }\n",
       "\n",
       "    .dataframe thead th {\n",
       "        text-align: right;\n",
       "    }\n",
       "</style>\n",
       "<table border=\"1\" class=\"dataframe\">\n",
       "  <thead>\n",
       "    <tr style=\"text-align: right;\">\n",
       "      <th></th>\n",
       "      <th>Best rank for $H$</th>\n",
       "      <th>Best rank for $Q$</th>\n",
       "      <th>Best lambda: ponderation parameter.</th>\n",
       "    </tr>\n",
       "  </thead>\n",
       "  <tbody>\n",
       "    <tr>\n",
       "      <th>Learned parameters</th>\n",
       "      <td>48.0</td>\n",
       "      <td>24.0</td>\n",
       "      <td>1.6</td>\n",
       "    </tr>\n",
       "  </tbody>\n",
       "</table>\n",
       "</div>"
      ],
      "text/plain": [
       "                    Best rank for $H$  Best rank for $Q$  \\\n",
       "Learned parameters               48.0               24.0   \n",
       "\n",
       "                    Best lambda: ponderation parameter.  \n",
       "Learned parameters                                  1.6  "
      ]
     },
     "metadata": {},
     "output_type": "display_data"
    },
    {
     "name": "stderr",
     "output_type": "stream",
     "text": [
      "c:\\users\\amarmore\\desktop\\projects\\phd main projects\\on git\\code\\tensor factorization\\musicntd\\autosimilarity_segmentation.py:43: RuntimeWarning: invalid value encountered in true_divide\n",
      "  this_array = np.array([list(i/np.linalg.norm(i)) for i in this_array.T]).T\n"
     ]
    },
    {
     "data": {
      "text/html": [
       "<div>\n",
       "<style scoped>\n",
       "    .dataframe tbody tr th:only-of-type {\n",
       "        vertical-align: middle;\n",
       "    }\n",
       "\n",
       "    .dataframe tbody tr th {\n",
       "        vertical-align: top;\n",
       "    }\n",
       "\n",
       "    .dataframe thead th {\n",
       "        text-align: right;\n",
       "    }\n",
       "</style>\n",
       "<table border=\"1\" class=\"dataframe\">\n",
       "  <thead>\n",
       "    <tr style=\"text-align: right;\">\n",
       "      <th></th>\n",
       "      <th>True Positives</th>\n",
       "      <th>False Positives</th>\n",
       "      <th>False Negatives</th>\n",
       "      <th>Precision</th>\n",
       "      <th>Recall</th>\n",
       "      <th>F measure</th>\n",
       "    </tr>\n",
       "  </thead>\n",
       "  <tbody>\n",
       "    <tr>\n",
       "      <th>Results with 0.5 seconds tolerance window, on test dataset.</th>\n",
       "      <td>11.3</td>\n",
       "      <td>9.38</td>\n",
       "      <td>7.14</td>\n",
       "      <td>0.5619</td>\n",
       "      <td>0.6097</td>\n",
       "      <td>0.5815</td>\n",
       "    </tr>\n",
       "  </tbody>\n",
       "</table>\n",
       "</div>"
      ],
      "text/plain": [
       "                                                    True Positives  \\\n",
       "Results with 0.5 seconds tolerance window, on t...            11.3   \n",
       "\n",
       "                                                    False Positives  \\\n",
       "Results with 0.5 seconds tolerance window, on t...             9.38   \n",
       "\n",
       "                                                    False Negatives  \\\n",
       "Results with 0.5 seconds tolerance window, on t...             7.14   \n",
       "\n",
       "                                                    Precision  Recall  \\\n",
       "Results with 0.5 seconds tolerance window, on t...     0.5619  0.6097   \n",
       "\n",
       "                                                    F measure  \n",
       "Results with 0.5 seconds tolerance window, on t...     0.5815  "
      ]
     },
     "metadata": {},
     "output_type": "display_data"
    },
    {
     "data": {
      "text/html": [
       "<div>\n",
       "<style scoped>\n",
       "    .dataframe tbody tr th:only-of-type {\n",
       "        vertical-align: middle;\n",
       "    }\n",
       "\n",
       "    .dataframe tbody tr th {\n",
       "        vertical-align: top;\n",
       "    }\n",
       "\n",
       "    .dataframe thead th {\n",
       "        text-align: right;\n",
       "    }\n",
       "</style>\n",
       "<table border=\"1\" class=\"dataframe\">\n",
       "  <thead>\n",
       "    <tr style=\"text-align: right;\">\n",
       "      <th></th>\n",
       "      <th>True Positives</th>\n",
       "      <th>False Positives</th>\n",
       "      <th>False Negatives</th>\n",
       "      <th>Precision</th>\n",
       "      <th>Recall</th>\n",
       "      <th>F measure</th>\n",
       "    </tr>\n",
       "  </thead>\n",
       "  <tbody>\n",
       "    <tr>\n",
       "      <th>Results with 3 seconds tolerance window, on test dataset.</th>\n",
       "      <td>14.54</td>\n",
       "      <td>6.14</td>\n",
       "      <td>3.9</td>\n",
       "      <td>0.7161</td>\n",
       "      <td>0.7815</td>\n",
       "      <td>0.7431</td>\n",
       "    </tr>\n",
       "  </tbody>\n",
       "</table>\n",
       "</div>"
      ],
      "text/plain": [
       "                                                    True Positives  \\\n",
       "Results with 3 seconds tolerance window, on tes...           14.54   \n",
       "\n",
       "                                                    False Positives  \\\n",
       "Results with 3 seconds tolerance window, on tes...             6.14   \n",
       "\n",
       "                                                    False Negatives  \\\n",
       "Results with 3 seconds tolerance window, on tes...              3.9   \n",
       "\n",
       "                                                    Precision  Recall  \\\n",
       "Results with 3 seconds tolerance window, on tes...     0.7161  0.7815   \n",
       "\n",
       "                                                    F measure  \n",
       "Results with 3 seconds tolerance window, on tes...     0.7431  "
      ]
     },
     "metadata": {},
     "output_type": "display_data"
    }
   ],
   "source": [
    "best_param_odd, results_at_zero_five_odd, results_at_three_odd = test.several_ranks_with_cross_validation_of_param_RWC(learning_dataset = odd_songs, testing_dataset = even_songs,\n",
    "                                                      ranks_rhythm = ranks_rhythm, ranks_pattern = ranks_pattern, penalty_range = penalty_range, annotations_type = annotations_type, \n",
    "                                                      subdivision = subdivision, penalty_func = penalty_func, convolution_type = convolution_type)"
   ]
  },
  {
   "cell_type": "markdown",
   "metadata": {},
   "source": [
    "Final results:\n",
    "\n",
    "With 0.5 seconds tolerance window:"
   ]
  },
  {
   "cell_type": "code",
   "execution_count": 9,
   "metadata": {
    "ExecuteTime": {
     "end_time": "2020-08-07T13:38:56.178661Z",
     "start_time": "2020-08-07T13:38:56.157717Z"
    }
   },
   "outputs": [
    {
     "data": {
      "text/html": [
       "<div>\n",
       "<style scoped>\n",
       "    .dataframe tbody tr th:only-of-type {\n",
       "        vertical-align: middle;\n",
       "    }\n",
       "\n",
       "    .dataframe tbody tr th {\n",
       "        vertical-align: top;\n",
       "    }\n",
       "\n",
       "    .dataframe thead th {\n",
       "        text-align: right;\n",
       "    }\n",
       "</style>\n",
       "<table border=\"1\" class=\"dataframe\">\n",
       "  <thead>\n",
       "    <tr style=\"text-align: right;\">\n",
       "      <th></th>\n",
       "      <th>True Positive</th>\n",
       "      <th>False Positives</th>\n",
       "      <th>False Negatives</th>\n",
       "      <th>Precision</th>\n",
       "      <th>Recall</th>\n",
       "      <th>F measure</th>\n",
       "    </tr>\n",
       "  </thead>\n",
       "  <tbody>\n",
       "    <tr>\n",
       "      <th>Results at 0.5 seconds on both test datasets</th>\n",
       "      <td>11.92</td>\n",
       "      <td>10.87</td>\n",
       "      <td>6.89</td>\n",
       "      <td>0.5452</td>\n",
       "      <td>0.6363</td>\n",
       "      <td>0.5796</td>\n",
       "    </tr>\n",
       "  </tbody>\n",
       "</table>\n",
       "</div>"
      ],
      "text/plain": [
       "                                              True Positive  False Positives  \\\n",
       "Results at 0.5 seconds on both test datasets          11.92            10.87   \n",
       "\n",
       "                                              False Negatives  Precision  \\\n",
       "Results at 0.5 seconds on both test datasets             6.89     0.5452   \n",
       "\n",
       "                                              Recall  F measure  \n",
       "Results at 0.5 seconds on both test datasets  0.6363     0.5796  "
      ]
     },
     "execution_count": 9,
     "metadata": {},
     "output_type": "execute_result"
    }
   ],
   "source": [
    "test_mean_zero_five = [(results_at_zero_five_even[i] + results_at_zero_five_odd[i])/2 for i in range(6)]\n",
    "pd.DataFrame(test_mean_zero_five, index = ['True Positive','False Positives','False Negatives','Precision', 'Recall', 'F measure'], columns = [\"Results at 0.5 seconds on both test datasets\"]).T"
   ]
  },
  {
   "cell_type": "markdown",
   "metadata": {},
   "source": [
    "With 3 seconds tolerance window:"
   ]
  },
  {
   "cell_type": "code",
   "execution_count": 10,
   "metadata": {
    "ExecuteTime": {
     "end_time": "2020-08-07T13:38:56.205592Z",
     "start_time": "2020-08-07T13:38:56.180655Z"
    }
   },
   "outputs": [
    {
     "data": {
      "text/html": [
       "<div>\n",
       "<style scoped>\n",
       "    .dataframe tbody tr th:only-of-type {\n",
       "        vertical-align: middle;\n",
       "    }\n",
       "\n",
       "    .dataframe tbody tr th {\n",
       "        vertical-align: top;\n",
       "    }\n",
       "\n",
       "    .dataframe thead th {\n",
       "        text-align: right;\n",
       "    }\n",
       "</style>\n",
       "<table border=\"1\" class=\"dataframe\">\n",
       "  <thead>\n",
       "    <tr style=\"text-align: right;\">\n",
       "      <th></th>\n",
       "      <th>True Positives</th>\n",
       "      <th>False Positives</th>\n",
       "      <th>False Negatives</th>\n",
       "      <th>Precision</th>\n",
       "      <th>Recall</th>\n",
       "      <th>F measure</th>\n",
       "    </tr>\n",
       "  </thead>\n",
       "  <tbody>\n",
       "    <tr>\n",
       "      <th>Results at 3 seconds on both test datasets</th>\n",
       "      <td>14.85</td>\n",
       "      <td>7.94</td>\n",
       "      <td>3.96</td>\n",
       "      <td>0.677</td>\n",
       "      <td>0.7924</td>\n",
       "      <td>0.721</td>\n",
       "    </tr>\n",
       "  </tbody>\n",
       "</table>\n",
       "</div>"
      ],
      "text/plain": [
       "                                            True Positives  False Positives  \\\n",
       "Results at 3 seconds on both test datasets           14.85             7.94   \n",
       "\n",
       "                                            False Negatives  Precision  \\\n",
       "Results at 3 seconds on both test datasets             3.96      0.677   \n",
       "\n",
       "                                            Recall  F measure  \n",
       "Results at 3 seconds on both test datasets  0.7924      0.721  "
      ]
     },
     "execution_count": 10,
     "metadata": {},
     "output_type": "execute_result"
    }
   ],
   "source": [
    "test_mean_three = [(results_at_three_even[i] + results_at_three_odd[i])/2 for i in range(6)]\n",
    "pd.DataFrame(test_mean_three, index = ['True Positives','False Positives','False Negatives','Precision', 'Recall', 'F measure'], columns = [\"Results at 3 seconds on both test datasets\"]).T"
   ]
  },
  {
   "cell_type": "markdown",
   "metadata": {},
   "source": [
    "# Oracle ranks"
   ]
  },
  {
   "cell_type": "markdown",
   "metadata": {},
   "source": [
    "This below contains the results in the oracle ranks condition, which means that, for each song, we keep only the ranks leading to the best F measure."
   ]
  },
  {
   "cell_type": "code",
   "execution_count": 11,
   "metadata": {
    "ExecuteTime": {
     "end_time": "2020-08-07T13:53:47.809053Z",
     "start_time": "2020-08-07T13:38:56.211578Z"
    }
   },
   "outputs": [
    {
     "name": "stderr",
     "output_type": "stream",
     "text": [
      "c:\\users\\amarmore\\desktop\\projects\\phd main projects\\on git\\code\\tensor factorization\\musicntd\\autosimilarity_segmentation.py:43: RuntimeWarning: invalid value encountered in true_divide\n",
      "  this_array = np.array([list(i/np.linalg.norm(i)) for i in this_array.T]).T\n"
     ]
    },
    {
     "data": {
      "text/html": [
       "<div>\n",
       "<style scoped>\n",
       "    .dataframe tbody tr th:only-of-type {\n",
       "        vertical-align: middle;\n",
       "    }\n",
       "\n",
       "    .dataframe tbody tr th {\n",
       "        vertical-align: top;\n",
       "    }\n",
       "\n",
       "    .dataframe thead tr th {\n",
       "        text-align: left;\n",
       "    }\n",
       "</style>\n",
       "<table border=\"1\" class=\"dataframe\">\n",
       "  <thead>\n",
       "    <tr>\n",
       "      <th></th>\n",
       "      <th>True Positives</th>\n",
       "      <th>False Positives</th>\n",
       "      <th>False Negatives</th>\n",
       "      <th>Precision</th>\n",
       "      <th>Recall</th>\n",
       "      <th>F measure</th>\n",
       "    </tr>\n",
       "  </thead>\n",
       "  <tbody>\n",
       "    <tr>\n",
       "      <th>Oracles ranks, at 0.5 seconds</th>\n",
       "      <td>14.93</td>\n",
       "      <td>7.67</td>\n",
       "      <td>3.88</td>\n",
       "      <td>0.6847</td>\n",
       "      <td>0.7999</td>\n",
       "      <td>0.7303</td>\n",
       "    </tr>\n",
       "  </tbody>\n",
       "</table>\n",
       "</div>"
      ],
      "text/plain": [
       "                              True Positives False Positives False Negatives  \\\n",
       "Oracles ranks, at 0.5 seconds          14.93            7.67            3.88   \n",
       "\n",
       "                              Precision  Recall F measure  \n",
       "Oracles ranks, at 0.5 seconds    0.6847  0.7999    0.7303  "
      ]
     },
     "metadata": {},
     "output_type": "display_data"
    },
    {
     "data": {
      "text/html": [
       "<div>\n",
       "<style scoped>\n",
       "    .dataframe tbody tr th:only-of-type {\n",
       "        vertical-align: middle;\n",
       "    }\n",
       "\n",
       "    .dataframe tbody tr th {\n",
       "        vertical-align: top;\n",
       "    }\n",
       "\n",
       "    .dataframe thead tr th {\n",
       "        text-align: left;\n",
       "    }\n",
       "</style>\n",
       "<table border=\"1\" class=\"dataframe\">\n",
       "  <thead>\n",
       "    <tr>\n",
       "      <th></th>\n",
       "      <th>True Positives</th>\n",
       "      <th>False Positives</th>\n",
       "      <th>False Negatives</th>\n",
       "      <th>Precision</th>\n",
       "      <th>Recall</th>\n",
       "      <th>F measure</th>\n",
       "    </tr>\n",
       "  </thead>\n",
       "  <tbody>\n",
       "    <tr>\n",
       "      <th>Oracles ranks, at 3 seconds</th>\n",
       "      <td>17.07</td>\n",
       "      <td>5.04</td>\n",
       "      <td>1.74</td>\n",
       "      <td>0.7948</td>\n",
       "      <td>0.9124</td>\n",
       "      <td>0.8414</td>\n",
       "    </tr>\n",
       "  </tbody>\n",
       "</table>\n",
       "</div>"
      ],
      "text/plain": [
       "                            True Positives False Positives False Negatives  \\\n",
       "Oracles ranks, at 3 seconds          17.07            5.04            1.74   \n",
       "\n",
       "                            Precision  Recall F measure  \n",
       "Oracles ranks, at 3 seconds    0.7948  0.9124    0.8414  "
      ]
     },
     "metadata": {},
     "output_type": "display_data"
    }
   ],
   "source": [
    "penalty_weight = 1 # Fixed to one rather than learned, for convenience\n",
    "zero_five_full = test.oracle_ranks(entire_rwc, ranks_rhythm, ranks_pattern, penalty_weight, annotations_type = annotations_type, subdivision = subdivision, penalty_func = penalty_func, convolution_type = convolution_type)"
   ]
  },
  {
   "cell_type": "code",
   "execution_count": 12,
   "metadata": {
    "ExecuteTime": {
     "end_time": "2020-08-07T13:53:48.337641Z",
     "start_time": "2020-08-07T13:53:47.811049Z"
    }
   },
   "outputs": [
    {
     "data": {
      "image/png": "[encoded data removed]",
      "text/plain": [
       "<Figure size 1080x432 with 2 Axes>"
      ]
     },
     "metadata": {},
     "output_type": "display_data"
    }
   ],
   "source": [
    "musicntd.scripts.hide_code.plot_3d_ranks_study(zero_five_full, ranks_rhythm, ranks_pattern)"
   ]
  },
  {
   "cell_type": "markdown",
   "metadata": {},
   "source": [
    "# On signal"
   ]
  },
  {
   "cell_type": "markdown",
   "metadata": {},
   "source": [
    "Below are presented the results when we segment directly the autosimilarity of the signal.\n",
    "\n",
    "This allows us to compare the benefit directly related to the NTD in the segmentation."
   ]
  },
  {
   "cell_type": "code",
   "execution_count": 7,
   "metadata": {
    "ExecuteTime": {
     "end_time": "2020-08-07T14:11:40.256424Z",
     "start_time": "2020-08-07T14:10:14.736029Z"
    }
   },
   "outputs": [
    {
     "data": {
      "text/html": [
       "<div>\n",
       "<style scoped>\n",
       "    .dataframe tbody tr th:only-of-type {\n",
       "        vertical-align: middle;\n",
       "    }\n",
       "\n",
       "    .dataframe tbody tr th {\n",
       "        vertical-align: top;\n",
       "    }\n",
       "\n",
       "    .dataframe thead th {\n",
       "        text-align: right;\n",
       "    }\n",
       "</style>\n",
       "<table border=\"1\" class=\"dataframe\">\n",
       "  <thead>\n",
       "    <tr style=\"text-align: right;\">\n",
       "      <th></th>\n",
       "      <th>Best lambda: ponderation parameter.</th>\n",
       "    </tr>\n",
       "  </thead>\n",
       "  <tbody>\n",
       "    <tr>\n",
       "      <th>Learned parameter.</th>\n",
       "      <td>1.6</td>\n",
       "    </tr>\n",
       "  </tbody>\n",
       "</table>\n",
       "</div>"
      ],
      "text/plain": [
       "                    Best lambda: ponderation parameter.\n",
       "Learned parameter.                                  1.6"
      ]
     },
     "metadata": {},
     "output_type": "display_data"
    },
    {
     "data": {
      "text/html": [
       "<div>\n",
       "<style scoped>\n",
       "    .dataframe tbody tr th:only-of-type {\n",
       "        vertical-align: middle;\n",
       "    }\n",
       "\n",
       "    .dataframe tbody tr th {\n",
       "        vertical-align: top;\n",
       "    }\n",
       "\n",
       "    .dataframe thead th {\n",
       "        text-align: right;\n",
       "    }\n",
       "</style>\n",
       "<table border=\"1\" class=\"dataframe\">\n",
       "  <thead>\n",
       "    <tr style=\"text-align: right;\">\n",
       "      <th></th>\n",
       "      <th>True Positives</th>\n",
       "      <th>False Positives</th>\n",
       "      <th>False Negatives</th>\n",
       "      <th>Precision</th>\n",
       "      <th>Recall</th>\n",
       "      <th>F measure</th>\n",
       "    </tr>\n",
       "  </thead>\n",
       "  <tbody>\n",
       "    <tr>\n",
       "      <th>Results with 0.5 seconds tolerance window, on test dataset.</th>\n",
       "      <td>8.96</td>\n",
       "      <td>11.36</td>\n",
       "      <td>10.22</td>\n",
       "      <td>0.4488</td>\n",
       "      <td>0.4874</td>\n",
       "      <td>0.4599</td>\n",
       "    </tr>\n",
       "  </tbody>\n",
       "</table>\n",
       "</div>"
      ],
      "text/plain": [
       "                                                    True Positives  \\\n",
       "Results with 0.5 seconds tolerance window, on t...            8.96   \n",
       "\n",
       "                                                    False Positives  \\\n",
       "Results with 0.5 seconds tolerance window, on t...            11.36   \n",
       "\n",
       "                                                    False Negatives  \\\n",
       "Results with 0.5 seconds tolerance window, on t...            10.22   \n",
       "\n",
       "                                                    Precision  Recall  \\\n",
       "Results with 0.5 seconds tolerance window, on t...     0.4488  0.4874   \n",
       "\n",
       "                                                    F measure  \n",
       "Results with 0.5 seconds tolerance window, on t...     0.4599  "
      ]
     },
     "metadata": {},
     "output_type": "display_data"
    },
    {
     "data": {
      "text/html": [
       "<div>\n",
       "<style scoped>\n",
       "    .dataframe tbody tr th:only-of-type {\n",
       "        vertical-align: middle;\n",
       "    }\n",
       "\n",
       "    .dataframe tbody tr th {\n",
       "        vertical-align: top;\n",
       "    }\n",
       "\n",
       "    .dataframe thead th {\n",
       "        text-align: right;\n",
       "    }\n",
       "</style>\n",
       "<table border=\"1\" class=\"dataframe\">\n",
       "  <thead>\n",
       "    <tr style=\"text-align: right;\">\n",
       "      <th></th>\n",
       "      <th>True Positives</th>\n",
       "      <th>False Positives</th>\n",
       "      <th>False Negatives</th>\n",
       "      <th>Precision</th>\n",
       "      <th>Recall</th>\n",
       "      <th>F measure</th>\n",
       "    </tr>\n",
       "  </thead>\n",
       "  <tbody>\n",
       "    <tr>\n",
       "      <th>Results with 3 seconds tolerance window, on test dataset.</th>\n",
       "      <td>13.68</td>\n",
       "      <td>6.64</td>\n",
       "      <td>5.5</td>\n",
       "      <td>0.6839</td>\n",
       "      <td>0.7254</td>\n",
       "      <td>0.6937</td>\n",
       "    </tr>\n",
       "  </tbody>\n",
       "</table>\n",
       "</div>"
      ],
      "text/plain": [
       "                                                    True Positives  \\\n",
       "Results with 3 seconds tolerance window, on tes...           13.68   \n",
       "\n",
       "                                                    False Positives  \\\n",
       "Results with 3 seconds tolerance window, on tes...             6.64   \n",
       "\n",
       "                                                    False Negatives  \\\n",
       "Results with 3 seconds tolerance window, on tes...              5.5   \n",
       "\n",
       "                                                    Precision  Recall  \\\n",
       "Results with 3 seconds tolerance window, on tes...     0.6839  0.7254   \n",
       "\n",
       "                                                    F measure  \n",
       "Results with 3 seconds tolerance window, on tes...     0.6937  "
      ]
     },
     "metadata": {},
     "output_type": "display_data"
    }
   ],
   "source": [
    "sig_zero_five_even, sig_three_even = test.cross_validation_on_signal(even_songs, odd_songs, penalty_range, convolution_type = convolution_type)"
   ]
  },
  {
   "cell_type": "code",
   "execution_count": 8,
   "metadata": {
    "ExecuteTime": {
     "end_time": "2020-08-07T14:13:02.397523Z",
     "start_time": "2020-08-07T14:11:40.321251Z"
    }
   },
   "outputs": [
    {
     "data": {
      "text/html": [
       "<div>\n",
       "<style scoped>\n",
       "    .dataframe tbody tr th:only-of-type {\n",
       "        vertical-align: middle;\n",
       "    }\n",
       "\n",
       "    .dataframe tbody tr th {\n",
       "        vertical-align: top;\n",
       "    }\n",
       "\n",
       "    .dataframe thead th {\n",
       "        text-align: right;\n",
       "    }\n",
       "</style>\n",
       "<table border=\"1\" class=\"dataframe\">\n",
       "  <thead>\n",
       "    <tr style=\"text-align: right;\">\n",
       "      <th></th>\n",
       "      <th>Best lambda: ponderation parameter.</th>\n",
       "    </tr>\n",
       "  </thead>\n",
       "  <tbody>\n",
       "    <tr>\n",
       "      <th>Learned parameter.</th>\n",
       "      <td>1.6</td>\n",
       "    </tr>\n",
       "  </tbody>\n",
       "</table>\n",
       "</div>"
      ],
      "text/plain": [
       "                    Best lambda: ponderation parameter.\n",
       "Learned parameter.                                  1.6"
      ]
     },
     "metadata": {},
     "output_type": "display_data"
    },
    {
     "data": {
      "text/html": [
       "<div>\n",
       "<style scoped>\n",
       "    .dataframe tbody tr th:only-of-type {\n",
       "        vertical-align: middle;\n",
       "    }\n",
       "\n",
       "    .dataframe tbody tr th {\n",
       "        vertical-align: top;\n",
       "    }\n",
       "\n",
       "    .dataframe thead th {\n",
       "        text-align: right;\n",
       "    }\n",
       "</style>\n",
       "<table border=\"1\" class=\"dataframe\">\n",
       "  <thead>\n",
       "    <tr style=\"text-align: right;\">\n",
       "      <th></th>\n",
       "      <th>True Positives</th>\n",
       "      <th>False Positives</th>\n",
       "      <th>False Negatives</th>\n",
       "      <th>Precision</th>\n",
       "      <th>Recall</th>\n",
       "      <th>F measure</th>\n",
       "    </tr>\n",
       "  </thead>\n",
       "  <tbody>\n",
       "    <tr>\n",
       "      <th>Results with 0.5 seconds tolerance window, on test dataset.</th>\n",
       "      <td>8.18</td>\n",
       "      <td>11.32</td>\n",
       "      <td>10.26</td>\n",
       "      <td>0.4288</td>\n",
       "      <td>0.4445</td>\n",
       "      <td>0.4343</td>\n",
       "    </tr>\n",
       "  </tbody>\n",
       "</table>\n",
       "</div>"
      ],
      "text/plain": [
       "                                                    True Positives  \\\n",
       "Results with 0.5 seconds tolerance window, on t...            8.18   \n",
       "\n",
       "                                                    False Positives  \\\n",
       "Results with 0.5 seconds tolerance window, on t...            11.32   \n",
       "\n",
       "                                                    False Negatives  \\\n",
       "Results with 0.5 seconds tolerance window, on t...            10.26   \n",
       "\n",
       "                                                    Precision  Recall  \\\n",
       "Results with 0.5 seconds tolerance window, on t...     0.4288  0.4445   \n",
       "\n",
       "                                                    F measure  \n",
       "Results with 0.5 seconds tolerance window, on t...     0.4343  "
      ]
     },
     "metadata": {},
     "output_type": "display_data"
    },
    {
     "data": {
      "text/html": [
       "<div>\n",
       "<style scoped>\n",
       "    .dataframe tbody tr th:only-of-type {\n",
       "        vertical-align: middle;\n",
       "    }\n",
       "\n",
       "    .dataframe tbody tr th {\n",
       "        vertical-align: top;\n",
       "    }\n",
       "\n",
       "    .dataframe thead th {\n",
       "        text-align: right;\n",
       "    }\n",
       "</style>\n",
       "<table border=\"1\" class=\"dataframe\">\n",
       "  <thead>\n",
       "    <tr style=\"text-align: right;\">\n",
       "      <th></th>\n",
       "      <th>True Positives</th>\n",
       "      <th>False Positives</th>\n",
       "      <th>False Negatives</th>\n",
       "      <th>Precision</th>\n",
       "      <th>Recall</th>\n",
       "      <th>F measure</th>\n",
       "    </tr>\n",
       "  </thead>\n",
       "  <tbody>\n",
       "    <tr>\n",
       "      <th>Results with 3 seconds tolerance window, on test dataset.</th>\n",
       "      <td>12.9</td>\n",
       "      <td>6.6</td>\n",
       "      <td>5.54</td>\n",
       "      <td>0.6684</td>\n",
       "      <td>0.6948</td>\n",
       "      <td>0.6786</td>\n",
       "    </tr>\n",
       "  </tbody>\n",
       "</table>\n",
       "</div>"
      ],
      "text/plain": [
       "                                                    True Positives  \\\n",
       "Results with 3 seconds tolerance window, on tes...            12.9   \n",
       "\n",
       "                                                    False Positives  \\\n",
       "Results with 3 seconds tolerance window, on tes...              6.6   \n",
       "\n",
       "                                                    False Negatives  \\\n",
       "Results with 3 seconds tolerance window, on tes...             5.54   \n",
       "\n",
       "                                                    Precision  Recall  \\\n",
       "Results with 3 seconds tolerance window, on tes...     0.6684  0.6948   \n",
       "\n",
       "                                                    F measure  \n",
       "Results with 3 seconds tolerance window, on tes...     0.6786  "
      ]
     },
     "metadata": {},
     "output_type": "display_data"
    }
   ],
   "source": [
    "sig_zero_five_odd, sig_three_odd = test.cross_validation_on_signal(odd_songs, even_songs, penalty_range, convolution_type = convolution_type)"
   ]
  },
  {
   "cell_type": "markdown",
   "metadata": {},
   "source": [
    "Finally, the final results are, at 0.5 seconds:"
   ]
  },
  {
   "cell_type": "code",
   "execution_count": 9,
   "metadata": {
    "ExecuteTime": {
     "end_time": "2020-08-07T14:13:07.092978Z",
     "start_time": "2020-08-07T14:13:07.082009Z"
    }
   },
   "outputs": [
    {
     "data": {
      "text/html": [
       "<div>\n",
       "<style scoped>\n",
       "    .dataframe tbody tr th:only-of-type {\n",
       "        vertical-align: middle;\n",
       "    }\n",
       "\n",
       "    .dataframe tbody tr th {\n",
       "        vertical-align: top;\n",
       "    }\n",
       "\n",
       "    .dataframe thead th {\n",
       "        text-align: right;\n",
       "    }\n",
       "</style>\n",
       "<table border=\"1\" class=\"dataframe\">\n",
       "  <thead>\n",
       "    <tr style=\"text-align: right;\">\n",
       "      <th></th>\n",
       "      <th>True Positive</th>\n",
       "      <th>False Positives</th>\n",
       "      <th>False Negatives</th>\n",
       "      <th>Precision</th>\n",
       "      <th>Recall</th>\n",
       "      <th>F measure</th>\n",
       "    </tr>\n",
       "  </thead>\n",
       "  <tbody>\n",
       "    <tr>\n",
       "      <th>Results at 0.5 seconds on both test datasets</th>\n",
       "      <td>8.57</td>\n",
       "      <td>11.34</td>\n",
       "      <td>10.24</td>\n",
       "      <td>0.4388</td>\n",
       "      <td>0.4659</td>\n",
       "      <td>0.4471</td>\n",
       "    </tr>\n",
       "  </tbody>\n",
       "</table>\n",
       "</div>"
      ],
      "text/plain": [
       "                                              True Positive  False Positives  \\\n",
       "Results at 0.5 seconds on both test datasets           8.57            11.34   \n",
       "\n",
       "                                              False Negatives  Precision  \\\n",
       "Results at 0.5 seconds on both test datasets            10.24     0.4388   \n",
       "\n",
       "                                              Recall  F measure  \n",
       "Results at 0.5 seconds on both test datasets  0.4659     0.4471  "
      ]
     },
     "execution_count": 9,
     "metadata": {},
     "output_type": "execute_result"
    }
   ],
   "source": [
    "sig_test_mean_zero_five = [(sig_zero_five_odd[i] + sig_zero_five_even[i])/2 for i in range(6)]\n",
    "pd.DataFrame(sig_test_mean_zero_five, index = ['True Positive','False Positives','False Negatives','Precision', 'Recall', 'F measure'], columns = [\"Results at 0.5 seconds on both test datasets\"]).T"
   ]
  },
  {
   "cell_type": "markdown",
   "metadata": {},
   "source": [
    "And at 3 seconds:"
   ]
  },
  {
   "cell_type": "code",
   "execution_count": 10,
   "metadata": {
    "ExecuteTime": {
     "end_time": "2020-08-07T14:13:11.343340Z",
     "start_time": "2020-08-07T14:13:11.333369Z"
    }
   },
   "outputs": [
    {
     "data": {
      "text/html": [
       "<div>\n",
       "<style scoped>\n",
       "    .dataframe tbody tr th:only-of-type {\n",
       "        vertical-align: middle;\n",
       "    }\n",
       "\n",
       "    .dataframe tbody tr th {\n",
       "        vertical-align: top;\n",
       "    }\n",
       "\n",
       "    .dataframe thead th {\n",
       "        text-align: right;\n",
       "    }\n",
       "</style>\n",
       "<table border=\"1\" class=\"dataframe\">\n",
       "  <thead>\n",
       "    <tr style=\"text-align: right;\">\n",
       "      <th></th>\n",
       "      <th>True Positive</th>\n",
       "      <th>False Positives</th>\n",
       "      <th>False Negatives</th>\n",
       "      <th>Precision</th>\n",
       "      <th>Recall</th>\n",
       "      <th>F measure</th>\n",
       "    </tr>\n",
       "  </thead>\n",
       "  <tbody>\n",
       "    <tr>\n",
       "      <th>Results at 0.5 seconds on both test datasets</th>\n",
       "      <td>13.29</td>\n",
       "      <td>6.62</td>\n",
       "      <td>5.52</td>\n",
       "      <td>0.6762</td>\n",
       "      <td>0.7101</td>\n",
       "      <td>0.6862</td>\n",
       "    </tr>\n",
       "  </tbody>\n",
       "</table>\n",
       "</div>"
      ],
      "text/plain": [
       "                                              True Positive  False Positives  \\\n",
       "Results at 0.5 seconds on both test datasets          13.29             6.62   \n",
       "\n",
       "                                              False Negatives  Precision  \\\n",
       "Results at 0.5 seconds on both test datasets             5.52     0.6762   \n",
       "\n",
       "                                              Recall  F measure  \n",
       "Results at 0.5 seconds on both test datasets  0.7101     0.6862  "
      ]
     },
     "execution_count": 10,
     "metadata": {},
     "output_type": "execute_result"
    }
   ],
   "source": [
    "sig_test_mean_three = [(sig_three_odd[i] + sig_three_even[i])/2 for i in range(6)]\n",
    "pd.DataFrame(sig_test_mean_three, index = ['True Positive','False Positives','False Negatives','Precision', 'Recall', 'F measure'], columns = [\"Results at 0.5 seconds on both test datasets\"]).T"
   ]
  },
  {
   "cell_type": "markdown",
   "metadata": {},
   "source": [
    "Also not included in the paper are below the results of the segmentation of the autosimilarity of the signal on the entire RWC dataset, but without the penalty regularization function. As we can see, the penalty function greatly impactes the segmentation when sementing the signal."
   ]
  },
  {
   "cell_type": "code",
   "execution_count": 6,
   "metadata": {
    "ExecuteTime": {
     "end_time": "2020-08-07T14:14:48.979002Z",
     "start_time": "2020-08-07T14:14:31.870389Z"
    }
   },
   "outputs": [
    {
     "data": {
      "text/html": [
       "<div>\n",
       "<style scoped>\n",
       "    .dataframe tbody tr th:only-of-type {\n",
       "        vertical-align: middle;\n",
       "    }\n",
       "\n",
       "    .dataframe tbody tr th {\n",
       "        vertical-align: top;\n",
       "    }\n",
       "\n",
       "    .dataframe thead th {\n",
       "        text-align: right;\n",
       "    }\n",
       "</style>\n",
       "<table border=\"1\" class=\"dataframe\">\n",
       "  <thead>\n",
       "    <tr style=\"text-align: right;\">\n",
       "      <th></th>\n",
       "      <th>True Positives</th>\n",
       "      <th>False Positives</th>\n",
       "      <th>False Negatives</th>\n",
       "      <th>Precision</th>\n",
       "      <th>Recall</th>\n",
       "      <th>F measure</th>\n",
       "    </tr>\n",
       "  </thead>\n",
       "  <tbody>\n",
       "    <tr>\n",
       "      <th>0.5 secondes results on the signal and on all RWC, without penalty function.</th>\n",
       "      <td>6.94</td>\n",
       "      <td>18.61</td>\n",
       "      <td>11.87</td>\n",
       "      <td>0.283</td>\n",
       "      <td>0.3774</td>\n",
       "      <td>0.3201</td>\n",
       "    </tr>\n",
       "  </tbody>\n",
       "</table>\n",
       "</div>"
      ],
      "text/plain": [
       "                                                    True Positives  \\\n",
       "0.5 secondes results on the signal and on all R...            6.94   \n",
       "\n",
       "                                                    False Positives  \\\n",
       "0.5 secondes results on the signal and on all R...            18.61   \n",
       "\n",
       "                                                    False Negatives  \\\n",
       "0.5 secondes results on the signal and on all R...            11.87   \n",
       "\n",
       "                                                    Precision  Recall  \\\n",
       "0.5 secondes results on the signal and on all R...      0.283  0.3774   \n",
       "\n",
       "                                                    F measure  \n",
       "0.5 secondes results on the signal and on all R...     0.3201  "
      ]
     },
     "metadata": {},
     "output_type": "display_data"
    },
    {
     "data": {
      "text/html": [
       "<div>\n",
       "<style scoped>\n",
       "    .dataframe tbody tr th:only-of-type {\n",
       "        vertical-align: middle;\n",
       "    }\n",
       "\n",
       "    .dataframe tbody tr th {\n",
       "        vertical-align: top;\n",
       "    }\n",
       "\n",
       "    .dataframe thead th {\n",
       "        text-align: right;\n",
       "    }\n",
       "</style>\n",
       "<table border=\"1\" class=\"dataframe\">\n",
       "  <thead>\n",
       "    <tr style=\"text-align: right;\">\n",
       "      <th></th>\n",
       "      <th>True Positives</th>\n",
       "      <th>False Positives</th>\n",
       "      <th>False Negatives</th>\n",
       "      <th>Precision</th>\n",
       "      <th>Recall</th>\n",
       "      <th>F measure</th>\n",
       "    </tr>\n",
       "  </thead>\n",
       "  <tbody>\n",
       "    <tr>\n",
       "      <th>3 secondes results on the signal and on all RWC, without penalty function.</th>\n",
       "      <td>12.04</td>\n",
       "      <td>13.51</td>\n",
       "      <td>6.77</td>\n",
       "      <td>0.4747</td>\n",
       "      <td>0.643</td>\n",
       "      <td>0.5409</td>\n",
       "    </tr>\n",
       "  </tbody>\n",
       "</table>\n",
       "</div>"
      ],
      "text/plain": [
       "                                                    True Positives  \\\n",
       "3 secondes results on the signal and on all RWC...           12.04   \n",
       "\n",
       "                                                    False Positives  \\\n",
       "3 secondes results on the signal and on all RWC...            13.51   \n",
       "\n",
       "                                                    False Negatives  \\\n",
       "3 secondes results on the signal and on all RWC...             6.77   \n",
       "\n",
       "                                                    Precision  Recall  \\\n",
       "3 secondes results on the signal and on all RWC...     0.4747   0.643   \n",
       "\n",
       "                                                    F measure  \n",
       "3 secondes results on the signal and on all RWC...     0.5409  "
      ]
     },
     "metadata": {},
     "output_type": "display_data"
    }
   ],
   "source": [
    "test.results_on_signal_without_lambda(entire_rwc, convolution_type = convolution_type, legend = \"on the signal and on all RWC, without penalty function.\")"
   ]
  }
 ],
 "metadata": {
  "kernelspec": {
   "display_name": "Python 3",
   "language": "python",
   "name": "python3"
  },
  "language_info": {
   "codemirror_mode": {
    "name": "ipython",
    "version": 3
   },
   "file_extension": ".py",
   "mimetype": "text/x-python",
   "name": "python",
   "nbconvert_exporter": "python",
   "pygments_lexer": "ipython3",
   "version": "3.7.6"
  },
  "toc": {
   "base_numbering": 1,
   "nav_menu": {},
   "number_sections": true,
   "sideBar": true,
   "skip_h1_title": false,
   "title_cell": "Table of Contents",
   "title_sidebar": "Contents",
   "toc_cell": false,
   "toc_position": {},
   "toc_section_display": true,
   "toc_window_display": false
  },
  "varInspector": {
   "cols": {
    "lenName": 16,
    "lenType": 16,
    "lenVar": 40
   },
   "kernels_config": {
    "python": {
     "delete_cmd_postfix": "",
     "delete_cmd_prefix": "del ",
     "library": "var_list.py",
     "varRefreshCmd": "print(var_dic_list())"
    },
    "r": {
     "delete_cmd_postfix": ") ",
     "delete_cmd_prefix": "rm(",
     "library": "var_list.r",
     "varRefreshCmd": "cat(var_dic_list()) "
    }
   },
   "types_to_exclude": [
    "module",
    "function",
    "builtin_function_or_method",
    "instance",
    "_Feature"
   ],
   "window_display": false
  }
 },
 "nbformat": 4,
 "nbformat_minor": 4
}
