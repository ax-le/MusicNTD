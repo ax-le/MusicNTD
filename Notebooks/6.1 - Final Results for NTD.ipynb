{
 "cells": [
  {
   "cell_type": "code",
   "execution_count": 1,
   "metadata": {
    "ExecuteTime": {
     "end_time": "2020-07-30T15:14:21.096275Z",
     "start_time": "2020-07-30T15:14:20.728340Z"
    }
   },
   "outputs": [],
   "source": [
    "import sys\n",
    "import os\n",
    "if os.path.abspath('../sample') not in sys.path:\n",
    "    sys.path.insert(0, os.path.abspath('../sample'))\n",
    "if os.path.abspath('../model') not in sys.path:\n",
    "    sys.path.insert(0, os.path.abspath('../model'))\n",
    "    \n",
    "from current_plot import *\n",
    "import final_tests as test\n",
    "import autosimilarity_segmentation as as_seg"
   ]
  },
  {
   "cell_type": "markdown",
   "metadata": {},
   "source": [
    "# Final results"
   ]
  },
  {
   "cell_type": "markdown",
   "metadata": {},
   "source": [
    "In this notebook are presented our final segmentation results for this version of the code. These are the results presented in the paper."
   ]
  },
  {
   "cell_type": "markdown",
   "metadata": {},
   "source": [
    "## Parameters"
   ]
  },
  {
   "cell_type": "code",
   "execution_count": 3,
   "metadata": {
    "ExecuteTime": {
     "end_time": "2020-07-30T14:43:21.584876Z",
     "start_time": "2020-07-30T14:43:21.579886Z"
    }
   },
   "outputs": [],
   "source": [
    "# Fixed hyperparams\n",
    "subdivision = 96\n",
    "annotations_type = \"MIREX10\"\n",
    "penalty_func = \"modulo8\" # \"Favouring 8, then modulo 4\""
   ]
  },
  {
   "cell_type": "code",
   "execution_count": 3,
   "metadata": {
    "ExecuteTime": {
     "end_time": "2020-07-30T15:14:28.413266Z",
     "start_time": "2020-07-30T15:14:28.406162Z"
    }
   },
   "outputs": [],
   "source": [
    "# Paths\n",
    "entire_rwc = \"C:\\\\Users\\\\amarmore\\\\Desktop\\\\Audio samples\\\\RWC Pop\\\\Entire RWC\"\n",
    "even_songs = \"C:\\\\Users\\\\amarmore\\\\Desktop\\\\Audio samples\\\\RWC Pop\\\\Even songs\"\n",
    "odd_songs = \"C:\\\\Users\\\\amarmore\\\\Desktop\\\\Audio samples\\\\RWC Pop\\\\Odd songs\""
   ]
  },
  {
   "cell_type": "markdown",
   "metadata": {},
   "source": [
    "For these final tests, we will try ranks for $H$ and $Q$ in the range [12,16,20,24,28,32,36,40,44,48], and a range for the parameter $\\lambda$ of $[0,2[$ with a step of $0.1$."
   ]
  },
  {
   "cell_type": "code",
   "execution_count": 5,
   "metadata": {
    "ExecuteTime": {
     "end_time": "2020-07-30T14:43:24.097895Z",
     "start_time": "2020-07-30T14:43:24.089915Z"
    }
   },
   "outputs": [],
   "source": [
    "ranks_rhythm = [12,16,20,24,28,32,36,40,44,48]\n",
    "ranks_pattern = [12,16,20,24,28,32,36,40,44,48]\n",
    "penalty_range = [i/10 for i in range(0,20)]"
   ]
  },
  {
   "cell_type": "markdown",
   "metadata": {},
   "source": [
    "Below is the convolution kernel we will use."
   ]
  },
  {
   "cell_type": "code",
   "execution_count": 5,
   "metadata": {
    "ExecuteTime": {
     "end_time": "2020-05-05T07:39:02.601318Z",
     "start_time": "2020-05-05T07:39:02.435563Z"
    }
   },
   "outputs": [
    {
     "data": {
      "image/png": "[encoded data removed]",
      "text/plain": [
       "<Figure size 504x504 with 1 Axes>"
      ]
     },
     "metadata": {},
     "output_type": "display_data"
    }
   ],
   "source": [
    "plot_me_this_spectrogram(as_seg.compute_all_kernels(10)[-1], title=\"Kernel\", x_axis = None, y_axis = None)"
   ]
  },
  {
   "cell_type": "markdown",
   "metadata": {},
   "source": [
    "#  Unincluded: Fixed parameters"
   ]
  },
  {
   "cell_type": "markdown",
   "metadata": {},
   "source": [
    "We begin by a condition (not included in the paper) where we fix all parameters. In that sense, it's a totally blind method. Parameters though, are fixed empirically.\n",
    "\n",
    "Parameter $\\lambda$ was fixed to 1 as it was the best parameter in the experimental notebook for the method \"Favouring 8, then modulo 4\".\n",
    "\n",
    "Ranks were set to 32 for both $H$ and $Q$, as it is generally a good compromise."
   ]
  },
  {
   "cell_type": "code",
   "execution_count": 6,
   "metadata": {
    "ExecuteTime": {
     "end_time": "2020-07-30T14:44:00.504668Z",
     "start_time": "2020-07-30T14:43:26.493074Z"
    }
   },
   "outputs": [
    {
     "name": "stderr",
     "output_type": "stream",
     "text": [
      "C:\\Users\\amarmore\\Desktop\\Projects\\PhD main projects\\Releases\\NTD for segmentation\\sample\\autosimilarity_segmentation.py:45: RuntimeWarning: invalid value encountered in true_divide\n",
      "  this_array = np.array([list(i/np.linalg.norm(i)) for i in this_array.T]).T\n"
     ]
    },
    {
     "data": {
      "text/html": [
       "<div>\n",
       "<style scoped>\n",
       "    .dataframe tbody tr th:only-of-type {\n",
       "        vertical-align: middle;\n",
       "    }\n",
       "\n",
       "    .dataframe tbody tr th {\n",
       "        vertical-align: top;\n",
       "    }\n",
       "\n",
       "    .dataframe thead th {\n",
       "        text-align: right;\n",
       "    }\n",
       "</style>\n",
       "<table border=\"1\" class=\"dataframe\">\n",
       "  <thead>\n",
       "    <tr style=\"text-align: right;\">\n",
       "      <th></th>\n",
       "      <th>Vrai Positifs</th>\n",
       "      <th>Faux Positifs</th>\n",
       "      <th>Faux Négatifs</th>\n",
       "      <th>Precision</th>\n",
       "      <th>Rappel</th>\n",
       "      <th>F mesure</th>\n",
       "    </tr>\n",
       "  </thead>\n",
       "  <tbody>\n",
       "    <tr>\n",
       "      <th>Résultats à 0.5 secondes à paramètres fixés en dur.</th>\n",
       "      <td>11.78</td>\n",
       "      <td>11.28</td>\n",
       "      <td>7.03</td>\n",
       "      <td>0.5281</td>\n",
       "      <td>0.6318</td>\n",
       "      <td>0.569</td>\n",
       "    </tr>\n",
       "  </tbody>\n",
       "</table>\n",
       "</div>"
      ],
      "text/plain": [
       "                                                    Vrai Positifs  \\\n",
       "Résultats à 0.5 secondes à paramètres fixés en ...          11.78   \n",
       "\n",
       "                                                    Faux Positifs  \\\n",
       "Résultats à 0.5 secondes à paramètres fixés en ...          11.28   \n",
       "\n",
       "                                                    Faux Négatifs  Precision  \\\n",
       "Résultats à 0.5 secondes à paramètres fixés en ...           7.03     0.5281   \n",
       "\n",
       "                                                    Rappel  F mesure  \n",
       "Résultats à 0.5 secondes à paramètres fixés en ...  0.6318     0.569  "
      ]
     },
     "metadata": {},
     "output_type": "display_data"
    },
    {
     "data": {
      "text/html": [
       "<div>\n",
       "<style scoped>\n",
       "    .dataframe tbody tr th:only-of-type {\n",
       "        vertical-align: middle;\n",
       "    }\n",
       "\n",
       "    .dataframe tbody tr th {\n",
       "        vertical-align: top;\n",
       "    }\n",
       "\n",
       "    .dataframe thead th {\n",
       "        text-align: right;\n",
       "    }\n",
       "</style>\n",
       "<table border=\"1\" class=\"dataframe\">\n",
       "  <thead>\n",
       "    <tr style=\"text-align: right;\">\n",
       "      <th></th>\n",
       "      <th>Vrai Positifs</th>\n",
       "      <th>Faux Positifs</th>\n",
       "      <th>Faux Négatifs</th>\n",
       "      <th>Precision</th>\n",
       "      <th>Rappel</th>\n",
       "      <th>F mesure</th>\n",
       "    </tr>\n",
       "  </thead>\n",
       "  <tbody>\n",
       "    <tr>\n",
       "      <th>Résultats à 3 secondes à paramètres fixés en dur.</th>\n",
       "      <td>14.92</td>\n",
       "      <td>8.14</td>\n",
       "      <td>3.89</td>\n",
       "      <td>0.6638</td>\n",
       "      <td>0.7958</td>\n",
       "      <td>0.7162</td>\n",
       "    </tr>\n",
       "  </tbody>\n",
       "</table>\n",
       "</div>"
      ],
      "text/plain": [
       "                                                   Vrai Positifs  \\\n",
       "Résultats à 3 secondes à paramètres fixés en dur.          14.92   \n",
       "\n",
       "                                                   Faux Positifs  \\\n",
       "Résultats à 3 secondes à paramètres fixés en dur.           8.14   \n",
       "\n",
       "                                                   Faux Négatifs  Precision  \\\n",
       "Résultats à 3 secondes à paramètres fixés en dur.           3.89     0.6638   \n",
       "\n",
       "                                                   Rappel  F mesure  \n",
       "Résultats à 3 secondes à paramètres fixés en dur.  0.7958    0.7162  "
      ]
     },
     "metadata": {},
     "output_type": "display_data"
    }
   ],
   "source": [
    "test.final_results_fixed_conditions(entire_rwc, [12,32,32], penalty_weight = 1, annotations_type = annotations_type, subdivision = subdivision, penalty_func = penalty_func, legend = \"à paramètres fixés en dur.\")"
   ]
  },
  {
   "cell_type": "markdown",
   "metadata": {},
   "source": [
    "# Cross validation on parameters\n",
    "\n",
    "In order to find accurate parameters, we decided to proceed by 2-fold cross-validation.\n",
    "\n",
    "Here, ranks for $H$ and $Q$ and $\\lambda$ are learned on even songs and then tested on odd songs, and vice-versa.\n",
    "\n",
    "Final results, in the paper, are means of results on both tests subsets."
   ]
  },
  {
   "cell_type": "markdown",
   "metadata": {},
   "source": [
    "Firstly:\n",
    " - learning on even songs\n",
    " - testing on odd songs"
   ]
  },
  {
   "cell_type": "code",
   "execution_count": 6,
   "metadata": {
    "ExecuteTime": {
     "end_time": "2020-05-05T09:35:18.808289Z",
     "start_time": "2020-05-05T07:39:02.601318Z"
    }
   },
   "outputs": [
    {
     "name": "stderr",
     "output_type": "stream",
     "text": [
      "C:\\Users\\amarmore\\Desktop\\Projects\\PhD main projects\\On Git\\Code\\Tensor factorization\\sample\\autosimilarity_segmentation.py:44: RuntimeWarning: invalid value encountered in true_divide\n",
      "  this_array = np.array([list(i/np.linalg.norm(i)) for i in this_array.T]).T\n"
     ]
    },
    {
     "data": {
      "text/html": [
       "<div>\n",
       "<style scoped>\n",
       "    .dataframe tbody tr th:only-of-type {\n",
       "        vertical-align: middle;\n",
       "    }\n",
       "\n",
       "    .dataframe tbody tr th {\n",
       "        vertical-align: top;\n",
       "    }\n",
       "\n",
       "    .dataframe thead th {\n",
       "        text-align: right;\n",
       "    }\n",
       "</style>\n",
       "<table border=\"1\" class=\"dataframe\">\n",
       "  <thead>\n",
       "    <tr style=\"text-align: right;\">\n",
       "      <th></th>\n",
       "      <th>Meilleur rang de $H$</th>\n",
       "      <th>Meilleur rang de $Q$</th>\n",
       "      <th>Meilleur lambda de pondération de convolution.</th>\n",
       "    </tr>\n",
       "  </thead>\n",
       "  <tbody>\n",
       "    <tr>\n",
       "      <th>Paramètres appris</th>\n",
       "      <td>40.0</td>\n",
       "      <td>28.0</td>\n",
       "      <td>0.8</td>\n",
       "    </tr>\n",
       "  </tbody>\n",
       "</table>\n",
       "</div>"
      ],
      "text/plain": [
       "                   Meilleur rang de $H$  Meilleur rang de $Q$  \\\n",
       "Paramètres appris                  40.0                  28.0   \n",
       "\n",
       "                   Meilleur lambda de pondération de convolution.  \n",
       "Paramètres appris                                             0.8  "
      ]
     },
     "metadata": {},
     "output_type": "display_data"
    },
    {
     "data": {
      "text/html": [
       "<div>\n",
       "<style scoped>\n",
       "    .dataframe tbody tr th:only-of-type {\n",
       "        vertical-align: middle;\n",
       "    }\n",
       "\n",
       "    .dataframe tbody tr th {\n",
       "        vertical-align: top;\n",
       "    }\n",
       "\n",
       "    .dataframe thead th {\n",
       "        text-align: right;\n",
       "    }\n",
       "</style>\n",
       "<table border=\"1\" class=\"dataframe\">\n",
       "  <thead>\n",
       "    <tr style=\"text-align: right;\">\n",
       "      <th></th>\n",
       "      <th>Vrai Positifs</th>\n",
       "      <th>Faux Positifs</th>\n",
       "      <th>Faux Négatifs</th>\n",
       "      <th>Precision</th>\n",
       "      <th>Rappel</th>\n",
       "      <th>F mesure</th>\n",
       "    </tr>\n",
       "  </thead>\n",
       "  <tbody>\n",
       "    <tr>\n",
       "      <th>Résultats à 0.5 secondes , sur dataset de test.</th>\n",
       "      <td>12.28</td>\n",
       "      <td>12.62</td>\n",
       "      <td>6.9</td>\n",
       "      <td>0.517</td>\n",
       "      <td>0.6491</td>\n",
       "      <td>0.5655</td>\n",
       "    </tr>\n",
       "  </tbody>\n",
       "</table>\n",
       "</div>"
      ],
      "text/plain": [
       "                                                 Vrai Positifs  Faux Positifs  \\\n",
       "Résultats à 0.5 secondes , sur dataset de test.          12.28          12.62   \n",
       "\n",
       "                                                 Faux Négatifs  Precision  \\\n",
       "Résultats à 0.5 secondes , sur dataset de test.            6.9      0.517   \n",
       "\n",
       "                                                 Rappel  F mesure  \n",
       "Résultats à 0.5 secondes , sur dataset de test.  0.6491    0.5655  "
      ]
     },
     "metadata": {},
     "output_type": "display_data"
    },
    {
     "data": {
      "text/html": [
       "<div>\n",
       "<style scoped>\n",
       "    .dataframe tbody tr th:only-of-type {\n",
       "        vertical-align: middle;\n",
       "    }\n",
       "\n",
       "    .dataframe tbody tr th {\n",
       "        vertical-align: top;\n",
       "    }\n",
       "\n",
       "    .dataframe thead th {\n",
       "        text-align: right;\n",
       "    }\n",
       "</style>\n",
       "<table border=\"1\" class=\"dataframe\">\n",
       "  <thead>\n",
       "    <tr style=\"text-align: right;\">\n",
       "      <th></th>\n",
       "      <th>Vrai Positifs</th>\n",
       "      <th>Faux Positifs</th>\n",
       "      <th>Faux Négatifs</th>\n",
       "      <th>Precision</th>\n",
       "      <th>Rappel</th>\n",
       "      <th>F mesure</th>\n",
       "    </tr>\n",
       "  </thead>\n",
       "  <tbody>\n",
       "    <tr>\n",
       "      <th>Résultats à 3 secondes , sur dataset de test.</th>\n",
       "      <td>14.98</td>\n",
       "      <td>9.92</td>\n",
       "      <td>4.2</td>\n",
       "      <td>0.6308</td>\n",
       "      <td>0.7936</td>\n",
       "      <td>0.691</td>\n",
       "    </tr>\n",
       "  </tbody>\n",
       "</table>\n",
       "</div>"
      ],
      "text/plain": [
       "                                               Vrai Positifs  Faux Positifs  \\\n",
       "Résultats à 3 secondes , sur dataset de test.          14.98           9.92   \n",
       "\n",
       "                                               Faux Négatifs  Precision  \\\n",
       "Résultats à 3 secondes , sur dataset de test.            4.2     0.6308   \n",
       "\n",
       "                                               Rappel  F mesure  \n",
       "Résultats à 3 secondes , sur dataset de test.  0.7936     0.691  "
      ]
     },
     "metadata": {},
     "output_type": "display_data"
    }
   ],
   "source": [
    "best_param_even = test.several_ranks_with_cross_validation_of_param_RWC(learning_dataset = even_songs, testing_dataset = odd_songs,\n",
    "                                                      ranks_rhythm = ranks_rhythm, ranks_pattern = ranks_pattern, penalty_range = penalty_range, annotations_type = annotations_type, subdivision = subdivision, penalty_func = penalty_func)"
   ]
  },
  {
   "cell_type": "markdown",
   "metadata": {},
   "source": [
    "Secondly:\n",
    " - learning on odd songs\n",
    " - testing on even songs"
   ]
  },
  {
   "cell_type": "code",
   "execution_count": 7,
   "metadata": {
    "ExecuteTime": {
     "end_time": "2020-05-05T11:37:32.043489Z",
     "start_time": "2020-05-05T09:35:18.813276Z"
    }
   },
   "outputs": [
    {
     "data": {
      "text/html": [
       "<div>\n",
       "<style scoped>\n",
       "    .dataframe tbody tr th:only-of-type {\n",
       "        vertical-align: middle;\n",
       "    }\n",
       "\n",
       "    .dataframe tbody tr th {\n",
       "        vertical-align: top;\n",
       "    }\n",
       "\n",
       "    .dataframe thead th {\n",
       "        text-align: right;\n",
       "    }\n",
       "</style>\n",
       "<table border=\"1\" class=\"dataframe\">\n",
       "  <thead>\n",
       "    <tr style=\"text-align: right;\">\n",
       "      <th></th>\n",
       "      <th>Meilleur rang de $H$</th>\n",
       "      <th>Meilleur rang de $Q$</th>\n",
       "      <th>Meilleur lambda de pondération de convolution.</th>\n",
       "    </tr>\n",
       "  </thead>\n",
       "  <tbody>\n",
       "    <tr>\n",
       "      <th>Paramètres appris</th>\n",
       "      <td>48.0</td>\n",
       "      <td>24.0</td>\n",
       "      <td>1.6</td>\n",
       "    </tr>\n",
       "  </tbody>\n",
       "</table>\n",
       "</div>"
      ],
      "text/plain": [
       "                   Meilleur rang de $H$  Meilleur rang de $Q$  \\\n",
       "Paramètres appris                  48.0                  24.0   \n",
       "\n",
       "                   Meilleur lambda de pondération de convolution.  \n",
       "Paramètres appris                                             1.6  "
      ]
     },
     "metadata": {},
     "output_type": "display_data"
    },
    {
     "data": {
      "text/html": [
       "<div>\n",
       "<style scoped>\n",
       "    .dataframe tbody tr th:only-of-type {\n",
       "        vertical-align: middle;\n",
       "    }\n",
       "\n",
       "    .dataframe tbody tr th {\n",
       "        vertical-align: top;\n",
       "    }\n",
       "\n",
       "    .dataframe thead th {\n",
       "        text-align: right;\n",
       "    }\n",
       "</style>\n",
       "<table border=\"1\" class=\"dataframe\">\n",
       "  <thead>\n",
       "    <tr style=\"text-align: right;\">\n",
       "      <th></th>\n",
       "      <th>Vrai Positifs</th>\n",
       "      <th>Faux Positifs</th>\n",
       "      <th>Faux Négatifs</th>\n",
       "      <th>Precision</th>\n",
       "      <th>Rappel</th>\n",
       "      <th>F mesure</th>\n",
       "    </tr>\n",
       "  </thead>\n",
       "  <tbody>\n",
       "    <tr>\n",
       "      <th>Résultats à 0.5 secondes , sur dataset de test.</th>\n",
       "      <td>11.0</td>\n",
       "      <td>9.64</td>\n",
       "      <td>7.44</td>\n",
       "      <td>0.548</td>\n",
       "      <td>0.593</td>\n",
       "      <td>0.5664</td>\n",
       "    </tr>\n",
       "  </tbody>\n",
       "</table>\n",
       "</div>"
      ],
      "text/plain": [
       "                                                 Vrai Positifs  Faux Positifs  \\\n",
       "Résultats à 0.5 secondes , sur dataset de test.           11.0           9.64   \n",
       "\n",
       "                                                 Faux Négatifs  Precision  \\\n",
       "Résultats à 0.5 secondes , sur dataset de test.           7.44      0.548   \n",
       "\n",
       "                                                 Rappel  F mesure  \n",
       "Résultats à 0.5 secondes , sur dataset de test.   0.593    0.5664  "
      ]
     },
     "metadata": {},
     "output_type": "display_data"
    },
    {
     "data": {
      "text/html": [
       "<div>\n",
       "<style scoped>\n",
       "    .dataframe tbody tr th:only-of-type {\n",
       "        vertical-align: middle;\n",
       "    }\n",
       "\n",
       "    .dataframe tbody tr th {\n",
       "        vertical-align: top;\n",
       "    }\n",
       "\n",
       "    .dataframe thead th {\n",
       "        text-align: right;\n",
       "    }\n",
       "</style>\n",
       "<table border=\"1\" class=\"dataframe\">\n",
       "  <thead>\n",
       "    <tr style=\"text-align: right;\">\n",
       "      <th></th>\n",
       "      <th>Vrai Positifs</th>\n",
       "      <th>Faux Positifs</th>\n",
       "      <th>Faux Négatifs</th>\n",
       "      <th>Precision</th>\n",
       "      <th>Rappel</th>\n",
       "      <th>F mesure</th>\n",
       "    </tr>\n",
       "  </thead>\n",
       "  <tbody>\n",
       "    <tr>\n",
       "      <th>Résultats à 3 secondes , sur dataset de test.</th>\n",
       "      <td>14.28</td>\n",
       "      <td>6.36</td>\n",
       "      <td>4.16</td>\n",
       "      <td>0.7048</td>\n",
       "      <td>0.7679</td>\n",
       "      <td>0.7307</td>\n",
       "    </tr>\n",
       "  </tbody>\n",
       "</table>\n",
       "</div>"
      ],
      "text/plain": [
       "                                               Vrai Positifs  Faux Positifs  \\\n",
       "Résultats à 3 secondes , sur dataset de test.          14.28           6.36   \n",
       "\n",
       "                                               Faux Négatifs  Precision  \\\n",
       "Résultats à 3 secondes , sur dataset de test.           4.16     0.7048   \n",
       "\n",
       "                                               Rappel  F mesure  \n",
       "Résultats à 3 secondes , sur dataset de test.  0.7679    0.7307  "
      ]
     },
     "metadata": {},
     "output_type": "display_data"
    }
   ],
   "source": [
    "best_param_odd = test.several_ranks_with_cross_validation_of_param_RWC(learning_dataset = odd_songs, testing_dataset = even_songs,\n",
    "                                                      ranks_rhythm = ranks_rhythm, ranks_pattern = ranks_pattern, penalty_range = penalty_range, annotations_type = annotations_type, subdivision = subdivision, penalty_func = penalty_func)"
   ]
  },
  {
   "cell_type": "markdown",
   "metadata": {},
   "source": [
    "# Oracle ranks"
   ]
  },
  {
   "cell_type": "markdown",
   "metadata": {},
   "source": [
    "This below contains the results in the oracle ranks condition, which means that, for each song, we keep only the ranks leading to the best F measure."
   ]
  },
  {
   "cell_type": "code",
   "execution_count": 8,
   "metadata": {
    "ExecuteTime": {
     "end_time": "2020-05-05T11:56:34.290346Z",
     "start_time": "2020-05-05T11:37:32.048476Z"
    }
   },
   "outputs": [
    {
     "data": {
      "text/html": [
       "<div>\n",
       "<style scoped>\n",
       "    .dataframe tbody tr th:only-of-type {\n",
       "        vertical-align: middle;\n",
       "    }\n",
       "\n",
       "    .dataframe tbody tr th {\n",
       "        vertical-align: top;\n",
       "    }\n",
       "\n",
       "    .dataframe thead tr th {\n",
       "        text-align: left;\n",
       "    }\n",
       "</style>\n",
       "<table border=\"1\" class=\"dataframe\">\n",
       "  <thead>\n",
       "    <tr>\n",
       "      <th></th>\n",
       "      <th>Vrai Positifs</th>\n",
       "      <th>Faux Positifs</th>\n",
       "      <th>Faux Négatifs</th>\n",
       "      <th>Precision</th>\n",
       "      <th>Rappel</th>\n",
       "      <th>F mesure</th>\n",
       "    </tr>\n",
       "  </thead>\n",
       "  <tbody>\n",
       "    <tr>\n",
       "      <th>Rangs oracles, à 0.5 secondes</th>\n",
       "      <td>14.6</td>\n",
       "      <td>7.93</td>\n",
       "      <td>4.21</td>\n",
       "      <td>0.6709</td>\n",
       "      <td>0.782</td>\n",
       "      <td>0.7146</td>\n",
       "    </tr>\n",
       "  </tbody>\n",
       "</table>\n",
       "</div>"
      ],
      "text/plain": [
       "                              Vrai Positifs Faux Positifs Faux Négatifs  \\\n",
       "Rangs oracles, à 0.5 secondes          14.6          7.93          4.21   \n",
       "\n",
       "                              Precision Rappel F mesure  \n",
       "Rangs oracles, à 0.5 secondes    0.6709  0.782   0.7146  "
      ]
     },
     "metadata": {},
     "output_type": "display_data"
    },
    {
     "data": {
      "text/html": [
       "<div>\n",
       "<style scoped>\n",
       "    .dataframe tbody tr th:only-of-type {\n",
       "        vertical-align: middle;\n",
       "    }\n",
       "\n",
       "    .dataframe tbody tr th {\n",
       "        vertical-align: top;\n",
       "    }\n",
       "\n",
       "    .dataframe thead tr th {\n",
       "        text-align: left;\n",
       "    }\n",
       "</style>\n",
       "<table border=\"1\" class=\"dataframe\">\n",
       "  <thead>\n",
       "    <tr>\n",
       "      <th></th>\n",
       "      <th>Vrai Positifs</th>\n",
       "      <th>Faux Positifs</th>\n",
       "      <th>Faux Négatifs</th>\n",
       "      <th>Precision</th>\n",
       "      <th>Rappel</th>\n",
       "      <th>F mesure</th>\n",
       "    </tr>\n",
       "  </thead>\n",
       "  <tbody>\n",
       "    <tr>\n",
       "      <th>Rangs oracles, à 3 secondes</th>\n",
       "      <td>16.87</td>\n",
       "      <td>5.29</td>\n",
       "      <td>1.94</td>\n",
       "      <td>0.7846</td>\n",
       "      <td>0.9022</td>\n",
       "      <td>0.831</td>\n",
       "    </tr>\n",
       "  </tbody>\n",
       "</table>\n",
       "</div>"
      ],
      "text/plain": [
       "                            Vrai Positifs Faux Positifs Faux Négatifs  \\\n",
       "Rangs oracles, à 3 secondes         16.87          5.29          1.94   \n",
       "\n",
       "                            Precision  Rappel F mesure  \n",
       "Rangs oracles, à 3 secondes    0.7846  0.9022    0.831  "
      ]
     },
     "metadata": {},
     "output_type": "display_data"
    }
   ],
   "source": [
    "penalty_weight = 1 # Fixed to one rather than learned, for convenience\n",
    "test.oracle_ranks(entire_rwc, ranks_rhythm, ranks_pattern, penalty_weight, annotations_type = annotations_type, subdivision = subdivision, penalty_func = penalty_func)"
   ]
  },
  {
   "cell_type": "markdown",
   "metadata": {},
   "source": [
    "For convenience, we also show the distribution histogram of the best ranks (as an image). These results can be found in the notebook studying the chosen convolution (8 bands convolution, notebook 5.2): <img src=\"imgs/hist_ranks_oracle.png\"/>"
   ]
  },
  {
   "cell_type": "markdown",
   "metadata": {},
   "source": [
    "# On signal"
   ]
  },
  {
   "cell_type": "markdown",
   "metadata": {},
   "source": [
    "Below are presented the results when we segment directly the autosimilarity of the signal.\n",
    "\n",
    "This allows us to compare the benefit directly related to the NTD in the segmentation."
   ]
  },
  {
   "cell_type": "code",
   "execution_count": 5,
   "metadata": {
    "ExecuteTime": {
     "end_time": "2020-05-05T13:16:05.649067Z",
     "start_time": "2020-05-05T13:14:47.376656Z"
    }
   },
   "outputs": [
    {
     "name": "stderr",
     "output_type": "stream",
     "text": [
      "C:\\Users\\amarmore\\Desktop\\Projects\\PhD main projects\\On Git\\Code\\Tensor factorization\\sample\\autosimilarity_segmentation.py:44: RuntimeWarning: invalid value encountered in true_divide\n",
      "  this_array = np.array([list(i/np.linalg.norm(i)) for i in this_array.T]).T\n"
     ]
    },
    {
     "data": {
      "text/html": [
       "<div>\n",
       "<style scoped>\n",
       "    .dataframe tbody tr th:only-of-type {\n",
       "        vertical-align: middle;\n",
       "    }\n",
       "\n",
       "    .dataframe tbody tr th {\n",
       "        vertical-align: top;\n",
       "    }\n",
       "\n",
       "    .dataframe thead th {\n",
       "        text-align: right;\n",
       "    }\n",
       "</style>\n",
       "<table border=\"1\" class=\"dataframe\">\n",
       "  <thead>\n",
       "    <tr style=\"text-align: right;\">\n",
       "      <th></th>\n",
       "      <th>Meilleur lambda de pondération de convolution.</th>\n",
       "    </tr>\n",
       "  </thead>\n",
       "  <tbody>\n",
       "    <tr>\n",
       "      <th>Paramètres appris</th>\n",
       "      <td>1.5</td>\n",
       "    </tr>\n",
       "  </tbody>\n",
       "</table>\n",
       "</div>"
      ],
      "text/plain": [
       "                   Meilleur lambda de pondération de convolution.\n",
       "Paramètres appris                                             1.5"
      ]
     },
     "metadata": {},
     "output_type": "display_data"
    },
    {
     "data": {
      "text/html": [
       "<div>\n",
       "<style scoped>\n",
       "    .dataframe tbody tr th:only-of-type {\n",
       "        vertical-align: middle;\n",
       "    }\n",
       "\n",
       "    .dataframe tbody tr th {\n",
       "        vertical-align: top;\n",
       "    }\n",
       "\n",
       "    .dataframe thead th {\n",
       "        text-align: right;\n",
       "    }\n",
       "</style>\n",
       "<table border=\"1\" class=\"dataframe\">\n",
       "  <thead>\n",
       "    <tr style=\"text-align: right;\">\n",
       "      <th></th>\n",
       "      <th>Vrai Positifs</th>\n",
       "      <th>Faux Positifs</th>\n",
       "      <th>Faux Négatifs</th>\n",
       "      <th>Precision</th>\n",
       "      <th>Rappel</th>\n",
       "      <th>F mesure</th>\n",
       "    </tr>\n",
       "  </thead>\n",
       "  <tbody>\n",
       "    <tr>\n",
       "      <th>, sur dataset de test.</th>\n",
       "      <td>8.94</td>\n",
       "      <td>12.08</td>\n",
       "      <td>10.24</td>\n",
       "      <td>0.4326</td>\n",
       "      <td>0.4798</td>\n",
       "      <td>0.4475</td>\n",
       "    </tr>\n",
       "  </tbody>\n",
       "</table>\n",
       "</div>"
      ],
      "text/plain": [
       "                        Vrai Positifs  Faux Positifs  Faux Négatifs  \\\n",
       ", sur dataset de test.           8.94          12.08          10.24   \n",
       "\n",
       "                        Precision  Rappel  F mesure  \n",
       ", sur dataset de test.     0.4326  0.4798    0.4475  "
      ]
     },
     "metadata": {},
     "output_type": "display_data"
    },
    {
     "data": {
      "text/html": [
       "<div>\n",
       "<style scoped>\n",
       "    .dataframe tbody tr th:only-of-type {\n",
       "        vertical-align: middle;\n",
       "    }\n",
       "\n",
       "    .dataframe tbody tr th {\n",
       "        vertical-align: top;\n",
       "    }\n",
       "\n",
       "    .dataframe thead th {\n",
       "        text-align: right;\n",
       "    }\n",
       "</style>\n",
       "<table border=\"1\" class=\"dataframe\">\n",
       "  <thead>\n",
       "    <tr style=\"text-align: right;\">\n",
       "      <th></th>\n",
       "      <th>Vrai Positifs</th>\n",
       "      <th>Faux Positifs</th>\n",
       "      <th>Faux Négatifs</th>\n",
       "      <th>Precision</th>\n",
       "      <th>Rappel</th>\n",
       "      <th>F mesure</th>\n",
       "    </tr>\n",
       "  </thead>\n",
       "  <tbody>\n",
       "    <tr>\n",
       "      <th>, sur dataset de test.</th>\n",
       "      <td>12.9</td>\n",
       "      <td>8.12</td>\n",
       "      <td>6.28</td>\n",
       "      <td>0.6246</td>\n",
       "      <td>0.6833</td>\n",
       "      <td>0.6429</td>\n",
       "    </tr>\n",
       "  </tbody>\n",
       "</table>\n",
       "</div>"
      ],
      "text/plain": [
       "                        Vrai Positifs  Faux Positifs  Faux Négatifs  \\\n",
       ", sur dataset de test.           12.9           8.12           6.28   \n",
       "\n",
       "                        Precision  Rappel  F mesure  \n",
       ", sur dataset de test.     0.6246  0.6833    0.6429  "
      ]
     },
     "metadata": {},
     "output_type": "display_data"
    },
    {
     "data": {
      "text/plain": [
       "1.5"
      ]
     },
     "execution_count": 5,
     "metadata": {},
     "output_type": "execute_result"
    }
   ],
   "source": [
    "test.cross_validation_on_signal(even_songs, odd_songs, penalty_range)"
   ]
  },
  {
   "cell_type": "code",
   "execution_count": 6,
   "metadata": {
    "ExecuteTime": {
     "end_time": "2020-05-05T13:17:58.346984Z",
     "start_time": "2020-05-05T13:16:39.132249Z"
    }
   },
   "outputs": [
    {
     "data": {
      "text/html": [
       "<div>\n",
       "<style scoped>\n",
       "    .dataframe tbody tr th:only-of-type {\n",
       "        vertical-align: middle;\n",
       "    }\n",
       "\n",
       "    .dataframe tbody tr th {\n",
       "        vertical-align: top;\n",
       "    }\n",
       "\n",
       "    .dataframe thead th {\n",
       "        text-align: right;\n",
       "    }\n",
       "</style>\n",
       "<table border=\"1\" class=\"dataframe\">\n",
       "  <thead>\n",
       "    <tr style=\"text-align: right;\">\n",
       "      <th></th>\n",
       "      <th>Meilleur lambda de pondération de convolution.</th>\n",
       "    </tr>\n",
       "  </thead>\n",
       "  <tbody>\n",
       "    <tr>\n",
       "      <th>Paramètres appris</th>\n",
       "      <td>1.7</td>\n",
       "    </tr>\n",
       "  </tbody>\n",
       "</table>\n",
       "</div>"
      ],
      "text/plain": [
       "                   Meilleur lambda de pondération de convolution.\n",
       "Paramètres appris                                             1.7"
      ]
     },
     "metadata": {},
     "output_type": "display_data"
    },
    {
     "data": {
      "text/html": [
       "<div>\n",
       "<style scoped>\n",
       "    .dataframe tbody tr th:only-of-type {\n",
       "        vertical-align: middle;\n",
       "    }\n",
       "\n",
       "    .dataframe tbody tr th {\n",
       "        vertical-align: top;\n",
       "    }\n",
       "\n",
       "    .dataframe thead th {\n",
       "        text-align: right;\n",
       "    }\n",
       "</style>\n",
       "<table border=\"1\" class=\"dataframe\">\n",
       "  <thead>\n",
       "    <tr style=\"text-align: right;\">\n",
       "      <th></th>\n",
       "      <th>Vrai Positifs</th>\n",
       "      <th>Faux Positifs</th>\n",
       "      <th>Faux Négatifs</th>\n",
       "      <th>Precision</th>\n",
       "      <th>Rappel</th>\n",
       "      <th>F mesure</th>\n",
       "    </tr>\n",
       "  </thead>\n",
       "  <tbody>\n",
       "    <tr>\n",
       "      <th>, sur dataset de test.</th>\n",
       "      <td>7.96</td>\n",
       "      <td>10.84</td>\n",
       "      <td>10.48</td>\n",
       "      <td>0.429</td>\n",
       "      <td>0.4337</td>\n",
       "      <td>0.4297</td>\n",
       "    </tr>\n",
       "  </tbody>\n",
       "</table>\n",
       "</div>"
      ],
      "text/plain": [
       "                        Vrai Positifs  Faux Positifs  Faux Négatifs  \\\n",
       ", sur dataset de test.           7.96          10.84          10.48   \n",
       "\n",
       "                        Precision  Rappel  F mesure  \n",
       ", sur dataset de test.      0.429  0.4337    0.4297  "
      ]
     },
     "metadata": {},
     "output_type": "display_data"
    },
    {
     "data": {
      "text/html": [
       "<div>\n",
       "<style scoped>\n",
       "    .dataframe tbody tr th:only-of-type {\n",
       "        vertical-align: middle;\n",
       "    }\n",
       "\n",
       "    .dataframe tbody tr th {\n",
       "        vertical-align: top;\n",
       "    }\n",
       "\n",
       "    .dataframe thead th {\n",
       "        text-align: right;\n",
       "    }\n",
       "</style>\n",
       "<table border=\"1\" class=\"dataframe\">\n",
       "  <thead>\n",
       "    <tr style=\"text-align: right;\">\n",
       "      <th></th>\n",
       "      <th>Vrai Positifs</th>\n",
       "      <th>Faux Positifs</th>\n",
       "      <th>Faux Négatifs</th>\n",
       "      <th>Precision</th>\n",
       "      <th>Rappel</th>\n",
       "      <th>F mesure</th>\n",
       "    </tr>\n",
       "  </thead>\n",
       "  <tbody>\n",
       "    <tr>\n",
       "      <th>, sur dataset de test.</th>\n",
       "      <td>12.5</td>\n",
       "      <td>6.3</td>\n",
       "      <td>5.94</td>\n",
       "      <td>0.6721</td>\n",
       "      <td>0.6763</td>\n",
       "      <td>0.672</td>\n",
       "    </tr>\n",
       "  </tbody>\n",
       "</table>\n",
       "</div>"
      ],
      "text/plain": [
       "                        Vrai Positifs  Faux Positifs  Faux Négatifs  \\\n",
       ", sur dataset de test.           12.5            6.3           5.94   \n",
       "\n",
       "                        Precision  Rappel  F mesure  \n",
       ", sur dataset de test.     0.6721  0.6763     0.672  "
      ]
     },
     "metadata": {},
     "output_type": "display_data"
    },
    {
     "data": {
      "text/plain": [
       "1.7"
      ]
     },
     "execution_count": 6,
     "metadata": {},
     "output_type": "execute_result"
    }
   ],
   "source": [
    "test.cross_validation_on_signal(odd_songs, even_songs, penalty_range)"
   ]
  },
  {
   "cell_type": "markdown",
   "metadata": {},
   "source": [
    "Also not included in the paper are below the results of the segmentation of the autosimilarity of the signal on the entire RWC dataset, but without the penalty regularization function. As we can see, the penalty function greatly impactes the segmentation when sementing the signal."
   ]
  },
  {
   "cell_type": "code",
   "execution_count": 4,
   "metadata": {
    "ExecuteTime": {
     "end_time": "2020-07-30T15:15:09.002342Z",
     "start_time": "2020-07-30T15:14:30.442290Z"
    }
   },
   "outputs": [
    {
     "name": "stderr",
     "output_type": "stream",
     "text": [
      "C:\\Users\\amarmore\\Desktop\\Projects\\PhD main projects\\Releases\\NTD for segmentation\\sample\\autosimilarity_segmentation.py:45: RuntimeWarning: invalid value encountered in true_divide\n",
      "  this_array = np.array([list(i/np.linalg.norm(i)) for i in this_array.T]).T\n"
     ]
    },
    {
     "data": {
      "text/html": [
       "<div>\n",
       "<style scoped>\n",
       "    .dataframe tbody tr th:only-of-type {\n",
       "        vertical-align: middle;\n",
       "    }\n",
       "\n",
       "    .dataframe tbody tr th {\n",
       "        vertical-align: top;\n",
       "    }\n",
       "\n",
       "    .dataframe thead th {\n",
       "        text-align: right;\n",
       "    }\n",
       "</style>\n",
       "<table border=\"1\" class=\"dataframe\">\n",
       "  <thead>\n",
       "    <tr style=\"text-align: right;\">\n",
       "      <th></th>\n",
       "      <th>Vrai Positifs</th>\n",
       "      <th>Faux Positifs</th>\n",
       "      <th>Faux Négatifs</th>\n",
       "      <th>Precision</th>\n",
       "      <th>Rappel</th>\n",
       "      <th>F mesure</th>\n",
       "    </tr>\n",
       "  </thead>\n",
       "  <tbody>\n",
       "    <tr>\n",
       "      <th>Résultats à 0.5 secondes , on the signal and on all RWC, without penalty function.</th>\n",
       "      <td>6.83</td>\n",
       "      <td>18.4</td>\n",
       "      <td>11.98</td>\n",
       "      <td>0.2813</td>\n",
       "      <td>0.3706</td>\n",
       "      <td>0.3164</td>\n",
       "    </tr>\n",
       "  </tbody>\n",
       "</table>\n",
       "</div>"
      ],
      "text/plain": [
       "                                                    Vrai Positifs  \\\n",
       "Résultats à 0.5 secondes , on the signal and on...           6.83   \n",
       "\n",
       "                                                    Faux Positifs  \\\n",
       "Résultats à 0.5 secondes , on the signal and on...           18.4   \n",
       "\n",
       "                                                    Faux Négatifs  Precision  \\\n",
       "Résultats à 0.5 secondes , on the signal and on...          11.98     0.2813   \n",
       "\n",
       "                                                    Rappel  F mesure  \n",
       "Résultats à 0.5 secondes , on the signal and on...  0.3706    0.3164  "
      ]
     },
     "metadata": {},
     "output_type": "display_data"
    },
    {
     "data": {
      "text/html": [
       "<div>\n",
       "<style scoped>\n",
       "    .dataframe tbody tr th:only-of-type {\n",
       "        vertical-align: middle;\n",
       "    }\n",
       "\n",
       "    .dataframe tbody tr th {\n",
       "        vertical-align: top;\n",
       "    }\n",
       "\n",
       "    .dataframe thead th {\n",
       "        text-align: right;\n",
       "    }\n",
       "</style>\n",
       "<table border=\"1\" class=\"dataframe\">\n",
       "  <thead>\n",
       "    <tr style=\"text-align: right;\">\n",
       "      <th></th>\n",
       "      <th>Vrai Positifs</th>\n",
       "      <th>Faux Positifs</th>\n",
       "      <th>Faux Négatifs</th>\n",
       "      <th>Precision</th>\n",
       "      <th>Rappel</th>\n",
       "      <th>F mesure</th>\n",
       "    </tr>\n",
       "  </thead>\n",
       "  <tbody>\n",
       "    <tr>\n",
       "      <th>Résultats à 3 secondes , on the signal and on all RWC, without penalty function.</th>\n",
       "      <td>11.44</td>\n",
       "      <td>13.79</td>\n",
       "      <td>7.37</td>\n",
       "      <td>0.4558</td>\n",
       "      <td>0.61</td>\n",
       "      <td>0.5165</td>\n",
       "    </tr>\n",
       "  </tbody>\n",
       "</table>\n",
       "</div>"
      ],
      "text/plain": [
       "                                                    Vrai Positifs  \\\n",
       "Résultats à 3 secondes , on the signal and on a...          11.44   \n",
       "\n",
       "                                                    Faux Positifs  \\\n",
       "Résultats à 3 secondes , on the signal and on a...          13.79   \n",
       "\n",
       "                                                    Faux Négatifs  Precision  \\\n",
       "Résultats à 3 secondes , on the signal and on a...           7.37     0.4558   \n",
       "\n",
       "                                                    Rappel  F mesure  \n",
       "Résultats à 3 secondes , on the signal and on a...    0.61    0.5165  "
      ]
     },
     "metadata": {},
     "output_type": "display_data"
    }
   ],
   "source": [
    "test.results_on_signal_without_lambda(entire_rwc, legend = \", on the signal and on all RWC, without penalty function.\")"
   ]
  }
 ],
 "metadata": {
  "kernelspec": {
   "display_name": "Python 3",
   "language": "python",
   "name": "python3"
  },
  "language_info": {
   "codemirror_mode": {
    "name": "ipython",
    "version": 3
   },
   "file_extension": ".py",
   "mimetype": "text/x-python",
   "name": "python",
   "nbconvert_exporter": "python",
   "pygments_lexer": "ipython3",
   "version": "3.7.6"
  },
  "toc": {
   "base_numbering": 1,
   "nav_menu": {},
   "number_sections": true,
   "sideBar": true,
   "skip_h1_title": false,
   "title_cell": "Table of Contents",
   "title_sidebar": "Contents",
   "toc_cell": false,
   "toc_position": {},
   "toc_section_display": true,
   "toc_window_display": false
  },
  "varInspector": {
   "cols": {
    "lenName": 16,
    "lenType": 16,
    "lenVar": 40
   },
   "kernels_config": {
    "python": {
     "delete_cmd_postfix": "",
     "delete_cmd_prefix": "del ",
     "library": "var_list.py",
     "varRefreshCmd": "print(var_dic_list())"
    },
    "r": {
     "delete_cmd_postfix": ") ",
     "delete_cmd_prefix": "rm(",
     "library": "var_list.r",
     "varRefreshCmd": "cat(var_dic_list()) "
    }
   },
   "types_to_exclude": [
    "module",
    "function",
    "builtin_function_or_method",
    "instance",
    "_Feature"
   ],
   "window_display": false
  }
 },
 "nbformat": 4,
 "nbformat_minor": 4
}
