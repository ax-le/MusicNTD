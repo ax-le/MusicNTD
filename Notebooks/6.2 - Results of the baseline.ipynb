{
 "cells": [
  {
   "cell_type": "code",
   "execution_count": 1,
   "metadata": {
    "ExecuteTime": {
     "end_time": "2020-04-27T09:27:05.376182Z",
     "start_time": "2020-04-27T09:27:03.759077Z"
    }
   },
   "outputs": [],
   "source": [
    "import sys\n",
    "import os\n",
    "if os.path.abspath('../sample') not in sys.path:\n",
    "    sys.path.insert(0, os.path.abspath('../sample'))\n",
    "if os.path.abspath('../model') not in sys.path:\n",
    "    sys.path.insert(0, os.path.abspath('../model'))\n",
    "\n",
    "import msaf\n",
    "\n",
    "import overall_scripts as scr\n",
    "import data_manipulation as dm\n",
    "import pandas as pd\n",
    "import numpy as np\n",
    "pd.set_option('precision', 4)"
   ]
  },
  {
   "cell_type": "markdown",
   "metadata": {},
   "source": [
    "# Segmentation results of baselines methods"
   ]
  },
  {
   "cell_type": "markdown",
   "metadata": {},
   "source": [
    "In this notebook are presented the results of the baseline, computed with MSAF.\n",
    "\n",
    "We restricted the baseline to three algorithms:\n",
    " - CNMF [1],\n",
    " - Foote's novelty [2],\n",
    " - Spectral Clustering [3]."
   ]
  },
  {
   "cell_type": "code",
   "execution_count": 2,
   "metadata": {
    "ExecuteTime": {
     "end_time": "2020-04-27T09:27:05.386835Z",
     "start_time": "2020-04-27T09:27:05.380851Z"
    }
   },
   "outputs": [],
   "source": [
    "desired_algos = [\"cnmf\", \"foote\", \"scluster\"]"
   ]
  },
  {
   "cell_type": "code",
   "execution_count": 4,
   "metadata": {
    "ExecuteTime": {
     "end_time": "2020-04-27T09:27:05.420770Z",
     "start_time": "2020-04-27T09:27:05.412805Z"
    }
   },
   "outputs": [],
   "source": [
    "folder = \"C:\\\\Users\\\\amarmore\\\\Desktop\\\\Audio samples\\\\RWC Pop\\\\Entire RWC\"\n",
    "annotations_type = \"MIREX10\"\n",
    "annotations_folder = \"C:\\\\Users\\\\amarmore\\\\Desktop\\\\Audio samples\\\\RWC Pop\\\\annotations\\\\{}\\\\\".format(annotations_type)"
   ]
  },
  {
   "cell_type": "markdown",
   "metadata": {},
   "source": [
    "Below is the code to compute these scores."
   ]
  },
  {
   "cell_type": "code",
   "execution_count": 3,
   "metadata": {
    "ExecuteTime": {
     "end_time": "2020-04-27T09:27:05.406805Z",
     "start_time": "2020-04-27T09:27:05.390823Z"
    }
   },
   "outputs": [],
   "source": [
    "def parse_all_algos(song_path, references_segments, bars):\n",
    "    # Function which computes all frontiers for this song by the desired algorithms,\n",
    "    # and then computes segmentation scores.\n",
    "    zero_five_to_return = []\n",
    "    three_to_return = []\n",
    "    \n",
    "    five_rates = []\n",
    "    three_rates = []\n",
    "\n",
    "    for algo in desired_algos:\n",
    "        boundaries, _ = msaf.process(song_path, boundaries_id=algo)\n",
    "        segments = np.array(dm.frontiers_to_segments(boundaries))\n",
    "\n",
    "        zero_five_to_return.append(dm.compute_score_of_segmentation(\n",
    "            references_segments, segments, window_length=0.5))\n",
    "        three_to_return.append(dm.compute_score_of_segmentation(\n",
    "            references_segments, segments, window_length=3))\n",
    "        \n",
    "        five_rates.append(dm.compute_rates_of_segmentation(\n",
    "            references_segments, segments, window_length=0.5))\n",
    "        original_rates = dm.compute_rates_of_segmentation(\n",
    "            references_segments, segments, window_length=3)\n",
    "        three_rates.append(original_rates)\n",
    "        \n",
    "        aligned_segments = dm.align_segments_on_bars(segments, bars)\n",
    "        zero_five_to_return.append(dm.compute_score_of_segmentation(\n",
    "            references_segments, aligned_segments, window_length=0.5))\n",
    "        three_to_return.append(dm.compute_score_of_segmentation(\n",
    "            references_segments, aligned_segments, window_length=3))\n",
    "        \n",
    "        five_rates.append(dm.compute_rates_of_segmentation(\n",
    "            references_segments, aligned_segments, window_length=0.5))\n",
    "        aligned_rates = dm.compute_rates_of_segmentation(\n",
    "            references_segments, aligned_segments, window_length=3)\n",
    "        three_rates.append(aligned_rates)\n",
    "        \n",
    "    return zero_five_to_return, three_to_return, five_rates, three_rates"
   ]
  },
  {
   "cell_type": "code",
   "execution_count": 1,
   "metadata": {
    "ExecuteTime": {
     "end_time": "2020-07-30T15:46:54.153357Z",
     "start_time": "2020-07-30T15:46:54.145378Z"
    },
    "scrolled": true
   },
   "outputs": [],
   "source": [
    "# Script which parses all songs of RWC, computes its frontiers for all algorithms, and then \n",
    "zero_point_five_results = []\n",
    "three_seconds_results = []\n",
    "five_rates_results = []\n",
    "three_rates_results = []\n",
    "\n",
    "paths = scr.load_RWC_dataset(folder, annotations_type = annotations_type)\n",
    "persisted_path = \"C:\\\\Users\\\\amarmore\\\\Desktop\\\\data_persisted\\\\\"\n",
    "\n",
    "for song_and_annotations in paths:\n",
    "    song_path = folder + \"\\\\\" + song_and_annotations[0]\n",
    "    print(song_and_annotations[0])\n",
    "\n",
    "    annot_path = annotations_folder + song_and_annotations[1]\n",
    "    annotations = dm.get_segmentation_from_txt(annot_path, annotations_type)\n",
    "    references_segments = np.array(annotations)[:,0:2]\n",
    "    \n",
    "    bars = scr.load_bars(persisted_path, song_and_annotations[0].replace(\".wav\",\"\"))\n",
    "    this_zero, this_three, five_rates, three_rates = parse_all_algos(song_path, references_segments, bars)\n",
    "\n",
    "    zero_point_five_results.append(this_zero)\n",
    "    three_seconds_results.append(this_three)\n",
    "    \n",
    "    five_rates_results.append(five_rates)\n",
    "    three_rates_results.append(three_rates)"
   ]
  },
  {
   "cell_type": "markdown",
   "metadata": {},
   "source": [
    "Finally, we print in a nice way the scores computed on the baseline."
   ]
  },
  {
   "cell_type": "code",
   "execution_count": 6,
   "metadata": {
    "ExecuteTime": {
     "end_time": "2020-04-27T12:18:49.796200Z",
     "start_time": "2020-04-27T12:18:49.740792Z"
    },
    "scrolled": true
   },
   "outputs": [
    {
     "data": {
      "text/html": [
       "<div>\n",
       "<style scoped>\n",
       "    .dataframe tbody tr th:only-of-type {\n",
       "        vertical-align: middle;\n",
       "    }\n",
       "\n",
       "    .dataframe tbody tr th {\n",
       "        vertical-align: top;\n",
       "    }\n",
       "\n",
       "    .dataframe thead tr th {\n",
       "        text-align: left;\n",
       "    }\n",
       "</style>\n",
       "<table border=\"1\" class=\"dataframe\">\n",
       "  <thead>\n",
       "    <tr>\n",
       "      <th></th>\n",
       "      <th></th>\n",
       "      <th colspan=\"3\" halign=\"left\">0.5 seconds</th>\n",
       "      <th colspan=\"3\" halign=\"left\">3 seconds</th>\n",
       "    </tr>\n",
       "    <tr>\n",
       "      <th></th>\n",
       "      <th></th>\n",
       "      <th>Precision</th>\n",
       "      <th>Recall</th>\n",
       "      <th>F measure</th>\n",
       "      <th>Precision</th>\n",
       "      <th>Recall</th>\n",
       "      <th>F measure</th>\n",
       "    </tr>\n",
       "  </thead>\n",
       "  <tbody>\n",
       "    <tr>\n",
       "      <th rowspan=\"2\" valign=\"top\">cnmf</th>\n",
       "      <th>Original</th>\n",
       "      <td>0.2284</td>\n",
       "      <td>0.2146</td>\n",
       "      <td>0.2152</td>\n",
       "      <td>0.4676</td>\n",
       "      <td>0.4517</td>\n",
       "      <td>0.4469</td>\n",
       "    </tr>\n",
       "    <tr>\n",
       "      <th>Aligned on downbeats</th>\n",
       "      <td>0.3157</td>\n",
       "      <td>0.2811</td>\n",
       "      <td>0.2881</td>\n",
       "      <td>0.5068</td>\n",
       "      <td>0.4537</td>\n",
       "      <td>0.4653</td>\n",
       "    </tr>\n",
       "    <tr>\n",
       "      <th rowspan=\"2\" valign=\"top\">foote</th>\n",
       "      <th>Original</th>\n",
       "      <td>0.2965</td>\n",
       "      <td>0.2230</td>\n",
       "      <td>0.2514</td>\n",
       "      <td>0.6389</td>\n",
       "      <td>0.4859</td>\n",
       "      <td>0.5449</td>\n",
       "    </tr>\n",
       "    <tr>\n",
       "      <th>Aligned on downbeats</th>\n",
       "      <td>0.4203</td>\n",
       "      <td>0.2995</td>\n",
       "      <td>0.3448</td>\n",
       "      <td>0.6706</td>\n",
       "      <td>0.4766</td>\n",
       "      <td>0.5501</td>\n",
       "    </tr>\n",
       "    <tr>\n",
       "      <th rowspan=\"2\" valign=\"top\">scluster</th>\n",
       "      <th>Original</th>\n",
       "      <td>0.3123</td>\n",
       "      <td>0.3045</td>\n",
       "      <td>0.2944</td>\n",
       "      <td>0.6065</td>\n",
       "      <td>0.6084</td>\n",
       "      <td>0.5812</td>\n",
       "    </tr>\n",
       "    <tr>\n",
       "      <th>Aligned on downbeats</th>\n",
       "      <td>0.4921</td>\n",
       "      <td>0.4503</td>\n",
       "      <td>0.4501</td>\n",
       "      <td>0.6554</td>\n",
       "      <td>0.6056</td>\n",
       "      <td>0.6030</td>\n",
       "    </tr>\n",
       "  </tbody>\n",
       "</table>\n",
       "</div>"
      ],
      "text/plain": [
       "                              0.5 seconds                   3 seconds          \\\n",
       "                                Precision  Recall F measure Precision  Recall   \n",
       "cnmf     Original                  0.2284  0.2146    0.2152    0.4676  0.4517   \n",
       "         Aligned on downbeats      0.3157  0.2811    0.2881    0.5068  0.4537   \n",
       "foote    Original                  0.2965  0.2230    0.2514    0.6389  0.4859   \n",
       "         Aligned on downbeats      0.4203  0.2995    0.3448    0.6706  0.4766   \n",
       "scluster Original                  0.3123  0.3045    0.2944    0.6065  0.6084   \n",
       "         Aligned on downbeats      0.4921  0.4503    0.4501    0.6554  0.6056   \n",
       "\n",
       "                                         \n",
       "                              F measure  \n",
       "cnmf     Original                0.4469  \n",
       "         Aligned on downbeats    0.4653  \n",
       "foote    Original                0.5449  \n",
       "         Aligned on downbeats    0.5501  \n",
       "scluster Original                0.5812  \n",
       "         Aligned on downbeats    0.6030  "
      ]
     },
     "execution_count": 6,
     "metadata": {},
     "output_type": "execute_result"
    }
   ],
   "source": [
    "zerofive = np.array(zero_point_five_results)\n",
    "three = np.array(three_seconds_results)\n",
    "\n",
    "all_algos = [alg for alg in desired_algos]\n",
    "\n",
    "params = ['Original', 'Aligned on downbeats']\n",
    "line = []\n",
    "subline = []\n",
    "for i in all_algos:\n",
    "    for j in params:\n",
    "        line.append(i)\n",
    "        subline.append(j)\n",
    "arr = []\n",
    "col = [np.array(['0.5 seconds','0.5 seconds','0.5 seconds','3 seconds','3 seconds','3 seconds']),\n",
    "    np.array(['Precision', 'Recall', 'F measure','Precision', 'Recall', 'F measure'])]\n",
    "\n",
    "nested_lines = [np.array(line), np.array(subline)]\n",
    "\n",
    "for i in range(len(line)):\n",
    "    arr.append([np.mean(zerofive[:,i,0]),np.mean(zerofive[:,i,1]), np.mean(zerofive[:,i,2]),\n",
    "            np.mean(three[:,i,0]),np.mean(three[:,i,1]), np.mean(three[:,i,2])])\n",
    "\n",
    "pd.DataFrame(np.array(arr), index=nested_lines, columns=col)"
   ]
  },
  {
   "cell_type": "markdown",
   "metadata": {},
   "source": [
    "# References\n",
    "\n",
    "[1] Nieto, O., & Jehan, T. (2013, May). Convex non-negative matrix factorization for automatic music structure identification. In 2013 IEEE International Conference on Acoustics, Speech and Signal Processing (pp. 236-240). IEEE.\n",
    "\n",
    "[2] Foote, J. (2000, July). Automatic audio segmentation using a measure of audio novelty. In 2000 IEEE International Conference on Multimedia and Expo. ICME2000. Proceedings. Latest Advances in the Fast Changing World of Multimedia (Cat. No. 00TH8532) (Vol. 1, pp. 452-455). IEEE.\n",
    "\n",
    "[3] McFee, B., & Ellis, D. (2014). Analyzing Song Structure with Spectral Clustering. In ISMIR (pp. 405-410)."
   ]
  }
 ],
 "metadata": {
  "kernelspec": {
   "display_name": "Python 3",
   "language": "python",
   "name": "python3"
  },
  "language_info": {
   "codemirror_mode": {
    "name": "ipython",
    "version": 3
   },
   "file_extension": ".py",
   "mimetype": "text/x-python",
   "name": "python",
   "nbconvert_exporter": "python",
   "pygments_lexer": "ipython3",
   "version": "3.7.6"
  },
  "toc": {
   "base_numbering": 1,
   "nav_menu": {},
   "number_sections": true,
   "sideBar": true,
   "skip_h1_title": false,
   "title_cell": "Table of Contents",
   "title_sidebar": "Contents",
   "toc_cell": false,
   "toc_position": {},
   "toc_section_display": true,
   "toc_window_display": false
  },
  "varInspector": {
   "cols": {
    "lenName": 16,
    "lenType": 16,
    "lenVar": 40
   },
   "kernels_config": {
    "python": {
     "delete_cmd_postfix": "",
     "delete_cmd_prefix": "del ",
     "library": "var_list.py",
     "varRefreshCmd": "print(var_dic_list())"
    },
    "r": {
     "delete_cmd_postfix": ") ",
     "delete_cmd_prefix": "rm(",
     "library": "var_list.r",
     "varRefreshCmd": "cat(var_dic_list()) "
    }
   },
   "types_to_exclude": [
    "module",
    "function",
    "builtin_function_or_method",
    "instance",
    "_Feature"
   ],
   "window_display": false
  }
 },
 "nbformat": 4,
 "nbformat_minor": 4
}
