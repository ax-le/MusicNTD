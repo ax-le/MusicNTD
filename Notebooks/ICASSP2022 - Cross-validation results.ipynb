{
 "cells": [
  {
   "cell_type": "markdown",
   "id": "be97f76a",
   "metadata": {},
   "source": [
    "This Notebook presents all experimental results, with the code used to compute them.\n",
    "\n",
    "Results are based on two-fold cross-validation, by splitting the RWC Pop dataset between odd and even songs.\n",
    "\n",
    "Results are then averaged on both test subsets."
   ]
  },
  {
   "cell_type": "code",
   "execution_count": 1,
   "id": "f1f5a7c6",
   "metadata": {
    "ExecuteTime": {
     "end_time": "2021-10-05T16:35:53.673545Z",
     "start_time": "2021-10-05T16:35:52.277628Z"
    }
   },
   "outputs": [],
   "source": [
    "import numpy as np\n",
    "import musicntd.scripts.final_tests as tests # Paths are defined in scripts/default_paths.py, and you should modify them in order for the Notebook to work."
   ]
  },
  {
   "cell_type": "code",
   "execution_count": 2,
   "id": "e499d69e",
   "metadata": {
    "ExecuteTime": {
     "end_time": "2021-10-05T16:35:53.690727Z",
     "start_time": "2021-10-05T16:35:53.673545Z"
    }
   },
   "outputs": [],
   "source": [
    "penalty_weight = 1\n",
    "penalty_range = [1]\n",
    "core_dimensions_list = [8,16,24,32,40]"
   ]
  },
  {
   "cell_type": "markdown",
   "id": "5ec2d070",
   "metadata": {},
   "source": [
    "# Baseline (HALS on chromagram)"
   ]
  },
  {
   "cell_type": "code",
   "execution_count": 29,
   "id": "a46bbdd8",
   "metadata": {
    "ExecuteTime": {
     "end_time": "2021-10-06T13:09:31.218051Z",
     "start_time": "2021-10-06T12:47:30.645769Z"
    }
   },
   "outputs": [
    {
     "data": {
      "text/html": [
       "<div>\n",
       "<style scoped>\n",
       "    .dataframe tbody tr th:only-of-type {\n",
       "        vertical-align: middle;\n",
       "    }\n",
       "\n",
       "    .dataframe tbody tr th {\n",
       "        vertical-align: top;\n",
       "    }\n",
       "\n",
       "    .dataframe thead th {\n",
       "        text-align: right;\n",
       "    }\n",
       "</style>\n",
       "<table border=\"1\" class=\"dataframe\">\n",
       "  <thead>\n",
       "    <tr style=\"text-align: right;\">\n",
       "      <th></th>\n",
       "      <th>Best rank for $W$</th>\n",
       "      <th>Best rank for $H$</th>\n",
       "      <th>Best rank for $Q$</th>\n",
       "      <th>Best lambda: ponderation parameter.</th>\n",
       "    </tr>\n",
       "  </thead>\n",
       "  <tbody>\n",
       "    <tr>\n",
       "      <th>Learned parameters</th>\n",
       "      <td>12</td>\n",
       "      <td>36</td>\n",
       "      <td>36</td>\n",
       "      <td>1</td>\n",
       "    </tr>\n",
       "  </tbody>\n",
       "</table>\n",
       "</div>"
      ],
      "text/plain": [
       "                    Best rank for $W$  Best rank for $H$  Best rank for $Q$  \\\n",
       "Learned parameters                 12                 36                 36   \n",
       "\n",
       "                    Best lambda: ponderation parameter.  \n",
       "Learned parameters                                    1  "
      ]
     },
     "metadata": {},
     "output_type": "display_data"
    },
    {
     "data": {
      "text/html": [
       "<div>\n",
       "<style scoped>\n",
       "    .dataframe tbody tr th:only-of-type {\n",
       "        vertical-align: middle;\n",
       "    }\n",
       "\n",
       "    .dataframe tbody tr th {\n",
       "        vertical-align: top;\n",
       "    }\n",
       "\n",
       "    .dataframe thead th {\n",
       "        text-align: right;\n",
       "    }\n",
       "</style>\n",
       "<table border=\"1\" class=\"dataframe\">\n",
       "  <thead>\n",
       "    <tr style=\"text-align: right;\">\n",
       "      <th></th>\n",
       "      <th>True Positives</th>\n",
       "      <th>False Positives</th>\n",
       "      <th>False Negatives</th>\n",
       "      <th>Precision</th>\n",
       "      <th>Recall</th>\n",
       "      <th>F measure</th>\n",
       "    </tr>\n",
       "  </thead>\n",
       "  <tbody>\n",
       "    <tr>\n",
       "      <th>Results of pcp with 0.5 seconds tolerance window on test dataset.</th>\n",
       "      <td>11.36</td>\n",
       "      <td>8.88</td>\n",
       "      <td>7.82</td>\n",
       "      <td>0.5739</td>\n",
       "      <td>0.6041</td>\n",
       "      <td>0.5804</td>\n",
       "    </tr>\n",
       "  </tbody>\n",
       "</table>\n",
       "</div>"
      ],
      "text/plain": [
       "                                                    True Positives  \\\n",
       "Results of pcp with 0.5 seconds tolerance windo...           11.36   \n",
       "\n",
       "                                                    False Positives  \\\n",
       "Results of pcp with 0.5 seconds tolerance windo...             8.88   \n",
       "\n",
       "                                                    False Negatives  \\\n",
       "Results of pcp with 0.5 seconds tolerance windo...             7.82   \n",
       "\n",
       "                                                    Precision  Recall  \\\n",
       "Results of pcp with 0.5 seconds tolerance windo...     0.5739  0.6041   \n",
       "\n",
       "                                                    F measure  \n",
       "Results of pcp with 0.5 seconds tolerance windo...     0.5804  "
      ]
     },
     "metadata": {},
     "output_type": "display_data"
    },
    {
     "data": {
      "text/html": [
       "<div>\n",
       "<style scoped>\n",
       "    .dataframe tbody tr th:only-of-type {\n",
       "        vertical-align: middle;\n",
       "    }\n",
       "\n",
       "    .dataframe tbody tr th {\n",
       "        vertical-align: top;\n",
       "    }\n",
       "\n",
       "    .dataframe thead th {\n",
       "        text-align: right;\n",
       "    }\n",
       "</style>\n",
       "<table border=\"1\" class=\"dataframe\">\n",
       "  <thead>\n",
       "    <tr style=\"text-align: right;\">\n",
       "      <th></th>\n",
       "      <th>True Positives</th>\n",
       "      <th>False Positives</th>\n",
       "      <th>False Negatives</th>\n",
       "      <th>Precision</th>\n",
       "      <th>Recall</th>\n",
       "      <th>F measure</th>\n",
       "    </tr>\n",
       "  </thead>\n",
       "  <tbody>\n",
       "    <tr>\n",
       "      <th>Results of pcp with 3 seconds tolerance window on test dataset.</th>\n",
       "      <td>14.06</td>\n",
       "      <td>6.18</td>\n",
       "      <td>5.12</td>\n",
       "      <td>0.7086</td>\n",
       "      <td>0.7434</td>\n",
       "      <td>0.716</td>\n",
       "    </tr>\n",
       "  </tbody>\n",
       "</table>\n",
       "</div>"
      ],
      "text/plain": [
       "                                                    True Positives  \\\n",
       "Results of pcp with 3 seconds tolerance window ...           14.06   \n",
       "\n",
       "                                                    False Positives  \\\n",
       "Results of pcp with 3 seconds tolerance window ...             6.18   \n",
       "\n",
       "                                                    False Negatives  \\\n",
       "Results of pcp with 3 seconds tolerance window ...             5.12   \n",
       "\n",
       "                                                    Precision  Recall  \\\n",
       "Results of pcp with 3 seconds tolerance window ...     0.7086  0.7434   \n",
       "\n",
       "                                                    F measure  \n",
       "Results of pcp with 3 seconds tolerance window ...      0.716  "
      ]
     },
     "metadata": {},
     "output_type": "display_data"
    },
    {
     "data": {
      "text/html": [
       "<div>\n",
       "<style scoped>\n",
       "    .dataframe tbody tr th:only-of-type {\n",
       "        vertical-align: middle;\n",
       "    }\n",
       "\n",
       "    .dataframe tbody tr th {\n",
       "        vertical-align: top;\n",
       "    }\n",
       "\n",
       "    .dataframe thead th {\n",
       "        text-align: right;\n",
       "    }\n",
       "</style>\n",
       "<table border=\"1\" class=\"dataframe\">\n",
       "  <thead>\n",
       "    <tr style=\"text-align: right;\">\n",
       "      <th></th>\n",
       "      <th>Best rank for $W$</th>\n",
       "      <th>Best rank for $H$</th>\n",
       "      <th>Best rank for $Q$</th>\n",
       "      <th>Best lambda: ponderation parameter.</th>\n",
       "    </tr>\n",
       "  </thead>\n",
       "  <tbody>\n",
       "    <tr>\n",
       "      <th>Learned parameters</th>\n",
       "      <td>12</td>\n",
       "      <td>48</td>\n",
       "      <td>24</td>\n",
       "      <td>1</td>\n",
       "    </tr>\n",
       "  </tbody>\n",
       "</table>\n",
       "</div>"
      ],
      "text/plain": [
       "                    Best rank for $W$  Best rank for $H$  Best rank for $Q$  \\\n",
       "Learned parameters                 12                 48                 24   \n",
       "\n",
       "                    Best lambda: ponderation parameter.  \n",
       "Learned parameters                                    1  "
      ]
     },
     "metadata": {},
     "output_type": "display_data"
    },
    {
     "data": {
      "text/html": [
       "<div>\n",
       "<style scoped>\n",
       "    .dataframe tbody tr th:only-of-type {\n",
       "        vertical-align: middle;\n",
       "    }\n",
       "\n",
       "    .dataframe tbody tr th {\n",
       "        vertical-align: top;\n",
       "    }\n",
       "\n",
       "    .dataframe thead th {\n",
       "        text-align: right;\n",
       "    }\n",
       "</style>\n",
       "<table border=\"1\" class=\"dataframe\">\n",
       "  <thead>\n",
       "    <tr style=\"text-align: right;\">\n",
       "      <th></th>\n",
       "      <th>True Positives</th>\n",
       "      <th>False Positives</th>\n",
       "      <th>False Negatives</th>\n",
       "      <th>Precision</th>\n",
       "      <th>Recall</th>\n",
       "      <th>F measure</th>\n",
       "    </tr>\n",
       "  </thead>\n",
       "  <tbody>\n",
       "    <tr>\n",
       "      <th>Results of pcp with 0.5 seconds tolerance window on test dataset.</th>\n",
       "      <td>11.34</td>\n",
       "      <td>7.98</td>\n",
       "      <td>7.1</td>\n",
       "      <td>0.5946</td>\n",
       "      <td>0.6096</td>\n",
       "      <td>0.599</td>\n",
       "    </tr>\n",
       "  </tbody>\n",
       "</table>\n",
       "</div>"
      ],
      "text/plain": [
       "                                                    True Positives  \\\n",
       "Results of pcp with 0.5 seconds tolerance windo...           11.34   \n",
       "\n",
       "                                                    False Positives  \\\n",
       "Results of pcp with 0.5 seconds tolerance windo...             7.98   \n",
       "\n",
       "                                                    False Negatives  \\\n",
       "Results of pcp with 0.5 seconds tolerance windo...              7.1   \n",
       "\n",
       "                                                    Precision  Recall  \\\n",
       "Results of pcp with 0.5 seconds tolerance windo...     0.5946  0.6096   \n",
       "\n",
       "                                                    F measure  \n",
       "Results of pcp with 0.5 seconds tolerance windo...      0.599  "
      ]
     },
     "metadata": {},
     "output_type": "display_data"
    },
    {
     "data": {
      "text/html": [
       "<div>\n",
       "<style scoped>\n",
       "    .dataframe tbody tr th:only-of-type {\n",
       "        vertical-align: middle;\n",
       "    }\n",
       "\n",
       "    .dataframe tbody tr th {\n",
       "        vertical-align: top;\n",
       "    }\n",
       "\n",
       "    .dataframe thead th {\n",
       "        text-align: right;\n",
       "    }\n",
       "</style>\n",
       "<table border=\"1\" class=\"dataframe\">\n",
       "  <thead>\n",
       "    <tr style=\"text-align: right;\">\n",
       "      <th></th>\n",
       "      <th>True Positives</th>\n",
       "      <th>False Positives</th>\n",
       "      <th>False Negatives</th>\n",
       "      <th>Precision</th>\n",
       "      <th>Recall</th>\n",
       "      <th>F measure</th>\n",
       "    </tr>\n",
       "  </thead>\n",
       "  <tbody>\n",
       "    <tr>\n",
       "      <th>Results of pcp with 3 seconds tolerance window on test dataset.</th>\n",
       "      <td>14.2</td>\n",
       "      <td>5.12</td>\n",
       "      <td>4.24</td>\n",
       "      <td>0.7414</td>\n",
       "      <td>0.7622</td>\n",
       "      <td>0.7479</td>\n",
       "    </tr>\n",
       "  </tbody>\n",
       "</table>\n",
       "</div>"
      ],
      "text/plain": [
       "                                                    True Positives  \\\n",
       "Results of pcp with 3 seconds tolerance window ...            14.2   \n",
       "\n",
       "                                                    False Positives  \\\n",
       "Results of pcp with 3 seconds tolerance window ...             5.12   \n",
       "\n",
       "                                                    False Negatives  \\\n",
       "Results of pcp with 3 seconds tolerance window ...             4.24   \n",
       "\n",
       "                                                    Precision  Recall  \\\n",
       "Results of pcp with 3 seconds tolerance window ...     0.7414  0.7622   \n",
       "\n",
       "                                                    F measure  \n",
       "Results of pcp with 3 seconds tolerance window ...     0.7479  "
      ]
     },
     "metadata": {},
     "output_type": "display_data"
    },
    {
     "name": "stdout",
     "output_type": "stream",
     "text": [
      "0.5 seconds: [0.584256, 0.606878, 0.589728]\n",
      "3 seconds: [0.724988, 0.752802, 0.731953]\n"
     ]
    }
   ],
   "source": [
    "core_dimensions_chromas = [12,16,20,24,28,32,36,40,44,48] \n",
    "# Note that the baseline with chromagrams is based on much more dimensions than Mel/Log Mel ones.\n",
    "odd_params, odd_zero_five, odd_three = tests.several_ranks_with_cross_validation_of_param_RWC(\"even_songs\", \"odd_songs\", \"pcp\", init = \"chromas\",\n",
    "                                                                                              ranks_frequency = [12], ranks_rhythm = core_dimensions_chromas, ranks_pattern = core_dimensions_chromas, \n",
    "                                                                                              penalty_range = penalty_range, update_rule = \"hals\", annotations_type = \"MIREX10\", penalty_func = \"modulo8\", convolution_type = \"mixed\")\n",
    "even_params, even_zero_five, even_three = tests.several_ranks_with_cross_validation_of_param_RWC(\"odd_songs\", \"even_songs\", \"pcp\", init = \"chromas\",\n",
    "                                                                                              ranks_frequency = [12], ranks_rhythm = core_dimensions_chromas, ranks_pattern = core_dimensions_chromas, \n",
    "                                                                                              penalty_range = penalty_range, update_rule = \"hals\", annotations_type = \"MIREX10\", penalty_func = \"modulo8\", convolution_type = \"mixed\")\n",
    "print(f\"0.5 seconds: {[(odd_zero_five[i] + even_zero_five[i])/2 for i in range(3,6)]}\")\n",
    "print(f\"3 seconds: {[(odd_three[i] + even_three[i])/2 for i in range(3,6)]}\")"
   ]
  },
  {
   "cell_type": "markdown",
   "id": "b23dd5ce",
   "metadata": {},
   "source": [
    "# Mel Spectrogram"
   ]
  },
  {
   "cell_type": "code",
   "execution_count": 6,
   "id": "cc8d2cd4",
   "metadata": {
    "ExecuteTime": {
     "end_time": "2021-10-05T16:39:12.800254Z",
     "start_time": "2021-10-05T16:39:12.795746Z"
    }
   },
   "outputs": [],
   "source": [
    "feature = \"mel_grill\""
   ]
  },
  {
   "cell_type": "markdown",
   "id": "e703642d",
   "metadata": {},
   "source": [
    "## Feature"
   ]
  },
  {
   "cell_type": "code",
   "execution_count": 7,
   "id": "26f9c80f",
   "metadata": {
    "ExecuteTime": {
     "end_time": "2021-10-05T16:40:35.994468Z",
     "start_time": "2021-10-05T16:39:12.805241Z"
    }
   },
   "outputs": [
    {
     "data": {
      "text/html": [
       "<div>\n",
       "<style scoped>\n",
       "    .dataframe tbody tr th:only-of-type {\n",
       "        vertical-align: middle;\n",
       "    }\n",
       "\n",
       "    .dataframe tbody tr th {\n",
       "        vertical-align: top;\n",
       "    }\n",
       "\n",
       "    .dataframe thead th {\n",
       "        text-align: right;\n",
       "    }\n",
       "</style>\n",
       "<table border=\"1\" class=\"dataframe\">\n",
       "  <thead>\n",
       "    <tr style=\"text-align: right;\">\n",
       "      <th></th>\n",
       "      <th>True Positives</th>\n",
       "      <th>False Positives</th>\n",
       "      <th>False Negatives</th>\n",
       "      <th>Precision</th>\n",
       "      <th>Recall</th>\n",
       "      <th>F measure</th>\n",
       "    </tr>\n",
       "  </thead>\n",
       "  <tbody>\n",
       "    <tr>\n",
       "      <th>Results with 0.5 seconds tolerance window, on test dataset.</th>\n",
       "      <td>8.71</td>\n",
       "      <td>10.1</td>\n",
       "      <td>10.1</td>\n",
       "      <td>0.4641</td>\n",
       "      <td>0.4698</td>\n",
       "      <td>0.4633</td>\n",
       "    </tr>\n",
       "  </tbody>\n",
       "</table>\n",
       "</div>"
      ],
      "text/plain": [
       "                                                    True Positives  \\\n",
       "Results with 0.5 seconds tolerance window, on t...            8.71   \n",
       "\n",
       "                                                    False Positives  \\\n",
       "Results with 0.5 seconds tolerance window, on t...             10.1   \n",
       "\n",
       "                                                    False Negatives  \\\n",
       "Results with 0.5 seconds tolerance window, on t...             10.1   \n",
       "\n",
       "                                                    Precision  Recall  \\\n",
       "Results with 0.5 seconds tolerance window, on t...     0.4641  0.4698   \n",
       "\n",
       "                                                    F measure  \n",
       "Results with 0.5 seconds tolerance window, on t...     0.4633  "
      ]
     },
     "metadata": {},
     "output_type": "display_data"
    },
    {
     "data": {
      "text/html": [
       "<div>\n",
       "<style scoped>\n",
       "    .dataframe tbody tr th:only-of-type {\n",
       "        vertical-align: middle;\n",
       "    }\n",
       "\n",
       "    .dataframe tbody tr th {\n",
       "        vertical-align: top;\n",
       "    }\n",
       "\n",
       "    .dataframe thead th {\n",
       "        text-align: right;\n",
       "    }\n",
       "</style>\n",
       "<table border=\"1\" class=\"dataframe\">\n",
       "  <thead>\n",
       "    <tr style=\"text-align: right;\">\n",
       "      <th></th>\n",
       "      <th>True Positives</th>\n",
       "      <th>False Positives</th>\n",
       "      <th>False Negatives</th>\n",
       "      <th>Precision</th>\n",
       "      <th>Recall</th>\n",
       "      <th>F measure</th>\n",
       "    </tr>\n",
       "  </thead>\n",
       "  <tbody>\n",
       "    <tr>\n",
       "      <th>Results with 3 seconds tolerance window, on test dataset.</th>\n",
       "      <td>13.35</td>\n",
       "      <td>5.46</td>\n",
       "      <td>5.46</td>\n",
       "      <td>0.7088</td>\n",
       "      <td>0.7129</td>\n",
       "      <td>0.7055</td>\n",
       "    </tr>\n",
       "  </tbody>\n",
       "</table>\n",
       "</div>"
      ],
      "text/plain": [
       "                                                    True Positives  \\\n",
       "Results with 3 seconds tolerance window, on tes...           13.35   \n",
       "\n",
       "                                                    False Positives  \\\n",
       "Results with 3 seconds tolerance window, on tes...             5.46   \n",
       "\n",
       "                                                    False Negatives  \\\n",
       "Results with 3 seconds tolerance window, on tes...             5.46   \n",
       "\n",
       "                                                    Precision  Recall  \\\n",
       "Results with 3 seconds tolerance window, on tes...     0.7088  0.7129   \n",
       "\n",
       "                                                    F measure  \n",
       "Results with 3 seconds tolerance window, on tes...     0.7055  "
      ]
     },
     "metadata": {},
     "output_type": "display_data"
    }
   ],
   "source": [
    "zero_five_feature, three_feature = tests.fixed_conditions_feature(\"full\", feature, penalty_weight = penalty_weight, annotations_type = \"MIREX10\", penalty_func = \"modulo8\", convolution_type = \"mixed\")"
   ]
  },
  {
   "cell_type": "markdown",
   "id": "4e77d639",
   "metadata": {},
   "source": [
    "## HALS"
   ]
  },
  {
   "cell_type": "code",
   "execution_count": 8,
   "id": "4085310e",
   "metadata": {
    "ExecuteTime": {
     "end_time": "2021-10-05T16:52:56.816593Z",
     "start_time": "2021-10-05T16:40:35.998037Z"
    },
    "scrolled": false
   },
   "outputs": [
    {
     "data": {
      "text/html": [
       "<div>\n",
       "<style scoped>\n",
       "    .dataframe tbody tr th:only-of-type {\n",
       "        vertical-align: middle;\n",
       "    }\n",
       "\n",
       "    .dataframe tbody tr th {\n",
       "        vertical-align: top;\n",
       "    }\n",
       "\n",
       "    .dataframe thead th {\n",
       "        text-align: right;\n",
       "    }\n",
       "</style>\n",
       "<table border=\"1\" class=\"dataframe\">\n",
       "  <thead>\n",
       "    <tr style=\"text-align: right;\">\n",
       "      <th></th>\n",
       "      <th>Best rank for $W$</th>\n",
       "      <th>Best rank for $H$</th>\n",
       "      <th>Best rank for $Q$</th>\n",
       "      <th>Best lambda: ponderation parameter.</th>\n",
       "    </tr>\n",
       "  </thead>\n",
       "  <tbody>\n",
       "    <tr>\n",
       "      <th>Learned parameters</th>\n",
       "      <td>8</td>\n",
       "      <td>32</td>\n",
       "      <td>24</td>\n",
       "      <td>1</td>\n",
       "    </tr>\n",
       "  </tbody>\n",
       "</table>\n",
       "</div>"
      ],
      "text/plain": [
       "                    Best rank for $W$  Best rank for $H$  Best rank for $Q$  \\\n",
       "Learned parameters                  8                 32                 24   \n",
       "\n",
       "                    Best lambda: ponderation parameter.  \n",
       "Learned parameters                                    1  "
      ]
     },
     "metadata": {},
     "output_type": "display_data"
    },
    {
     "data": {
      "text/html": [
       "<div>\n",
       "<style scoped>\n",
       "    .dataframe tbody tr th:only-of-type {\n",
       "        vertical-align: middle;\n",
       "    }\n",
       "\n",
       "    .dataframe tbody tr th {\n",
       "        vertical-align: top;\n",
       "    }\n",
       "\n",
       "    .dataframe thead th {\n",
       "        text-align: right;\n",
       "    }\n",
       "</style>\n",
       "<table border=\"1\" class=\"dataframe\">\n",
       "  <thead>\n",
       "    <tr style=\"text-align: right;\">\n",
       "      <th></th>\n",
       "      <th>True Positives</th>\n",
       "      <th>False Positives</th>\n",
       "      <th>False Negatives</th>\n",
       "      <th>Precision</th>\n",
       "      <th>Recall</th>\n",
       "      <th>F measure</th>\n",
       "    </tr>\n",
       "  </thead>\n",
       "  <tbody>\n",
       "    <tr>\n",
       "      <th>Results of mel_grill with 0.5 seconds tolerance window on test dataset.</th>\n",
       "      <td>9.74</td>\n",
       "      <td>11.08</td>\n",
       "      <td>9.44</td>\n",
       "      <td>0.4776</td>\n",
       "      <td>0.5235</td>\n",
       "      <td>0.4931</td>\n",
       "    </tr>\n",
       "  </tbody>\n",
       "</table>\n",
       "</div>"
      ],
      "text/plain": [
       "                                                    True Positives  \\\n",
       "Results of mel_grill with 0.5 seconds tolerance...            9.74   \n",
       "\n",
       "                                                    False Positives  \\\n",
       "Results of mel_grill with 0.5 seconds tolerance...            11.08   \n",
       "\n",
       "                                                    False Negatives  \\\n",
       "Results of mel_grill with 0.5 seconds tolerance...             9.44   \n",
       "\n",
       "                                                    Precision  Recall  \\\n",
       "Results of mel_grill with 0.5 seconds tolerance...     0.4776  0.5235   \n",
       "\n",
       "                                                    F measure  \n",
       "Results of mel_grill with 0.5 seconds tolerance...     0.4931  "
      ]
     },
     "metadata": {},
     "output_type": "display_data"
    },
    {
     "data": {
      "text/html": [
       "<div>\n",
       "<style scoped>\n",
       "    .dataframe tbody tr th:only-of-type {\n",
       "        vertical-align: middle;\n",
       "    }\n",
       "\n",
       "    .dataframe tbody tr th {\n",
       "        vertical-align: top;\n",
       "    }\n",
       "\n",
       "    .dataframe thead th {\n",
       "        text-align: right;\n",
       "    }\n",
       "</style>\n",
       "<table border=\"1\" class=\"dataframe\">\n",
       "  <thead>\n",
       "    <tr style=\"text-align: right;\">\n",
       "      <th></th>\n",
       "      <th>True Positives</th>\n",
       "      <th>False Positives</th>\n",
       "      <th>False Negatives</th>\n",
       "      <th>Precision</th>\n",
       "      <th>Recall</th>\n",
       "      <th>F measure</th>\n",
       "    </tr>\n",
       "  </thead>\n",
       "  <tbody>\n",
       "    <tr>\n",
       "      <th>Results of mel_grill with 3 seconds tolerance window on test dataset.</th>\n",
       "      <td>14.1</td>\n",
       "      <td>6.72</td>\n",
       "      <td>5.08</td>\n",
       "      <td>0.6897</td>\n",
       "      <td>0.7501</td>\n",
       "      <td>0.7086</td>\n",
       "    </tr>\n",
       "  </tbody>\n",
       "</table>\n",
       "</div>"
      ],
      "text/plain": [
       "                                                    True Positives  \\\n",
       "Results of mel_grill with 3 seconds tolerance w...            14.1   \n",
       "\n",
       "                                                    False Positives  \\\n",
       "Results of mel_grill with 3 seconds tolerance w...             6.72   \n",
       "\n",
       "                                                    False Negatives  \\\n",
       "Results of mel_grill with 3 seconds tolerance w...             5.08   \n",
       "\n",
       "                                                    Precision  Recall  \\\n",
       "Results of mel_grill with 3 seconds tolerance w...     0.6897  0.7501   \n",
       "\n",
       "                                                    F measure  \n",
       "Results of mel_grill with 3 seconds tolerance w...     0.7086  "
      ]
     },
     "metadata": {},
     "output_type": "display_data"
    }
   ],
   "source": [
    "odd_params, odd_zero_five, odd_three = tests.several_ranks_with_cross_validation_of_param_RWC(\"even_songs\", \"odd_songs\", feature,\n",
    "                                                       ranks_frequency = core_dimensions_list, ranks_rhythm = core_dimensions_list, ranks_pattern = core_dimensions_list, \n",
    "                                                       penalty_range = penalty_range, update_rule = \"hals\", annotations_type = \"MIREX10\", penalty_func = \"modulo8\", convolution_type = \"mixed\")"
   ]
  },
  {
   "cell_type": "code",
   "execution_count": 9,
   "id": "915548d9",
   "metadata": {
    "ExecuteTime": {
     "end_time": "2021-10-05T17:07:07.485126Z",
     "start_time": "2021-10-05T16:52:56.819579Z"
    }
   },
   "outputs": [
    {
     "data": {
      "text/html": [
       "<div>\n",
       "<style scoped>\n",
       "    .dataframe tbody tr th:only-of-type {\n",
       "        vertical-align: middle;\n",
       "    }\n",
       "\n",
       "    .dataframe tbody tr th {\n",
       "        vertical-align: top;\n",
       "    }\n",
       "\n",
       "    .dataframe thead th {\n",
       "        text-align: right;\n",
       "    }\n",
       "</style>\n",
       "<table border=\"1\" class=\"dataframe\">\n",
       "  <thead>\n",
       "    <tr style=\"text-align: right;\">\n",
       "      <th></th>\n",
       "      <th>Best rank for $W$</th>\n",
       "      <th>Best rank for $H$</th>\n",
       "      <th>Best rank for $Q$</th>\n",
       "      <th>Best lambda: ponderation parameter.</th>\n",
       "    </tr>\n",
       "  </thead>\n",
       "  <tbody>\n",
       "    <tr>\n",
       "      <th>Learned parameters</th>\n",
       "      <td>16</td>\n",
       "      <td>40</td>\n",
       "      <td>8</td>\n",
       "      <td>1</td>\n",
       "    </tr>\n",
       "  </tbody>\n",
       "</table>\n",
       "</div>"
      ],
      "text/plain": [
       "                    Best rank for $W$  Best rank for $H$  Best rank for $Q$  \\\n",
       "Learned parameters                 16                 40                  8   \n",
       "\n",
       "                    Best lambda: ponderation parameter.  \n",
       "Learned parameters                                    1  "
      ]
     },
     "metadata": {},
     "output_type": "display_data"
    },
    {
     "data": {
      "text/html": [
       "<div>\n",
       "<style scoped>\n",
       "    .dataframe tbody tr th:only-of-type {\n",
       "        vertical-align: middle;\n",
       "    }\n",
       "\n",
       "    .dataframe tbody tr th {\n",
       "        vertical-align: top;\n",
       "    }\n",
       "\n",
       "    .dataframe thead th {\n",
       "        text-align: right;\n",
       "    }\n",
       "</style>\n",
       "<table border=\"1\" class=\"dataframe\">\n",
       "  <thead>\n",
       "    <tr style=\"text-align: right;\">\n",
       "      <th></th>\n",
       "      <th>True Positives</th>\n",
       "      <th>False Positives</th>\n",
       "      <th>False Negatives</th>\n",
       "      <th>Precision</th>\n",
       "      <th>Recall</th>\n",
       "      <th>F measure</th>\n",
       "    </tr>\n",
       "  </thead>\n",
       "  <tbody>\n",
       "    <tr>\n",
       "      <th>Results of mel_grill with 0.5 seconds tolerance window on test dataset.</th>\n",
       "      <td>8.58</td>\n",
       "      <td>11.22</td>\n",
       "      <td>9.86</td>\n",
       "      <td>0.4412</td>\n",
       "      <td>0.4668</td>\n",
       "      <td>0.4507</td>\n",
       "    </tr>\n",
       "  </tbody>\n",
       "</table>\n",
       "</div>"
      ],
      "text/plain": [
       "                                                    True Positives  \\\n",
       "Results of mel_grill with 0.5 seconds tolerance...            8.58   \n",
       "\n",
       "                                                    False Positives  \\\n",
       "Results of mel_grill with 0.5 seconds tolerance...            11.22   \n",
       "\n",
       "                                                    False Negatives  \\\n",
       "Results of mel_grill with 0.5 seconds tolerance...             9.86   \n",
       "\n",
       "                                                    Precision  Recall  \\\n",
       "Results of mel_grill with 0.5 seconds tolerance...     0.4412  0.4668   \n",
       "\n",
       "                                                    F measure  \n",
       "Results of mel_grill with 0.5 seconds tolerance...     0.4507  "
      ]
     },
     "metadata": {},
     "output_type": "display_data"
    },
    {
     "data": {
      "text/html": [
       "<div>\n",
       "<style scoped>\n",
       "    .dataframe tbody tr th:only-of-type {\n",
       "        vertical-align: middle;\n",
       "    }\n",
       "\n",
       "    .dataframe tbody tr th {\n",
       "        vertical-align: top;\n",
       "    }\n",
       "\n",
       "    .dataframe thead th {\n",
       "        text-align: right;\n",
       "    }\n",
       "</style>\n",
       "<table border=\"1\" class=\"dataframe\">\n",
       "  <thead>\n",
       "    <tr style=\"text-align: right;\">\n",
       "      <th></th>\n",
       "      <th>True Positives</th>\n",
       "      <th>False Positives</th>\n",
       "      <th>False Negatives</th>\n",
       "      <th>Precision</th>\n",
       "      <th>Recall</th>\n",
       "      <th>F measure</th>\n",
       "    </tr>\n",
       "  </thead>\n",
       "  <tbody>\n",
       "    <tr>\n",
       "      <th>Results of mel_grill with 3 seconds tolerance window on test dataset.</th>\n",
       "      <td>13.22</td>\n",
       "      <td>6.58</td>\n",
       "      <td>5.22</td>\n",
       "      <td>0.6718</td>\n",
       "      <td>0.71</td>\n",
       "      <td>0.6864</td>\n",
       "    </tr>\n",
       "  </tbody>\n",
       "</table>\n",
       "</div>"
      ],
      "text/plain": [
       "                                                    True Positives  \\\n",
       "Results of mel_grill with 3 seconds tolerance w...           13.22   \n",
       "\n",
       "                                                    False Positives  \\\n",
       "Results of mel_grill with 3 seconds tolerance w...             6.58   \n",
       "\n",
       "                                                    False Negatives  \\\n",
       "Results of mel_grill with 3 seconds tolerance w...             5.22   \n",
       "\n",
       "                                                    Precision  Recall  \\\n",
       "Results of mel_grill with 3 seconds tolerance w...     0.6718    0.71   \n",
       "\n",
       "                                                    F measure  \n",
       "Results of mel_grill with 3 seconds tolerance w...     0.6864  "
      ]
     },
     "metadata": {},
     "output_type": "display_data"
    }
   ],
   "source": [
    "even_params, even_zero_five, even_three = tests.several_ranks_with_cross_validation_of_param_RWC(\"odd_songs\", \"even_songs\", feature, \n",
    "                                                       ranks_frequency = core_dimensions_list, ranks_rhythm = core_dimensions_list, ranks_pattern = core_dimensions_list, \n",
    "                                                       penalty_range = penalty_range, update_rule = \"hals\", annotations_type = \"MIREX10\", penalty_func = \"modulo8\", convolution_type = \"mixed\")"
   ]
  },
  {
   "cell_type": "code",
   "execution_count": 10,
   "id": "c6bb35d3",
   "metadata": {
    "ExecuteTime": {
     "end_time": "2021-10-05T17:07:07.493203Z",
     "start_time": "2021-10-05T17:07:07.487328Z"
    }
   },
   "outputs": [
    {
     "name": "stdout",
     "output_type": "stream",
     "text": [
      "0.5 seconds: [0.4593980000000001, 0.49514900000000006, 0.471862]\n",
      "3 seconds: [0.6807770000000001, 0.7300799999999998, 0.697476]\n"
     ]
    }
   ],
   "source": [
    "print(f\"0.5 seconds: {[(odd_zero_five[i] + even_zero_five[i])/2 for i in range(3,6)]}\")\n",
    "print(f\"3 seconds: {[(odd_three[i] + even_three[i])/2 for i in range(3,6)]}\")"
   ]
  },
  {
   "cell_type": "markdown",
   "id": "3c6258d4",
   "metadata": {},
   "source": [
    "## MU\n",
    "### Beta = 1"
   ]
  },
  {
   "cell_type": "code",
   "execution_count": 11,
   "id": "16bfc661",
   "metadata": {
    "ExecuteTime": {
     "end_time": "2021-10-05T17:20:46.254310Z",
     "start_time": "2021-10-05T17:07:07.495198Z"
    }
   },
   "outputs": [
    {
     "data": {
      "text/html": [
       "<div>\n",
       "<style scoped>\n",
       "    .dataframe tbody tr th:only-of-type {\n",
       "        vertical-align: middle;\n",
       "    }\n",
       "\n",
       "    .dataframe tbody tr th {\n",
       "        vertical-align: top;\n",
       "    }\n",
       "\n",
       "    .dataframe thead th {\n",
       "        text-align: right;\n",
       "    }\n",
       "</style>\n",
       "<table border=\"1\" class=\"dataframe\">\n",
       "  <thead>\n",
       "    <tr style=\"text-align: right;\">\n",
       "      <th></th>\n",
       "      <th>Best rank for $W$</th>\n",
       "      <th>Best rank for $H$</th>\n",
       "      <th>Best rank for $Q$</th>\n",
       "      <th>Best lambda: ponderation parameter.</th>\n",
       "    </tr>\n",
       "  </thead>\n",
       "  <tbody>\n",
       "    <tr>\n",
       "      <th>Learned parameters</th>\n",
       "      <td>40</td>\n",
       "      <td>24</td>\n",
       "      <td>24</td>\n",
       "      <td>1</td>\n",
       "    </tr>\n",
       "  </tbody>\n",
       "</table>\n",
       "</div>"
      ],
      "text/plain": [
       "                    Best rank for $W$  Best rank for $H$  Best rank for $Q$  \\\n",
       "Learned parameters                 40                 24                 24   \n",
       "\n",
       "                    Best lambda: ponderation parameter.  \n",
       "Learned parameters                                    1  "
      ]
     },
     "metadata": {},
     "output_type": "display_data"
    },
    {
     "data": {
      "text/html": [
       "<div>\n",
       "<style scoped>\n",
       "    .dataframe tbody tr th:only-of-type {\n",
       "        vertical-align: middle;\n",
       "    }\n",
       "\n",
       "    .dataframe tbody tr th {\n",
       "        vertical-align: top;\n",
       "    }\n",
       "\n",
       "    .dataframe thead th {\n",
       "        text-align: right;\n",
       "    }\n",
       "</style>\n",
       "<table border=\"1\" class=\"dataframe\">\n",
       "  <thead>\n",
       "    <tr style=\"text-align: right;\">\n",
       "      <th></th>\n",
       "      <th>True Positives</th>\n",
       "      <th>False Positives</th>\n",
       "      <th>False Negatives</th>\n",
       "      <th>Precision</th>\n",
       "      <th>Recall</th>\n",
       "      <th>F measure</th>\n",
       "    </tr>\n",
       "  </thead>\n",
       "  <tbody>\n",
       "    <tr>\n",
       "      <th>Results of mel_grill with 0.5 seconds tolerance window on test dataset.</th>\n",
       "      <td>10.5</td>\n",
       "      <td>10.26</td>\n",
       "      <td>8.68</td>\n",
       "      <td>0.5235</td>\n",
       "      <td>0.5594</td>\n",
       "      <td>0.5333</td>\n",
       "    </tr>\n",
       "  </tbody>\n",
       "</table>\n",
       "</div>"
      ],
      "text/plain": [
       "                                                    True Positives  \\\n",
       "Results of mel_grill with 0.5 seconds tolerance...            10.5   \n",
       "\n",
       "                                                    False Positives  \\\n",
       "Results of mel_grill with 0.5 seconds tolerance...            10.26   \n",
       "\n",
       "                                                    False Negatives  \\\n",
       "Results of mel_grill with 0.5 seconds tolerance...             8.68   \n",
       "\n",
       "                                                    Precision  Recall  \\\n",
       "Results of mel_grill with 0.5 seconds tolerance...     0.5235  0.5594   \n",
       "\n",
       "                                                    F measure  \n",
       "Results of mel_grill with 0.5 seconds tolerance...     0.5333  "
      ]
     },
     "metadata": {},
     "output_type": "display_data"
    },
    {
     "data": {
      "text/html": [
       "<div>\n",
       "<style scoped>\n",
       "    .dataframe tbody tr th:only-of-type {\n",
       "        vertical-align: middle;\n",
       "    }\n",
       "\n",
       "    .dataframe tbody tr th {\n",
       "        vertical-align: top;\n",
       "    }\n",
       "\n",
       "    .dataframe thead th {\n",
       "        text-align: right;\n",
       "    }\n",
       "</style>\n",
       "<table border=\"1\" class=\"dataframe\">\n",
       "  <thead>\n",
       "    <tr style=\"text-align: right;\">\n",
       "      <th></th>\n",
       "      <th>True Positives</th>\n",
       "      <th>False Positives</th>\n",
       "      <th>False Negatives</th>\n",
       "      <th>Precision</th>\n",
       "      <th>Recall</th>\n",
       "      <th>F measure</th>\n",
       "    </tr>\n",
       "  </thead>\n",
       "  <tbody>\n",
       "    <tr>\n",
       "      <th>Results of mel_grill with 3 seconds tolerance window on test dataset.</th>\n",
       "      <td>14.16</td>\n",
       "      <td>6.6</td>\n",
       "      <td>5.02</td>\n",
       "      <td>0.6994</td>\n",
       "      <td>0.7514</td>\n",
       "      <td>0.7149</td>\n",
       "    </tr>\n",
       "  </tbody>\n",
       "</table>\n",
       "</div>"
      ],
      "text/plain": [
       "                                                    True Positives  \\\n",
       "Results of mel_grill with 3 seconds tolerance w...           14.16   \n",
       "\n",
       "                                                    False Positives  \\\n",
       "Results of mel_grill with 3 seconds tolerance w...              6.6   \n",
       "\n",
       "                                                    False Negatives  \\\n",
       "Results of mel_grill with 3 seconds tolerance w...             5.02   \n",
       "\n",
       "                                                    Precision  Recall  \\\n",
       "Results of mel_grill with 3 seconds tolerance w...     0.6994  0.7514   \n",
       "\n",
       "                                                    F measure  \n",
       "Results of mel_grill with 3 seconds tolerance w...     0.7149  "
      ]
     },
     "metadata": {},
     "output_type": "display_data"
    }
   ],
   "source": [
    "odd_params, odd_zero_five, odd_three = tests.several_ranks_with_cross_validation_of_param_RWC(\"even_songs\", \"odd_songs\", feature,\n",
    "                                                       ranks_frequency = core_dimensions_list, ranks_rhythm = core_dimensions_list, ranks_pattern = core_dimensions_list, penalty_range = penalty_range, \n",
    "                                                       update_rule = \"mu\", beta = 1, annotations_type = \"MIREX10\", penalty_func = \"modulo8\", convolution_type = \"mixed\")"
   ]
  },
  {
   "cell_type": "code",
   "execution_count": 12,
   "id": "9d2a0a2b",
   "metadata": {
    "ExecuteTime": {
     "end_time": "2021-10-05T17:34:50.060119Z",
     "start_time": "2021-10-05T17:20:46.256476Z"
    }
   },
   "outputs": [
    {
     "data": {
      "text/html": [
       "<div>\n",
       "<style scoped>\n",
       "    .dataframe tbody tr th:only-of-type {\n",
       "        vertical-align: middle;\n",
       "    }\n",
       "\n",
       "    .dataframe tbody tr th {\n",
       "        vertical-align: top;\n",
       "    }\n",
       "\n",
       "    .dataframe thead th {\n",
       "        text-align: right;\n",
       "    }\n",
       "</style>\n",
       "<table border=\"1\" class=\"dataframe\">\n",
       "  <thead>\n",
       "    <tr style=\"text-align: right;\">\n",
       "      <th></th>\n",
       "      <th>Best rank for $W$</th>\n",
       "      <th>Best rank for $H$</th>\n",
       "      <th>Best rank for $Q$</th>\n",
       "      <th>Best lambda: ponderation parameter.</th>\n",
       "    </tr>\n",
       "  </thead>\n",
       "  <tbody>\n",
       "    <tr>\n",
       "      <th>Learned parameters</th>\n",
       "      <td>16</td>\n",
       "      <td>16</td>\n",
       "      <td>24</td>\n",
       "      <td>1</td>\n",
       "    </tr>\n",
       "  </tbody>\n",
       "</table>\n",
       "</div>"
      ],
      "text/plain": [
       "                    Best rank for $W$  Best rank for $H$  Best rank for $Q$  \\\n",
       "Learned parameters                 16                 16                 24   \n",
       "\n",
       "                    Best lambda: ponderation parameter.  \n",
       "Learned parameters                                    1  "
      ]
     },
     "metadata": {},
     "output_type": "display_data"
    },
    {
     "data": {
      "text/html": [
       "<div>\n",
       "<style scoped>\n",
       "    .dataframe tbody tr th:only-of-type {\n",
       "        vertical-align: middle;\n",
       "    }\n",
       "\n",
       "    .dataframe tbody tr th {\n",
       "        vertical-align: top;\n",
       "    }\n",
       "\n",
       "    .dataframe thead th {\n",
       "        text-align: right;\n",
       "    }\n",
       "</style>\n",
       "<table border=\"1\" class=\"dataframe\">\n",
       "  <thead>\n",
       "    <tr style=\"text-align: right;\">\n",
       "      <th></th>\n",
       "      <th>True Positives</th>\n",
       "      <th>False Positives</th>\n",
       "      <th>False Negatives</th>\n",
       "      <th>Precision</th>\n",
       "      <th>Recall</th>\n",
       "      <th>F measure</th>\n",
       "    </tr>\n",
       "  </thead>\n",
       "  <tbody>\n",
       "    <tr>\n",
       "      <th>Results of mel_grill with 0.5 seconds tolerance window on test dataset.</th>\n",
       "      <td>10.66</td>\n",
       "      <td>9.1</td>\n",
       "      <td>7.78</td>\n",
       "      <td>0.5434</td>\n",
       "      <td>0.5786</td>\n",
       "      <td>0.5583</td>\n",
       "    </tr>\n",
       "  </tbody>\n",
       "</table>\n",
       "</div>"
      ],
      "text/plain": [
       "                                                    True Positives  \\\n",
       "Results of mel_grill with 0.5 seconds tolerance...           10.66   \n",
       "\n",
       "                                                    False Positives  \\\n",
       "Results of mel_grill with 0.5 seconds tolerance...              9.1   \n",
       "\n",
       "                                                    False Negatives  \\\n",
       "Results of mel_grill with 0.5 seconds tolerance...             7.78   \n",
       "\n",
       "                                                    Precision  Recall  \\\n",
       "Results of mel_grill with 0.5 seconds tolerance...     0.5434  0.5786   \n",
       "\n",
       "                                                    F measure  \n",
       "Results of mel_grill with 0.5 seconds tolerance...     0.5583  "
      ]
     },
     "metadata": {},
     "output_type": "display_data"
    },
    {
     "data": {
      "text/html": [
       "<div>\n",
       "<style scoped>\n",
       "    .dataframe tbody tr th:only-of-type {\n",
       "        vertical-align: middle;\n",
       "    }\n",
       "\n",
       "    .dataframe tbody tr th {\n",
       "        vertical-align: top;\n",
       "    }\n",
       "\n",
       "    .dataframe thead th {\n",
       "        text-align: right;\n",
       "    }\n",
       "</style>\n",
       "<table border=\"1\" class=\"dataframe\">\n",
       "  <thead>\n",
       "    <tr style=\"text-align: right;\">\n",
       "      <th></th>\n",
       "      <th>True Positives</th>\n",
       "      <th>False Positives</th>\n",
       "      <th>False Negatives</th>\n",
       "      <th>Precision</th>\n",
       "      <th>Recall</th>\n",
       "      <th>F measure</th>\n",
       "    </tr>\n",
       "  </thead>\n",
       "  <tbody>\n",
       "    <tr>\n",
       "      <th>Results of mel_grill with 3 seconds tolerance window on test dataset.</th>\n",
       "      <td>13.98</td>\n",
       "      <td>5.78</td>\n",
       "      <td>4.46</td>\n",
       "      <td>0.7107</td>\n",
       "      <td>0.7552</td>\n",
       "      <td>0.7295</td>\n",
       "    </tr>\n",
       "  </tbody>\n",
       "</table>\n",
       "</div>"
      ],
      "text/plain": [
       "                                                    True Positives  \\\n",
       "Results of mel_grill with 3 seconds tolerance w...           13.98   \n",
       "\n",
       "                                                    False Positives  \\\n",
       "Results of mel_grill with 3 seconds tolerance w...             5.78   \n",
       "\n",
       "                                                    False Negatives  \\\n",
       "Results of mel_grill with 3 seconds tolerance w...             4.46   \n",
       "\n",
       "                                                    Precision  Recall  \\\n",
       "Results of mel_grill with 3 seconds tolerance w...     0.7107  0.7552   \n",
       "\n",
       "                                                    F measure  \n",
       "Results of mel_grill with 3 seconds tolerance w...     0.7295  "
      ]
     },
     "metadata": {},
     "output_type": "display_data"
    }
   ],
   "source": [
    "even_params, even_zero_five, even_three = tests.several_ranks_with_cross_validation_of_param_RWC(\"odd_songs\", \"even_songs\", feature,\n",
    "                                                       ranks_frequency = core_dimensions_list, ranks_rhythm = core_dimensions_list, ranks_pattern = core_dimensions_list, penalty_range = penalty_range, \n",
    "                                                       update_rule = \"mu\", beta = 1, annotations_type = \"MIREX10\", penalty_func = \"modulo8\", convolution_type = \"mixed\")"
   ]
  },
  {
   "cell_type": "code",
   "execution_count": 13,
   "id": "c9383411",
   "metadata": {
    "ExecuteTime": {
     "end_time": "2021-10-05T17:34:50.069120Z",
     "start_time": "2021-10-05T17:34:50.063138Z"
    }
   },
   "outputs": [
    {
     "name": "stdout",
     "output_type": "stream",
     "text": [
      "0.5 seconds: [0.533452, 0.5689550000000001, 0.545827]\n",
      "3 seconds: [0.705041, 0.753276, 0.7222099999999998]\n"
     ]
    }
   ],
   "source": [
    "print(f\"0.5 seconds: {[(odd_zero_five[i] + even_zero_five[i])/2 for i in range(3,6)]}\")\n",
    "print(f\"3 seconds: {[(odd_three[i] + even_three[i])/2 for i in range(3,6)]}\")"
   ]
  },
  {
   "cell_type": "markdown",
   "id": "970211a1",
   "metadata": {},
   "source": [
    "### Beta = 0"
   ]
  },
  {
   "cell_type": "code",
   "execution_count": 14,
   "id": "36cb9730",
   "metadata": {
    "ExecuteTime": {
     "end_time": "2021-10-05T17:48:23.705228Z",
     "start_time": "2021-10-05T17:34:50.071149Z"
    }
   },
   "outputs": [
    {
     "data": {
      "text/html": [
       "<div>\n",
       "<style scoped>\n",
       "    .dataframe tbody tr th:only-of-type {\n",
       "        vertical-align: middle;\n",
       "    }\n",
       "\n",
       "    .dataframe tbody tr th {\n",
       "        vertical-align: top;\n",
       "    }\n",
       "\n",
       "    .dataframe thead th {\n",
       "        text-align: right;\n",
       "    }\n",
       "</style>\n",
       "<table border=\"1\" class=\"dataframe\">\n",
       "  <thead>\n",
       "    <tr style=\"text-align: right;\">\n",
       "      <th></th>\n",
       "      <th>Best rank for $W$</th>\n",
       "      <th>Best rank for $H$</th>\n",
       "      <th>Best rank for $Q$</th>\n",
       "      <th>Best lambda: ponderation parameter.</th>\n",
       "    </tr>\n",
       "  </thead>\n",
       "  <tbody>\n",
       "    <tr>\n",
       "      <th>Learned parameters</th>\n",
       "      <td>24</td>\n",
       "      <td>16</td>\n",
       "      <td>24</td>\n",
       "      <td>1</td>\n",
       "    </tr>\n",
       "  </tbody>\n",
       "</table>\n",
       "</div>"
      ],
      "text/plain": [
       "                    Best rank for $W$  Best rank for $H$  Best rank for $Q$  \\\n",
       "Learned parameters                 24                 16                 24   \n",
       "\n",
       "                    Best lambda: ponderation parameter.  \n",
       "Learned parameters                                    1  "
      ]
     },
     "metadata": {},
     "output_type": "display_data"
    },
    {
     "data": {
      "text/html": [
       "<div>\n",
       "<style scoped>\n",
       "    .dataframe tbody tr th:only-of-type {\n",
       "        vertical-align: middle;\n",
       "    }\n",
       "\n",
       "    .dataframe tbody tr th {\n",
       "        vertical-align: top;\n",
       "    }\n",
       "\n",
       "    .dataframe thead th {\n",
       "        text-align: right;\n",
       "    }\n",
       "</style>\n",
       "<table border=\"1\" class=\"dataframe\">\n",
       "  <thead>\n",
       "    <tr style=\"text-align: right;\">\n",
       "      <th></th>\n",
       "      <th>True Positives</th>\n",
       "      <th>False Positives</th>\n",
       "      <th>False Negatives</th>\n",
       "      <th>Precision</th>\n",
       "      <th>Recall</th>\n",
       "      <th>F measure</th>\n",
       "    </tr>\n",
       "  </thead>\n",
       "  <tbody>\n",
       "    <tr>\n",
       "      <th>Results of mel_grill with 0.5 seconds tolerance window on test dataset.</th>\n",
       "      <td>10.92</td>\n",
       "      <td>10.7</td>\n",
       "      <td>8.26</td>\n",
       "      <td>0.5212</td>\n",
       "      <td>0.579</td>\n",
       "      <td>0.5415</td>\n",
       "    </tr>\n",
       "  </tbody>\n",
       "</table>\n",
       "</div>"
      ],
      "text/plain": [
       "                                                    True Positives  \\\n",
       "Results of mel_grill with 0.5 seconds tolerance...           10.92   \n",
       "\n",
       "                                                    False Positives  \\\n",
       "Results of mel_grill with 0.5 seconds tolerance...             10.7   \n",
       "\n",
       "                                                    False Negatives  \\\n",
       "Results of mel_grill with 0.5 seconds tolerance...             8.26   \n",
       "\n",
       "                                                    Precision  Recall  \\\n",
       "Results of mel_grill with 0.5 seconds tolerance...     0.5212   0.579   \n",
       "\n",
       "                                                    F measure  \n",
       "Results of mel_grill with 0.5 seconds tolerance...     0.5415  "
      ]
     },
     "metadata": {},
     "output_type": "display_data"
    },
    {
     "data": {
      "text/html": [
       "<div>\n",
       "<style scoped>\n",
       "    .dataframe tbody tr th:only-of-type {\n",
       "        vertical-align: middle;\n",
       "    }\n",
       "\n",
       "    .dataframe tbody tr th {\n",
       "        vertical-align: top;\n",
       "    }\n",
       "\n",
       "    .dataframe thead th {\n",
       "        text-align: right;\n",
       "    }\n",
       "</style>\n",
       "<table border=\"1\" class=\"dataframe\">\n",
       "  <thead>\n",
       "    <tr style=\"text-align: right;\">\n",
       "      <th></th>\n",
       "      <th>True Positives</th>\n",
       "      <th>False Positives</th>\n",
       "      <th>False Negatives</th>\n",
       "      <th>Precision</th>\n",
       "      <th>Recall</th>\n",
       "      <th>F measure</th>\n",
       "    </tr>\n",
       "  </thead>\n",
       "  <tbody>\n",
       "    <tr>\n",
       "      <th>Results of mel_grill with 3 seconds tolerance window on test dataset.</th>\n",
       "      <td>14.48</td>\n",
       "      <td>7.14</td>\n",
       "      <td>4.7</td>\n",
       "      <td>0.6852</td>\n",
       "      <td>0.7646</td>\n",
       "      <td>0.714</td>\n",
       "    </tr>\n",
       "  </tbody>\n",
       "</table>\n",
       "</div>"
      ],
      "text/plain": [
       "                                                    True Positives  \\\n",
       "Results of mel_grill with 3 seconds tolerance w...           14.48   \n",
       "\n",
       "                                                    False Positives  \\\n",
       "Results of mel_grill with 3 seconds tolerance w...             7.14   \n",
       "\n",
       "                                                    False Negatives  \\\n",
       "Results of mel_grill with 3 seconds tolerance w...              4.7   \n",
       "\n",
       "                                                    Precision  Recall  \\\n",
       "Results of mel_grill with 3 seconds tolerance w...     0.6852  0.7646   \n",
       "\n",
       "                                                    F measure  \n",
       "Results of mel_grill with 3 seconds tolerance w...      0.714  "
      ]
     },
     "metadata": {},
     "output_type": "display_data"
    }
   ],
   "source": [
    "odd_params, odd_zero_five, odd_three = tests.several_ranks_with_cross_validation_of_param_RWC(\"even_songs\", \"odd_songs\", feature,\n",
    "                                                       ranks_frequency = core_dimensions_list, ranks_rhythm = core_dimensions_list, ranks_pattern = core_dimensions_list, penalty_range = penalty_range, \n",
    "                                                       update_rule = \"mu\", beta = 0, annotations_type = \"MIREX10\", penalty_func = \"modulo8\", convolution_type = \"mixed\")"
   ]
  },
  {
   "cell_type": "code",
   "execution_count": 15,
   "id": "189762bd",
   "metadata": {
    "ExecuteTime": {
     "end_time": "2021-10-05T18:03:59.337017Z",
     "start_time": "2021-10-05T17:48:23.707222Z"
    }
   },
   "outputs": [
    {
     "data": {
      "text/html": [
       "<div>\n",
       "<style scoped>\n",
       "    .dataframe tbody tr th:only-of-type {\n",
       "        vertical-align: middle;\n",
       "    }\n",
       "\n",
       "    .dataframe tbody tr th {\n",
       "        vertical-align: top;\n",
       "    }\n",
       "\n",
       "    .dataframe thead th {\n",
       "        text-align: right;\n",
       "    }\n",
       "</style>\n",
       "<table border=\"1\" class=\"dataframe\">\n",
       "  <thead>\n",
       "    <tr style=\"text-align: right;\">\n",
       "      <th></th>\n",
       "      <th>Best rank for $W$</th>\n",
       "      <th>Best rank for $H$</th>\n",
       "      <th>Best rank for $Q$</th>\n",
       "      <th>Best lambda: ponderation parameter.</th>\n",
       "    </tr>\n",
       "  </thead>\n",
       "  <tbody>\n",
       "    <tr>\n",
       "      <th>Learned parameters</th>\n",
       "      <td>40</td>\n",
       "      <td>8</td>\n",
       "      <td>16</td>\n",
       "      <td>1</td>\n",
       "    </tr>\n",
       "  </tbody>\n",
       "</table>\n",
       "</div>"
      ],
      "text/plain": [
       "                    Best rank for $W$  Best rank for $H$  Best rank for $Q$  \\\n",
       "Learned parameters                 40                  8                 16   \n",
       "\n",
       "                    Best lambda: ponderation parameter.  \n",
       "Learned parameters                                    1  "
      ]
     },
     "metadata": {},
     "output_type": "display_data"
    },
    {
     "data": {
      "text/html": [
       "<div>\n",
       "<style scoped>\n",
       "    .dataframe tbody tr th:only-of-type {\n",
       "        vertical-align: middle;\n",
       "    }\n",
       "\n",
       "    .dataframe tbody tr th {\n",
       "        vertical-align: top;\n",
       "    }\n",
       "\n",
       "    .dataframe thead th {\n",
       "        text-align: right;\n",
       "    }\n",
       "</style>\n",
       "<table border=\"1\" class=\"dataframe\">\n",
       "  <thead>\n",
       "    <tr style=\"text-align: right;\">\n",
       "      <th></th>\n",
       "      <th>True Positives</th>\n",
       "      <th>False Positives</th>\n",
       "      <th>False Negatives</th>\n",
       "      <th>Precision</th>\n",
       "      <th>Recall</th>\n",
       "      <th>F measure</th>\n",
       "    </tr>\n",
       "  </thead>\n",
       "  <tbody>\n",
       "    <tr>\n",
       "      <th>Results of mel_grill with 0.5 seconds tolerance window on test dataset.</th>\n",
       "      <td>10.2</td>\n",
       "      <td>10.46</td>\n",
       "      <td>8.24</td>\n",
       "      <td>0.5004</td>\n",
       "      <td>0.5563</td>\n",
       "      <td>0.5246</td>\n",
       "    </tr>\n",
       "  </tbody>\n",
       "</table>\n",
       "</div>"
      ],
      "text/plain": [
       "                                                    True Positives  \\\n",
       "Results of mel_grill with 0.5 seconds tolerance...            10.2   \n",
       "\n",
       "                                                    False Positives  \\\n",
       "Results of mel_grill with 0.5 seconds tolerance...            10.46   \n",
       "\n",
       "                                                    False Negatives  \\\n",
       "Results of mel_grill with 0.5 seconds tolerance...             8.24   \n",
       "\n",
       "                                                    Precision  Recall  \\\n",
       "Results of mel_grill with 0.5 seconds tolerance...     0.5004  0.5563   \n",
       "\n",
       "                                                    F measure  \n",
       "Results of mel_grill with 0.5 seconds tolerance...     0.5246  "
      ]
     },
     "metadata": {},
     "output_type": "display_data"
    },
    {
     "data": {
      "text/html": [
       "<div>\n",
       "<style scoped>\n",
       "    .dataframe tbody tr th:only-of-type {\n",
       "        vertical-align: middle;\n",
       "    }\n",
       "\n",
       "    .dataframe tbody tr th {\n",
       "        vertical-align: top;\n",
       "    }\n",
       "\n",
       "    .dataframe thead th {\n",
       "        text-align: right;\n",
       "    }\n",
       "</style>\n",
       "<table border=\"1\" class=\"dataframe\">\n",
       "  <thead>\n",
       "    <tr style=\"text-align: right;\">\n",
       "      <th></th>\n",
       "      <th>True Positives</th>\n",
       "      <th>False Positives</th>\n",
       "      <th>False Negatives</th>\n",
       "      <th>Precision</th>\n",
       "      <th>Recall</th>\n",
       "      <th>F measure</th>\n",
       "    </tr>\n",
       "  </thead>\n",
       "  <tbody>\n",
       "    <tr>\n",
       "      <th>Results of mel_grill with 3 seconds tolerance window on test dataset.</th>\n",
       "      <td>14.68</td>\n",
       "      <td>5.98</td>\n",
       "      <td>3.76</td>\n",
       "      <td>0.7125</td>\n",
       "      <td>0.7955</td>\n",
       "      <td>0.7486</td>\n",
       "    </tr>\n",
       "  </tbody>\n",
       "</table>\n",
       "</div>"
      ],
      "text/plain": [
       "                                                    True Positives  \\\n",
       "Results of mel_grill with 3 seconds tolerance w...           14.68   \n",
       "\n",
       "                                                    False Positives  \\\n",
       "Results of mel_grill with 3 seconds tolerance w...             5.98   \n",
       "\n",
       "                                                    False Negatives  \\\n",
       "Results of mel_grill with 3 seconds tolerance w...             3.76   \n",
       "\n",
       "                                                    Precision  Recall  \\\n",
       "Results of mel_grill with 3 seconds tolerance w...     0.7125  0.7955   \n",
       "\n",
       "                                                    F measure  \n",
       "Results of mel_grill with 3 seconds tolerance w...     0.7486  "
      ]
     },
     "metadata": {},
     "output_type": "display_data"
    }
   ],
   "source": [
    "even_params, even_zero_five, even_three = tests.several_ranks_with_cross_validation_of_param_RWC(\"odd_songs\", \"even_songs\", feature,\n",
    "                                                       ranks_frequency = core_dimensions_list, ranks_rhythm = core_dimensions_list, ranks_pattern = core_dimensions_list, penalty_range = penalty_range, \n",
    "                                                       update_rule = \"mu\", beta = 0, annotations_type = \"MIREX10\", penalty_func = \"modulo8\", convolution_type = \"mixed\")"
   ]
  },
  {
   "cell_type": "code",
   "execution_count": 16,
   "id": "e90e7087",
   "metadata": {
    "ExecuteTime": {
     "end_time": "2021-10-05T18:03:59.346608Z",
     "start_time": "2021-10-05T18:03:59.340636Z"
    }
   },
   "outputs": [
    {
     "name": "stdout",
     "output_type": "stream",
     "text": [
      "0.5 seconds: [0.5107889999999999, 0.567632, 0.5330630000000001]\n",
      "3 seconds: [0.6988430000000001, 0.7800119999999999, 0.7313149999999999]\n"
     ]
    }
   ],
   "source": [
    "print(f\"0.5 seconds: {[(odd_zero_five[i] + even_zero_five[i])/2 for i in range(3,6)]}\")\n",
    "print(f\"3 seconds: {[(odd_three[i] + even_three[i])/2 for i in range(3,6)]}\")"
   ]
  },
  {
   "cell_type": "markdown",
   "id": "005fb505",
   "metadata": {},
   "source": [
    "# Nonnegative Log Mel Spectrogram"
   ]
  },
  {
   "cell_type": "code",
   "execution_count": 17,
   "id": "fa7fda42",
   "metadata": {
    "ExecuteTime": {
     "end_time": "2021-10-05T18:03:59.354857Z",
     "start_time": "2021-10-05T18:03:59.348793Z"
    }
   },
   "outputs": [],
   "source": [
    "feature = \"nn_log_mel_grill\""
   ]
  },
  {
   "cell_type": "markdown",
   "id": "dadb2901",
   "metadata": {},
   "source": [
    "## Feature"
   ]
  },
  {
   "cell_type": "code",
   "execution_count": 18,
   "id": "708f76fc",
   "metadata": {
    "ExecuteTime": {
     "end_time": "2021-10-05T18:05:29.876280Z",
     "start_time": "2021-10-05T18:03:59.356852Z"
    }
   },
   "outputs": [
    {
     "data": {
      "text/html": [
       "<div>\n",
       "<style scoped>\n",
       "    .dataframe tbody tr th:only-of-type {\n",
       "        vertical-align: middle;\n",
       "    }\n",
       "\n",
       "    .dataframe tbody tr th {\n",
       "        vertical-align: top;\n",
       "    }\n",
       "\n",
       "    .dataframe thead th {\n",
       "        text-align: right;\n",
       "    }\n",
       "</style>\n",
       "<table border=\"1\" class=\"dataframe\">\n",
       "  <thead>\n",
       "    <tr style=\"text-align: right;\">\n",
       "      <th></th>\n",
       "      <th>True Positives</th>\n",
       "      <th>False Positives</th>\n",
       "      <th>False Negatives</th>\n",
       "      <th>Precision</th>\n",
       "      <th>Recall</th>\n",
       "      <th>F measure</th>\n",
       "    </tr>\n",
       "  </thead>\n",
       "  <tbody>\n",
       "    <tr>\n",
       "      <th>Results with 0.5 seconds tolerance window, on test dataset.</th>\n",
       "      <td>7.82</td>\n",
       "      <td>10.17</td>\n",
       "      <td>10.99</td>\n",
       "      <td>0.4363</td>\n",
       "      <td>0.4269</td>\n",
       "      <td>0.4282</td>\n",
       "    </tr>\n",
       "  </tbody>\n",
       "</table>\n",
       "</div>"
      ],
      "text/plain": [
       "                                                    True Positives  \\\n",
       "Results with 0.5 seconds tolerance window, on t...            7.82   \n",
       "\n",
       "                                                    False Positives  \\\n",
       "Results with 0.5 seconds tolerance window, on t...            10.17   \n",
       "\n",
       "                                                    False Negatives  \\\n",
       "Results with 0.5 seconds tolerance window, on t...            10.99   \n",
       "\n",
       "                                                    Precision  Recall  \\\n",
       "Results with 0.5 seconds tolerance window, on t...     0.4363  0.4269   \n",
       "\n",
       "                                                    F measure  \n",
       "Results with 0.5 seconds tolerance window, on t...     0.4282  "
      ]
     },
     "metadata": {},
     "output_type": "display_data"
    },
    {
     "data": {
      "text/html": [
       "<div>\n",
       "<style scoped>\n",
       "    .dataframe tbody tr th:only-of-type {\n",
       "        vertical-align: middle;\n",
       "    }\n",
       "\n",
       "    .dataframe tbody tr th {\n",
       "        vertical-align: top;\n",
       "    }\n",
       "\n",
       "    .dataframe thead th {\n",
       "        text-align: right;\n",
       "    }\n",
       "</style>\n",
       "<table border=\"1\" class=\"dataframe\">\n",
       "  <thead>\n",
       "    <tr style=\"text-align: right;\">\n",
       "      <th></th>\n",
       "      <th>True Positives</th>\n",
       "      <th>False Positives</th>\n",
       "      <th>False Negatives</th>\n",
       "      <th>Precision</th>\n",
       "      <th>Recall</th>\n",
       "      <th>F measure</th>\n",
       "    </tr>\n",
       "  </thead>\n",
       "  <tbody>\n",
       "    <tr>\n",
       "      <th>Results with 3 seconds tolerance window, on test dataset.</th>\n",
       "      <td>11.99</td>\n",
       "      <td>6.0</td>\n",
       "      <td>6.82</td>\n",
       "      <td>0.6643</td>\n",
       "      <td>0.6449</td>\n",
       "      <td>0.6495</td>\n",
       "    </tr>\n",
       "  </tbody>\n",
       "</table>\n",
       "</div>"
      ],
      "text/plain": [
       "                                                    True Positives  \\\n",
       "Results with 3 seconds tolerance window, on tes...           11.99   \n",
       "\n",
       "                                                    False Positives  \\\n",
       "Results with 3 seconds tolerance window, on tes...              6.0   \n",
       "\n",
       "                                                    False Negatives  \\\n",
       "Results with 3 seconds tolerance window, on tes...             6.82   \n",
       "\n",
       "                                                    Precision  Recall  \\\n",
       "Results with 3 seconds tolerance window, on tes...     0.6643  0.6449   \n",
       "\n",
       "                                                    F measure  \n",
       "Results with 3 seconds tolerance window, on tes...     0.6495  "
      ]
     },
     "metadata": {},
     "output_type": "display_data"
    }
   ],
   "source": [
    "zero_five_feature, three_feature = tests.fixed_conditions_feature(\"full\", feature, penalty_weight = penalty_weight, annotations_type = \"MIREX10\", penalty_func = \"modulo8\", convolution_type = \"mixed\")"
   ]
  },
  {
   "cell_type": "markdown",
   "id": "71129386",
   "metadata": {},
   "source": [
    "## HALS"
   ]
  },
  {
   "cell_type": "code",
   "execution_count": 19,
   "id": "885cf300",
   "metadata": {
    "ExecuteTime": {
     "end_time": "2021-10-05T18:20:53.269175Z",
     "start_time": "2021-10-05T18:05:29.878906Z"
    }
   },
   "outputs": [
    {
     "data": {
      "text/html": [
       "<div>\n",
       "<style scoped>\n",
       "    .dataframe tbody tr th:only-of-type {\n",
       "        vertical-align: middle;\n",
       "    }\n",
       "\n",
       "    .dataframe tbody tr th {\n",
       "        vertical-align: top;\n",
       "    }\n",
       "\n",
       "    .dataframe thead th {\n",
       "        text-align: right;\n",
       "    }\n",
       "</style>\n",
       "<table border=\"1\" class=\"dataframe\">\n",
       "  <thead>\n",
       "    <tr style=\"text-align: right;\">\n",
       "      <th></th>\n",
       "      <th>Best rank for $W$</th>\n",
       "      <th>Best rank for $H$</th>\n",
       "      <th>Best rank for $Q$</th>\n",
       "      <th>Best lambda: ponderation parameter.</th>\n",
       "    </tr>\n",
       "  </thead>\n",
       "  <tbody>\n",
       "    <tr>\n",
       "      <th>Learned parameters</th>\n",
       "      <td>8</td>\n",
       "      <td>24</td>\n",
       "      <td>24</td>\n",
       "      <td>1</td>\n",
       "    </tr>\n",
       "  </tbody>\n",
       "</table>\n",
       "</div>"
      ],
      "text/plain": [
       "                    Best rank for $W$  Best rank for $H$  Best rank for $Q$  \\\n",
       "Learned parameters                  8                 24                 24   \n",
       "\n",
       "                    Best lambda: ponderation parameter.  \n",
       "Learned parameters                                    1  "
      ]
     },
     "metadata": {},
     "output_type": "display_data"
    },
    {
     "data": {
      "text/html": [
       "<div>\n",
       "<style scoped>\n",
       "    .dataframe tbody tr th:only-of-type {\n",
       "        vertical-align: middle;\n",
       "    }\n",
       "\n",
       "    .dataframe tbody tr th {\n",
       "        vertical-align: top;\n",
       "    }\n",
       "\n",
       "    .dataframe thead th {\n",
       "        text-align: right;\n",
       "    }\n",
       "</style>\n",
       "<table border=\"1\" class=\"dataframe\">\n",
       "  <thead>\n",
       "    <tr style=\"text-align: right;\">\n",
       "      <th></th>\n",
       "      <th>True Positives</th>\n",
       "      <th>False Positives</th>\n",
       "      <th>False Negatives</th>\n",
       "      <th>Precision</th>\n",
       "      <th>Recall</th>\n",
       "      <th>F measure</th>\n",
       "    </tr>\n",
       "  </thead>\n",
       "  <tbody>\n",
       "    <tr>\n",
       "      <th>Results of nn_log_mel_grill with 0.5 seconds tolerance window on test dataset.</th>\n",
       "      <td>10.54</td>\n",
       "      <td>9.84</td>\n",
       "      <td>8.64</td>\n",
       "      <td>0.5323</td>\n",
       "      <td>0.559</td>\n",
       "      <td>0.537</td>\n",
       "    </tr>\n",
       "  </tbody>\n",
       "</table>\n",
       "</div>"
      ],
      "text/plain": [
       "                                                    True Positives  \\\n",
       "Results of nn_log_mel_grill with 0.5 seconds to...           10.54   \n",
       "\n",
       "                                                    False Positives  \\\n",
       "Results of nn_log_mel_grill with 0.5 seconds to...             9.84   \n",
       "\n",
       "                                                    False Negatives  \\\n",
       "Results of nn_log_mel_grill with 0.5 seconds to...             8.64   \n",
       "\n",
       "                                                    Precision  Recall  \\\n",
       "Results of nn_log_mel_grill with 0.5 seconds to...     0.5323   0.559   \n",
       "\n",
       "                                                    F measure  \n",
       "Results of nn_log_mel_grill with 0.5 seconds to...      0.537  "
      ]
     },
     "metadata": {},
     "output_type": "display_data"
    },
    {
     "data": {
      "text/html": [
       "<div>\n",
       "<style scoped>\n",
       "    .dataframe tbody tr th:only-of-type {\n",
       "        vertical-align: middle;\n",
       "    }\n",
       "\n",
       "    .dataframe tbody tr th {\n",
       "        vertical-align: top;\n",
       "    }\n",
       "\n",
       "    .dataframe thead th {\n",
       "        text-align: right;\n",
       "    }\n",
       "</style>\n",
       "<table border=\"1\" class=\"dataframe\">\n",
       "  <thead>\n",
       "    <tr style=\"text-align: right;\">\n",
       "      <th></th>\n",
       "      <th>True Positives</th>\n",
       "      <th>False Positives</th>\n",
       "      <th>False Negatives</th>\n",
       "      <th>Precision</th>\n",
       "      <th>Recall</th>\n",
       "      <th>F measure</th>\n",
       "    </tr>\n",
       "  </thead>\n",
       "  <tbody>\n",
       "    <tr>\n",
       "      <th>Results of nn_log_mel_grill with 3 seconds tolerance window on test dataset.</th>\n",
       "      <td>14.14</td>\n",
       "      <td>6.24</td>\n",
       "      <td>5.04</td>\n",
       "      <td>0.7124</td>\n",
       "      <td>0.7473</td>\n",
       "      <td>0.7193</td>\n",
       "    </tr>\n",
       "  </tbody>\n",
       "</table>\n",
       "</div>"
      ],
      "text/plain": [
       "                                                    True Positives  \\\n",
       "Results of nn_log_mel_grill with 3 seconds tole...           14.14   \n",
       "\n",
       "                                                    False Positives  \\\n",
       "Results of nn_log_mel_grill with 3 seconds tole...             6.24   \n",
       "\n",
       "                                                    False Negatives  \\\n",
       "Results of nn_log_mel_grill with 3 seconds tole...             5.04   \n",
       "\n",
       "                                                    Precision  Recall  \\\n",
       "Results of nn_log_mel_grill with 3 seconds tole...     0.7124  0.7473   \n",
       "\n",
       "                                                    F measure  \n",
       "Results of nn_log_mel_grill with 3 seconds tole...     0.7193  "
      ]
     },
     "metadata": {},
     "output_type": "display_data"
    }
   ],
   "source": [
    "odd_params, odd_zero_five, odd_three = tests.several_ranks_with_cross_validation_of_param_RWC(\"even_songs\", \"odd_songs\", feature,\n",
    "                                                       ranks_frequency = core_dimensions_list, ranks_rhythm = core_dimensions_list, ranks_pattern = core_dimensions_list, \n",
    "                                                       penalty_range = penalty_range, update_rule = \"hals\", annotations_type = \"MIREX10\", penalty_func = \"modulo8\", convolution_type = \"mixed\")"
   ]
  },
  {
   "cell_type": "code",
   "execution_count": 20,
   "id": "250f865b",
   "metadata": {
    "ExecuteTime": {
     "end_time": "2021-10-05T18:36:33.074004Z",
     "start_time": "2021-10-05T18:20:53.272167Z"
    }
   },
   "outputs": [
    {
     "data": {
      "text/html": [
       "<div>\n",
       "<style scoped>\n",
       "    .dataframe tbody tr th:only-of-type {\n",
       "        vertical-align: middle;\n",
       "    }\n",
       "\n",
       "    .dataframe tbody tr th {\n",
       "        vertical-align: top;\n",
       "    }\n",
       "\n",
       "    .dataframe thead th {\n",
       "        text-align: right;\n",
       "    }\n",
       "</style>\n",
       "<table border=\"1\" class=\"dataframe\">\n",
       "  <thead>\n",
       "    <tr style=\"text-align: right;\">\n",
       "      <th></th>\n",
       "      <th>Best rank for $W$</th>\n",
       "      <th>Best rank for $H$</th>\n",
       "      <th>Best rank for $Q$</th>\n",
       "      <th>Best lambda: ponderation parameter.</th>\n",
       "    </tr>\n",
       "  </thead>\n",
       "  <tbody>\n",
       "    <tr>\n",
       "      <th>Learned parameters</th>\n",
       "      <td>40</td>\n",
       "      <td>16</td>\n",
       "      <td>40</td>\n",
       "      <td>1</td>\n",
       "    </tr>\n",
       "  </tbody>\n",
       "</table>\n",
       "</div>"
      ],
      "text/plain": [
       "                    Best rank for $W$  Best rank for $H$  Best rank for $Q$  \\\n",
       "Learned parameters                 40                 16                 40   \n",
       "\n",
       "                    Best lambda: ponderation parameter.  \n",
       "Learned parameters                                    1  "
      ]
     },
     "metadata": {},
     "output_type": "display_data"
    },
    {
     "data": {
      "text/html": [
       "<div>\n",
       "<style scoped>\n",
       "    .dataframe tbody tr th:only-of-type {\n",
       "        vertical-align: middle;\n",
       "    }\n",
       "\n",
       "    .dataframe tbody tr th {\n",
       "        vertical-align: top;\n",
       "    }\n",
       "\n",
       "    .dataframe thead th {\n",
       "        text-align: right;\n",
       "    }\n",
       "</style>\n",
       "<table border=\"1\" class=\"dataframe\">\n",
       "  <thead>\n",
       "    <tr style=\"text-align: right;\">\n",
       "      <th></th>\n",
       "      <th>True Positives</th>\n",
       "      <th>False Positives</th>\n",
       "      <th>False Negatives</th>\n",
       "      <th>Precision</th>\n",
       "      <th>Recall</th>\n",
       "      <th>F measure</th>\n",
       "    </tr>\n",
       "  </thead>\n",
       "  <tbody>\n",
       "    <tr>\n",
       "      <th>Results of nn_log_mel_grill with 0.5 seconds tolerance window on test dataset.</th>\n",
       "      <td>9.16</td>\n",
       "      <td>10.38</td>\n",
       "      <td>9.28</td>\n",
       "      <td>0.4779</td>\n",
       "      <td>0.4951</td>\n",
       "      <td>0.4844</td>\n",
       "    </tr>\n",
       "  </tbody>\n",
       "</table>\n",
       "</div>"
      ],
      "text/plain": [
       "                                                    True Positives  \\\n",
       "Results of nn_log_mel_grill with 0.5 seconds to...            9.16   \n",
       "\n",
       "                                                    False Positives  \\\n",
       "Results of nn_log_mel_grill with 0.5 seconds to...            10.38   \n",
       "\n",
       "                                                    False Negatives  \\\n",
       "Results of nn_log_mel_grill with 0.5 seconds to...             9.28   \n",
       "\n",
       "                                                    Precision  Recall  \\\n",
       "Results of nn_log_mel_grill with 0.5 seconds to...     0.4779  0.4951   \n",
       "\n",
       "                                                    F measure  \n",
       "Results of nn_log_mel_grill with 0.5 seconds to...     0.4844  "
      ]
     },
     "metadata": {},
     "output_type": "display_data"
    },
    {
     "data": {
      "text/html": [
       "<div>\n",
       "<style scoped>\n",
       "    .dataframe tbody tr th:only-of-type {\n",
       "        vertical-align: middle;\n",
       "    }\n",
       "\n",
       "    .dataframe tbody tr th {\n",
       "        vertical-align: top;\n",
       "    }\n",
       "\n",
       "    .dataframe thead th {\n",
       "        text-align: right;\n",
       "    }\n",
       "</style>\n",
       "<table border=\"1\" class=\"dataframe\">\n",
       "  <thead>\n",
       "    <tr style=\"text-align: right;\">\n",
       "      <th></th>\n",
       "      <th>True Positives</th>\n",
       "      <th>False Positives</th>\n",
       "      <th>False Negatives</th>\n",
       "      <th>Precision</th>\n",
       "      <th>Recall</th>\n",
       "      <th>F measure</th>\n",
       "    </tr>\n",
       "  </thead>\n",
       "  <tbody>\n",
       "    <tr>\n",
       "      <th>Results of nn_log_mel_grill with 3 seconds tolerance window on test dataset.</th>\n",
       "      <td>13.86</td>\n",
       "      <td>5.68</td>\n",
       "      <td>4.58</td>\n",
       "      <td>0.7124</td>\n",
       "      <td>0.7448</td>\n",
       "      <td>0.7253</td>\n",
       "    </tr>\n",
       "  </tbody>\n",
       "</table>\n",
       "</div>"
      ],
      "text/plain": [
       "                                                    True Positives  \\\n",
       "Results of nn_log_mel_grill with 3 seconds tole...           13.86   \n",
       "\n",
       "                                                    False Positives  \\\n",
       "Results of nn_log_mel_grill with 3 seconds tole...             5.68   \n",
       "\n",
       "                                                    False Negatives  \\\n",
       "Results of nn_log_mel_grill with 3 seconds tole...             4.58   \n",
       "\n",
       "                                                    Precision  Recall  \\\n",
       "Results of nn_log_mel_grill with 3 seconds tole...     0.7124  0.7448   \n",
       "\n",
       "                                                    F measure  \n",
       "Results of nn_log_mel_grill with 3 seconds tole...     0.7253  "
      ]
     },
     "metadata": {},
     "output_type": "display_data"
    }
   ],
   "source": [
    "even_params, even_zero_five, even_three = tests.several_ranks_with_cross_validation_of_param_RWC(\"odd_songs\", \"even_songs\", feature, \n",
    "                                                       ranks_frequency = core_dimensions_list, ranks_rhythm = core_dimensions_list, ranks_pattern = core_dimensions_list, \n",
    "                                                       penalty_range = penalty_range, update_rule = \"hals\", annotations_type = \"MIREX10\", penalty_func = \"modulo8\", convolution_type = \"mixed\")"
   ]
  },
  {
   "cell_type": "code",
   "execution_count": 21,
   "id": "7dda27c5",
   "metadata": {
    "ExecuteTime": {
     "end_time": "2021-10-05T18:36:33.082980Z",
     "start_time": "2021-10-05T18:36:33.077109Z"
    }
   },
   "outputs": [
    {
     "name": "stdout",
     "output_type": "stream",
     "text": [
      "0.5 seconds: [0.5051140000000001, 0.527062, 0.510725]\n",
      "3 seconds: [0.712415, 0.7460389999999999, 0.722305]\n"
     ]
    }
   ],
   "source": [
    "print(f\"0.5 seconds: {[(odd_zero_five[i] + even_zero_five[i])/2 for i in range(3,6)]}\")\n",
    "print(f\"3 seconds: {[(odd_three[i] + even_three[i])/2 for i in range(3,6)]}\")"
   ]
  },
  {
   "cell_type": "markdown",
   "id": "0c5ea3d0",
   "metadata": {},
   "source": [
    "## MU\n",
    "### Beta = 1"
   ]
  },
  {
   "cell_type": "code",
   "execution_count": 22,
   "id": "1d3fc067",
   "metadata": {
    "ExecuteTime": {
     "end_time": "2021-10-05T18:51:56.920744Z",
     "start_time": "2021-10-05T18:36:33.091956Z"
    }
   },
   "outputs": [
    {
     "data": {
      "text/html": [
       "<div>\n",
       "<style scoped>\n",
       "    .dataframe tbody tr th:only-of-type {\n",
       "        vertical-align: middle;\n",
       "    }\n",
       "\n",
       "    .dataframe tbody tr th {\n",
       "        vertical-align: top;\n",
       "    }\n",
       "\n",
       "    .dataframe thead th {\n",
       "        text-align: right;\n",
       "    }\n",
       "</style>\n",
       "<table border=\"1\" class=\"dataframe\">\n",
       "  <thead>\n",
       "    <tr style=\"text-align: right;\">\n",
       "      <th></th>\n",
       "      <th>Best rank for $W$</th>\n",
       "      <th>Best rank for $H$</th>\n",
       "      <th>Best rank for $Q$</th>\n",
       "      <th>Best lambda: ponderation parameter.</th>\n",
       "    </tr>\n",
       "  </thead>\n",
       "  <tbody>\n",
       "    <tr>\n",
       "      <th>Learned parameters</th>\n",
       "      <td>32</td>\n",
       "      <td>8</td>\n",
       "      <td>32</td>\n",
       "      <td>1</td>\n",
       "    </tr>\n",
       "  </tbody>\n",
       "</table>\n",
       "</div>"
      ],
      "text/plain": [
       "                    Best rank for $W$  Best rank for $H$  Best rank for $Q$  \\\n",
       "Learned parameters                 32                  8                 32   \n",
       "\n",
       "                    Best lambda: ponderation parameter.  \n",
       "Learned parameters                                    1  "
      ]
     },
     "metadata": {},
     "output_type": "display_data"
    },
    {
     "data": {
      "text/html": [
       "<div>\n",
       "<style scoped>\n",
       "    .dataframe tbody tr th:only-of-type {\n",
       "        vertical-align: middle;\n",
       "    }\n",
       "\n",
       "    .dataframe tbody tr th {\n",
       "        vertical-align: top;\n",
       "    }\n",
       "\n",
       "    .dataframe thead th {\n",
       "        text-align: right;\n",
       "    }\n",
       "</style>\n",
       "<table border=\"1\" class=\"dataframe\">\n",
       "  <thead>\n",
       "    <tr style=\"text-align: right;\">\n",
       "      <th></th>\n",
       "      <th>True Positives</th>\n",
       "      <th>False Positives</th>\n",
       "      <th>False Negatives</th>\n",
       "      <th>Precision</th>\n",
       "      <th>Recall</th>\n",
       "      <th>F measure</th>\n",
       "    </tr>\n",
       "  </thead>\n",
       "  <tbody>\n",
       "    <tr>\n",
       "      <th>Results of nn_log_mel_grill with 0.5 seconds tolerance window on test dataset.</th>\n",
       "      <td>11.66</td>\n",
       "      <td>9.12</td>\n",
       "      <td>7.52</td>\n",
       "      <td>0.5815</td>\n",
       "      <td>0.6244</td>\n",
       "      <td>0.5945</td>\n",
       "    </tr>\n",
       "  </tbody>\n",
       "</table>\n",
       "</div>"
      ],
      "text/plain": [
       "                                                    True Positives  \\\n",
       "Results of nn_log_mel_grill with 0.5 seconds to...           11.66   \n",
       "\n",
       "                                                    False Positives  \\\n",
       "Results of nn_log_mel_grill with 0.5 seconds to...             9.12   \n",
       "\n",
       "                                                    False Negatives  \\\n",
       "Results of nn_log_mel_grill with 0.5 seconds to...             7.52   \n",
       "\n",
       "                                                    Precision  Recall  \\\n",
       "Results of nn_log_mel_grill with 0.5 seconds to...     0.5815  0.6244   \n",
       "\n",
       "                                                    F measure  \n",
       "Results of nn_log_mel_grill with 0.5 seconds to...     0.5945  "
      ]
     },
     "metadata": {},
     "output_type": "display_data"
    },
    {
     "data": {
      "text/html": [
       "<div>\n",
       "<style scoped>\n",
       "    .dataframe tbody tr th:only-of-type {\n",
       "        vertical-align: middle;\n",
       "    }\n",
       "\n",
       "    .dataframe tbody tr th {\n",
       "        vertical-align: top;\n",
       "    }\n",
       "\n",
       "    .dataframe thead th {\n",
       "        text-align: right;\n",
       "    }\n",
       "</style>\n",
       "<table border=\"1\" class=\"dataframe\">\n",
       "  <thead>\n",
       "    <tr style=\"text-align: right;\">\n",
       "      <th></th>\n",
       "      <th>True Positives</th>\n",
       "      <th>False Positives</th>\n",
       "      <th>False Negatives</th>\n",
       "      <th>Precision</th>\n",
       "      <th>Recall</th>\n",
       "      <th>F measure</th>\n",
       "    </tr>\n",
       "  </thead>\n",
       "  <tbody>\n",
       "    <tr>\n",
       "      <th>Results of nn_log_mel_grill with 3 seconds tolerance window on test dataset.</th>\n",
       "      <td>14.62</td>\n",
       "      <td>6.16</td>\n",
       "      <td>4.56</td>\n",
       "      <td>0.7234</td>\n",
       "      <td>0.7782</td>\n",
       "      <td>0.7408</td>\n",
       "    </tr>\n",
       "  </tbody>\n",
       "</table>\n",
       "</div>"
      ],
      "text/plain": [
       "                                                    True Positives  \\\n",
       "Results of nn_log_mel_grill with 3 seconds tole...           14.62   \n",
       "\n",
       "                                                    False Positives  \\\n",
       "Results of nn_log_mel_grill with 3 seconds tole...             6.16   \n",
       "\n",
       "                                                    False Negatives  \\\n",
       "Results of nn_log_mel_grill with 3 seconds tole...             4.56   \n",
       "\n",
       "                                                    Precision  Recall  \\\n",
       "Results of nn_log_mel_grill with 3 seconds tole...     0.7234  0.7782   \n",
       "\n",
       "                                                    F measure  \n",
       "Results of nn_log_mel_grill with 3 seconds tole...     0.7408  "
      ]
     },
     "metadata": {},
     "output_type": "display_data"
    }
   ],
   "source": [
    "odd_params, odd_zero_five, odd_three = tests.several_ranks_with_cross_validation_of_param_RWC(\"even_songs\", \"odd_songs\", feature,\n",
    "                                                       ranks_frequency = core_dimensions_list, ranks_rhythm = core_dimensions_list, ranks_pattern = core_dimensions_list, penalty_range = penalty_range, \n",
    "                                                       update_rule = \"mu\", beta = 1, annotations_type = \"MIREX10\", penalty_func = \"modulo8\", convolution_type = \"mixed\")"
   ]
  },
  {
   "cell_type": "code",
   "execution_count": 23,
   "id": "9df29624",
   "metadata": {
    "ExecuteTime": {
     "end_time": "2021-10-05T19:07:34.609548Z",
     "start_time": "2021-10-05T18:51:56.924732Z"
    }
   },
   "outputs": [
    {
     "data": {
      "text/html": [
       "<div>\n",
       "<style scoped>\n",
       "    .dataframe tbody tr th:only-of-type {\n",
       "        vertical-align: middle;\n",
       "    }\n",
       "\n",
       "    .dataframe tbody tr th {\n",
       "        vertical-align: top;\n",
       "    }\n",
       "\n",
       "    .dataframe thead th {\n",
       "        text-align: right;\n",
       "    }\n",
       "</style>\n",
       "<table border=\"1\" class=\"dataframe\">\n",
       "  <thead>\n",
       "    <tr style=\"text-align: right;\">\n",
       "      <th></th>\n",
       "      <th>Best rank for $W$</th>\n",
       "      <th>Best rank for $H$</th>\n",
       "      <th>Best rank for $Q$</th>\n",
       "      <th>Best lambda: ponderation parameter.</th>\n",
       "    </tr>\n",
       "  </thead>\n",
       "  <tbody>\n",
       "    <tr>\n",
       "      <th>Learned parameters</th>\n",
       "      <td>16</td>\n",
       "      <td>40</td>\n",
       "      <td>16</td>\n",
       "      <td>1</td>\n",
       "    </tr>\n",
       "  </tbody>\n",
       "</table>\n",
       "</div>"
      ],
      "text/plain": [
       "                    Best rank for $W$  Best rank for $H$  Best rank for $Q$  \\\n",
       "Learned parameters                 16                 40                 16   \n",
       "\n",
       "                    Best lambda: ponderation parameter.  \n",
       "Learned parameters                                    1  "
      ]
     },
     "metadata": {},
     "output_type": "display_data"
    },
    {
     "data": {
      "text/html": [
       "<div>\n",
       "<style scoped>\n",
       "    .dataframe tbody tr th:only-of-type {\n",
       "        vertical-align: middle;\n",
       "    }\n",
       "\n",
       "    .dataframe tbody tr th {\n",
       "        vertical-align: top;\n",
       "    }\n",
       "\n",
       "    .dataframe thead th {\n",
       "        text-align: right;\n",
       "    }\n",
       "</style>\n",
       "<table border=\"1\" class=\"dataframe\">\n",
       "  <thead>\n",
       "    <tr style=\"text-align: right;\">\n",
       "      <th></th>\n",
       "      <th>True Positives</th>\n",
       "      <th>False Positives</th>\n",
       "      <th>False Negatives</th>\n",
       "      <th>Precision</th>\n",
       "      <th>Recall</th>\n",
       "      <th>F measure</th>\n",
       "    </tr>\n",
       "  </thead>\n",
       "  <tbody>\n",
       "    <tr>\n",
       "      <th>Results of nn_log_mel_grill with 0.5 seconds tolerance window on test dataset.</th>\n",
       "      <td>11.32</td>\n",
       "      <td>8.6</td>\n",
       "      <td>7.12</td>\n",
       "      <td>0.5742</td>\n",
       "      <td>0.6142</td>\n",
       "      <td>0.5912</td>\n",
       "    </tr>\n",
       "  </tbody>\n",
       "</table>\n",
       "</div>"
      ],
      "text/plain": [
       "                                                    True Positives  \\\n",
       "Results of nn_log_mel_grill with 0.5 seconds to...           11.32   \n",
       "\n",
       "                                                    False Positives  \\\n",
       "Results of nn_log_mel_grill with 0.5 seconds to...              8.6   \n",
       "\n",
       "                                                    False Negatives  \\\n",
       "Results of nn_log_mel_grill with 0.5 seconds to...             7.12   \n",
       "\n",
       "                                                    Precision  Recall  \\\n",
       "Results of nn_log_mel_grill with 0.5 seconds to...     0.5742  0.6142   \n",
       "\n",
       "                                                    F measure  \n",
       "Results of nn_log_mel_grill with 0.5 seconds to...     0.5912  "
      ]
     },
     "metadata": {},
     "output_type": "display_data"
    },
    {
     "data": {
      "text/html": [
       "<div>\n",
       "<style scoped>\n",
       "    .dataframe tbody tr th:only-of-type {\n",
       "        vertical-align: middle;\n",
       "    }\n",
       "\n",
       "    .dataframe tbody tr th {\n",
       "        vertical-align: top;\n",
       "    }\n",
       "\n",
       "    .dataframe thead th {\n",
       "        text-align: right;\n",
       "    }\n",
       "</style>\n",
       "<table border=\"1\" class=\"dataframe\">\n",
       "  <thead>\n",
       "    <tr style=\"text-align: right;\">\n",
       "      <th></th>\n",
       "      <th>True Positives</th>\n",
       "      <th>False Positives</th>\n",
       "      <th>False Negatives</th>\n",
       "      <th>Precision</th>\n",
       "      <th>Recall</th>\n",
       "      <th>F measure</th>\n",
       "    </tr>\n",
       "  </thead>\n",
       "  <tbody>\n",
       "    <tr>\n",
       "      <th>Results of nn_log_mel_grill with 3 seconds tolerance window on test dataset.</th>\n",
       "      <td>15.0</td>\n",
       "      <td>4.92</td>\n",
       "      <td>3.44</td>\n",
       "      <td>0.7545</td>\n",
       "      <td>0.8088</td>\n",
       "      <td>0.7777</td>\n",
       "    </tr>\n",
       "  </tbody>\n",
       "</table>\n",
       "</div>"
      ],
      "text/plain": [
       "                                                    True Positives  \\\n",
       "Results of nn_log_mel_grill with 3 seconds tole...            15.0   \n",
       "\n",
       "                                                    False Positives  \\\n",
       "Results of nn_log_mel_grill with 3 seconds tole...             4.92   \n",
       "\n",
       "                                                    False Negatives  \\\n",
       "Results of nn_log_mel_grill with 3 seconds tole...             3.44   \n",
       "\n",
       "                                                    Precision  Recall  \\\n",
       "Results of nn_log_mel_grill with 3 seconds tole...     0.7545  0.8088   \n",
       "\n",
       "                                                    F measure  \n",
       "Results of nn_log_mel_grill with 3 seconds tole...     0.7777  "
      ]
     },
     "metadata": {},
     "output_type": "display_data"
    }
   ],
   "source": [
    "even_params, even_zero_five, even_three = tests.several_ranks_with_cross_validation_of_param_RWC(\"odd_songs\", \"even_songs\", feature,\n",
    "                                                       ranks_frequency = core_dimensions_list, ranks_rhythm = core_dimensions_list, ranks_pattern = core_dimensions_list, penalty_range = penalty_range, \n",
    "                                                       update_rule = \"mu\", beta = 1, annotations_type = \"MIREX10\", penalty_func = \"modulo8\", convolution_type = \"mixed\")"
   ]
  },
  {
   "cell_type": "code",
   "execution_count": 24,
   "id": "8881a1f1",
   "metadata": {
    "ExecuteTime": {
     "end_time": "2021-10-05T19:07:34.618897Z",
     "start_time": "2021-10-05T19:07:34.611915Z"
    }
   },
   "outputs": [
    {
     "name": "stdout",
     "output_type": "stream",
     "text": [
      "0.5 seconds: [0.57787, 0.6193310000000001, 0.592846]\n",
      "3 seconds: [0.738959, 0.7934699999999999, 0.7592599999999999]\n"
     ]
    }
   ],
   "source": [
    "print(f\"0.5 seconds: {[(odd_zero_five[i] + even_zero_five[i])/2 for i in range(3,6)]}\")\n",
    "print(f\"3 seconds: {[(odd_three[i] + even_three[i])/2 for i in range(3,6)]}\")"
   ]
  },
  {
   "cell_type": "markdown",
   "id": "204b64be",
   "metadata": {},
   "source": [
    "### Beta = 0"
   ]
  },
  {
   "cell_type": "code",
   "execution_count": 25,
   "id": "e5e9e356",
   "metadata": {
    "ExecuteTime": {
     "end_time": "2021-10-05T19:23:22.406644Z",
     "start_time": "2021-10-05T19:07:34.621888Z"
    }
   },
   "outputs": [
    {
     "data": {
      "text/html": [
       "<div>\n",
       "<style scoped>\n",
       "    .dataframe tbody tr th:only-of-type {\n",
       "        vertical-align: middle;\n",
       "    }\n",
       "\n",
       "    .dataframe tbody tr th {\n",
       "        vertical-align: top;\n",
       "    }\n",
       "\n",
       "    .dataframe thead th {\n",
       "        text-align: right;\n",
       "    }\n",
       "</style>\n",
       "<table border=\"1\" class=\"dataframe\">\n",
       "  <thead>\n",
       "    <tr style=\"text-align: right;\">\n",
       "      <th></th>\n",
       "      <th>Best rank for $W$</th>\n",
       "      <th>Best rank for $H$</th>\n",
       "      <th>Best rank for $Q$</th>\n",
       "      <th>Best lambda: ponderation parameter.</th>\n",
       "    </tr>\n",
       "  </thead>\n",
       "  <tbody>\n",
       "    <tr>\n",
       "      <th>Learned parameters</th>\n",
       "      <td>24</td>\n",
       "      <td>40</td>\n",
       "      <td>32</td>\n",
       "      <td>1</td>\n",
       "    </tr>\n",
       "  </tbody>\n",
       "</table>\n",
       "</div>"
      ],
      "text/plain": [
       "                    Best rank for $W$  Best rank for $H$  Best rank for $Q$  \\\n",
       "Learned parameters                 24                 40                 32   \n",
       "\n",
       "                    Best lambda: ponderation parameter.  \n",
       "Learned parameters                                    1  "
      ]
     },
     "metadata": {},
     "output_type": "display_data"
    },
    {
     "data": {
      "text/html": [
       "<div>\n",
       "<style scoped>\n",
       "    .dataframe tbody tr th:only-of-type {\n",
       "        vertical-align: middle;\n",
       "    }\n",
       "\n",
       "    .dataframe tbody tr th {\n",
       "        vertical-align: top;\n",
       "    }\n",
       "\n",
       "    .dataframe thead th {\n",
       "        text-align: right;\n",
       "    }\n",
       "</style>\n",
       "<table border=\"1\" class=\"dataframe\">\n",
       "  <thead>\n",
       "    <tr style=\"text-align: right;\">\n",
       "      <th></th>\n",
       "      <th>True Positives</th>\n",
       "      <th>False Positives</th>\n",
       "      <th>False Negatives</th>\n",
       "      <th>Precision</th>\n",
       "      <th>Recall</th>\n",
       "      <th>F measure</th>\n",
       "    </tr>\n",
       "  </thead>\n",
       "  <tbody>\n",
       "    <tr>\n",
       "      <th>Results of nn_log_mel_grill with 0.5 seconds tolerance window on test dataset.</th>\n",
       "      <td>12.02</td>\n",
       "      <td>9.64</td>\n",
       "      <td>7.16</td>\n",
       "      <td>0.5726</td>\n",
       "      <td>0.6401</td>\n",
       "      <td>0.5964</td>\n",
       "    </tr>\n",
       "  </tbody>\n",
       "</table>\n",
       "</div>"
      ],
      "text/plain": [
       "                                                    True Positives  \\\n",
       "Results of nn_log_mel_grill with 0.5 seconds to...           12.02   \n",
       "\n",
       "                                                    False Positives  \\\n",
       "Results of nn_log_mel_grill with 0.5 seconds to...             9.64   \n",
       "\n",
       "                                                    False Negatives  \\\n",
       "Results of nn_log_mel_grill with 0.5 seconds to...             7.16   \n",
       "\n",
       "                                                    Precision  Recall  \\\n",
       "Results of nn_log_mel_grill with 0.5 seconds to...     0.5726  0.6401   \n",
       "\n",
       "                                                    F measure  \n",
       "Results of nn_log_mel_grill with 0.5 seconds to...     0.5964  "
      ]
     },
     "metadata": {},
     "output_type": "display_data"
    },
    {
     "data": {
      "text/html": [
       "<div>\n",
       "<style scoped>\n",
       "    .dataframe tbody tr th:only-of-type {\n",
       "        vertical-align: middle;\n",
       "    }\n",
       "\n",
       "    .dataframe tbody tr th {\n",
       "        vertical-align: top;\n",
       "    }\n",
       "\n",
       "    .dataframe thead th {\n",
       "        text-align: right;\n",
       "    }\n",
       "</style>\n",
       "<table border=\"1\" class=\"dataframe\">\n",
       "  <thead>\n",
       "    <tr style=\"text-align: right;\">\n",
       "      <th></th>\n",
       "      <th>True Positives</th>\n",
       "      <th>False Positives</th>\n",
       "      <th>False Negatives</th>\n",
       "      <th>Precision</th>\n",
       "      <th>Recall</th>\n",
       "      <th>F measure</th>\n",
       "    </tr>\n",
       "  </thead>\n",
       "  <tbody>\n",
       "    <tr>\n",
       "      <th>Results of nn_log_mel_grill with 3 seconds tolerance window on test dataset.</th>\n",
       "      <td>14.96</td>\n",
       "      <td>6.7</td>\n",
       "      <td>4.22</td>\n",
       "      <td>0.7072</td>\n",
       "      <td>0.7901</td>\n",
       "      <td>0.7371</td>\n",
       "    </tr>\n",
       "  </tbody>\n",
       "</table>\n",
       "</div>"
      ],
      "text/plain": [
       "                                                    True Positives  \\\n",
       "Results of nn_log_mel_grill with 3 seconds tole...           14.96   \n",
       "\n",
       "                                                    False Positives  \\\n",
       "Results of nn_log_mel_grill with 3 seconds tole...              6.7   \n",
       "\n",
       "                                                    False Negatives  \\\n",
       "Results of nn_log_mel_grill with 3 seconds tole...             4.22   \n",
       "\n",
       "                                                    Precision  Recall  \\\n",
       "Results of nn_log_mel_grill with 3 seconds tole...     0.7072  0.7901   \n",
       "\n",
       "                                                    F measure  \n",
       "Results of nn_log_mel_grill with 3 seconds tole...     0.7371  "
      ]
     },
     "metadata": {},
     "output_type": "display_data"
    }
   ],
   "source": [
    "odd_params, odd_zero_five, odd_three = tests.several_ranks_with_cross_validation_of_param_RWC(\"even_songs\", \"odd_songs\", feature,\n",
    "                                                       ranks_frequency = core_dimensions_list, ranks_rhythm = core_dimensions_list, ranks_pattern = core_dimensions_list, penalty_range = penalty_range, \n",
    "                                                       update_rule = \"mu\", beta = 0, annotations_type = \"MIREX10\", penalty_func = \"modulo8\", convolution_type = \"mixed\")"
   ]
  },
  {
   "cell_type": "code",
   "execution_count": 26,
   "id": "bdff2f9d",
   "metadata": {
    "ExecuteTime": {
     "end_time": "2021-10-05T19:39:26.859157Z",
     "start_time": "2021-10-05T19:23:22.409649Z"
    }
   },
   "outputs": [
    {
     "data": {
      "text/html": [
       "<div>\n",
       "<style scoped>\n",
       "    .dataframe tbody tr th:only-of-type {\n",
       "        vertical-align: middle;\n",
       "    }\n",
       "\n",
       "    .dataframe tbody tr th {\n",
       "        vertical-align: top;\n",
       "    }\n",
       "\n",
       "    .dataframe thead th {\n",
       "        text-align: right;\n",
       "    }\n",
       "</style>\n",
       "<table border=\"1\" class=\"dataframe\">\n",
       "  <thead>\n",
       "    <tr style=\"text-align: right;\">\n",
       "      <th></th>\n",
       "      <th>Best rank for $W$</th>\n",
       "      <th>Best rank for $H$</th>\n",
       "      <th>Best rank for $Q$</th>\n",
       "      <th>Best lambda: ponderation parameter.</th>\n",
       "    </tr>\n",
       "  </thead>\n",
       "  <tbody>\n",
       "    <tr>\n",
       "      <th>Learned parameters</th>\n",
       "      <td>8</td>\n",
       "      <td>32</td>\n",
       "      <td>24</td>\n",
       "      <td>1</td>\n",
       "    </tr>\n",
       "  </tbody>\n",
       "</table>\n",
       "</div>"
      ],
      "text/plain": [
       "                    Best rank for $W$  Best rank for $H$  Best rank for $Q$  \\\n",
       "Learned parameters                  8                 32                 24   \n",
       "\n",
       "                    Best lambda: ponderation parameter.  \n",
       "Learned parameters                                    1  "
      ]
     },
     "metadata": {},
     "output_type": "display_data"
    },
    {
     "data": {
      "text/html": [
       "<div>\n",
       "<style scoped>\n",
       "    .dataframe tbody tr th:only-of-type {\n",
       "        vertical-align: middle;\n",
       "    }\n",
       "\n",
       "    .dataframe tbody tr th {\n",
       "        vertical-align: top;\n",
       "    }\n",
       "\n",
       "    .dataframe thead th {\n",
       "        text-align: right;\n",
       "    }\n",
       "</style>\n",
       "<table border=\"1\" class=\"dataframe\">\n",
       "  <thead>\n",
       "    <tr style=\"text-align: right;\">\n",
       "      <th></th>\n",
       "      <th>True Positives</th>\n",
       "      <th>False Positives</th>\n",
       "      <th>False Negatives</th>\n",
       "      <th>Precision</th>\n",
       "      <th>Recall</th>\n",
       "      <th>F measure</th>\n",
       "    </tr>\n",
       "  </thead>\n",
       "  <tbody>\n",
       "    <tr>\n",
       "      <th>Results of nn_log_mel_grill with 0.5 seconds tolerance window on test dataset.</th>\n",
       "      <td>10.98</td>\n",
       "      <td>9.32</td>\n",
       "      <td>7.46</td>\n",
       "      <td>0.5449</td>\n",
       "      <td>0.5936</td>\n",
       "      <td>0.5661</td>\n",
       "    </tr>\n",
       "  </tbody>\n",
       "</table>\n",
       "</div>"
      ],
      "text/plain": [
       "                                                    True Positives  \\\n",
       "Results of nn_log_mel_grill with 0.5 seconds to...           10.98   \n",
       "\n",
       "                                                    False Positives  \\\n",
       "Results of nn_log_mel_grill with 0.5 seconds to...             9.32   \n",
       "\n",
       "                                                    False Negatives  \\\n",
       "Results of nn_log_mel_grill with 0.5 seconds to...             7.46   \n",
       "\n",
       "                                                    Precision  Recall  \\\n",
       "Results of nn_log_mel_grill with 0.5 seconds to...     0.5449  0.5936   \n",
       "\n",
       "                                                    F measure  \n",
       "Results of nn_log_mel_grill with 0.5 seconds to...     0.5661  "
      ]
     },
     "metadata": {},
     "output_type": "display_data"
    },
    {
     "data": {
      "text/html": [
       "<div>\n",
       "<style scoped>\n",
       "    .dataframe tbody tr th:only-of-type {\n",
       "        vertical-align: middle;\n",
       "    }\n",
       "\n",
       "    .dataframe tbody tr th {\n",
       "        vertical-align: top;\n",
       "    }\n",
       "\n",
       "    .dataframe thead th {\n",
       "        text-align: right;\n",
       "    }\n",
       "</style>\n",
       "<table border=\"1\" class=\"dataframe\">\n",
       "  <thead>\n",
       "    <tr style=\"text-align: right;\">\n",
       "      <th></th>\n",
       "      <th>True Positives</th>\n",
       "      <th>False Positives</th>\n",
       "      <th>False Negatives</th>\n",
       "      <th>Precision</th>\n",
       "      <th>Recall</th>\n",
       "      <th>F measure</th>\n",
       "    </tr>\n",
       "  </thead>\n",
       "  <tbody>\n",
       "    <tr>\n",
       "      <th>Results of nn_log_mel_grill with 3 seconds tolerance window on test dataset.</th>\n",
       "      <td>15.68</td>\n",
       "      <td>4.62</td>\n",
       "      <td>2.76</td>\n",
       "      <td>0.7735</td>\n",
       "      <td>0.8471</td>\n",
       "      <td>0.8057</td>\n",
       "    </tr>\n",
       "  </tbody>\n",
       "</table>\n",
       "</div>"
      ],
      "text/plain": [
       "                                                    True Positives  \\\n",
       "Results of nn_log_mel_grill with 3 seconds tole...           15.68   \n",
       "\n",
       "                                                    False Positives  \\\n",
       "Results of nn_log_mel_grill with 3 seconds tole...             4.62   \n",
       "\n",
       "                                                    False Negatives  \\\n",
       "Results of nn_log_mel_grill with 3 seconds tole...             2.76   \n",
       "\n",
       "                                                    Precision  Recall  \\\n",
       "Results of nn_log_mel_grill with 3 seconds tole...     0.7735  0.8471   \n",
       "\n",
       "                                                    F measure  \n",
       "Results of nn_log_mel_grill with 3 seconds tole...     0.8057  "
      ]
     },
     "metadata": {},
     "output_type": "display_data"
    }
   ],
   "source": [
    "even_params, even_zero_five, even_three = tests.several_ranks_with_cross_validation_of_param_RWC(\"odd_songs\", \"even_songs\", feature,\n",
    "                                                       ranks_frequency = core_dimensions_list, ranks_rhythm = core_dimensions_list, ranks_pattern = core_dimensions_list, penalty_range = penalty_range, \n",
    "                                                       update_rule = \"mu\", beta = 0, annotations_type = \"MIREX10\", penalty_func = \"modulo8\", convolution_type = \"mixed\")"
   ]
  },
  {
   "cell_type": "code",
   "execution_count": 27,
   "id": "81902280",
   "metadata": {
    "ExecuteTime": {
     "end_time": "2021-10-05T19:39:26.868132Z",
     "start_time": "2021-10-05T19:39:26.861151Z"
    }
   },
   "outputs": [
    {
     "name": "stdout",
     "output_type": "stream",
     "text": [
      "0.5 seconds: [0.5587550000000001, 0.6168659999999999, 0.5812729999999999]\n",
      "3 seconds: [0.7403569999999999, 0.8186, 0.771405]\n"
     ]
    }
   ],
   "source": [
    "print(f\"0.5 seconds: {[(odd_zero_five[i] + even_zero_five[i])/2 for i in range(3,6)]}\")\n",
    "print(f\"3 seconds: {[(odd_three[i] + even_three[i])/2 for i in range(3,6)]}\")"
   ]
  }
 ],
 "metadata": {
  "kernelspec": {
   "display_name": "Python 3",
   "language": "python",
   "name": "python3"
  },
  "language_info": {
   "codemirror_mode": {
    "name": "ipython",
    "version": 3
   },
   "file_extension": ".py",
   "mimetype": "text/x-python",
   "name": "python",
   "nbconvert_exporter": "python",
   "pygments_lexer": "ipython3",
   "version": "3.7.6"
  },
  "toc": {
   "base_numbering": 1,
   "nav_menu": {},
   "number_sections": true,
   "sideBar": true,
   "skip_h1_title": false,
   "title_cell": "Table of Contents",
   "title_sidebar": "Contents",
   "toc_cell": false,
   "toc_position": {},
   "toc_section_display": true,
   "toc_window_display": false
  },
  "varInspector": {
   "cols": {
    "lenName": 16,
    "lenType": 16,
    "lenVar": 40
   },
   "kernels_config": {
    "python": {
     "delete_cmd_postfix": "",
     "delete_cmd_prefix": "del ",
     "library": "var_list.py",
     "varRefreshCmd": "print(var_dic_list())"
    },
    "r": {
     "delete_cmd_postfix": ") ",
     "delete_cmd_prefix": "rm(",
     "library": "var_list.r",
     "varRefreshCmd": "cat(var_dic_list()) "
    }
   },
   "types_to_exclude": [
    "module",
    "function",
    "builtin_function_or_method",
    "instance",
    "_Feature"
   ],
   "window_display": false
  }
 },
 "nbformat": 4,
 "nbformat_minor": 5
}
